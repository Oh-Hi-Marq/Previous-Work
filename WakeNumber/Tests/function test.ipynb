{
 "cells": [
  {
   "cell_type": "code",
   "execution_count": 12,
   "id": "36d517ae",
   "metadata": {},
   "outputs": [],
   "source": [
    "from scholarly import scholarly\n",
    "import ast\n",
    "import pandas as pd"
   ]
  },
  {
   "cell_type": "code",
   "execution_count": 13,
   "id": "0ae8d744",
   "metadata": {},
   "outputs": [],
   "source": [
    "def filter1(pair):\n",
    "    wanted_keys = ['coauthors']\n",
    "    key, value = pair\n",
    "    if key in wanted_keys:\n",
    "        return True  # keep pair in the filtered dictionary\n",
    "    else:\n",
    "        return False  # filter pair out of the dictionary"
   ]
  },
  {
   "cell_type": "code",
   "execution_count": 14,
   "id": "d1c54d73",
   "metadata": {},
   "outputs": [],
   "source": [
    "def test(lsts, key):\n",
    "  return [x.get(key) for x in lsts]"
   ]
  },
  {
   "cell_type": "code",
   "execution_count": 15,
   "id": "85c57519",
   "metadata": {},
   "outputs": [],
   "source": [
    "def wake_df(id, rank):\n",
    "    wake_list = ast.literal_eval(str(dict(filter(filter1, scholarly.fill(scholarly.search_author_id(id), sections=['coauthors']).items()))).replace(\"{'coauthors': \",'').replace(\"]}\",'').replace(\"'source': <AuthorSource.CO_AUTHORS_LIST: 'CO_AUTHORS_LIST'>,\",'') + ']')\n",
    "    wake_dict = {test(wake_list, 'name')[i]: test(wake_list, 'scholar_id')[i] for i in range(len(test(wake_list, 'name')))}\n",
    "    wake_1 = pd.DataFrame.from_dict(wake_dict, orient='index').reset_index()\n",
    "    wake_1.columns = ['Name', 'ID']\n",
    "    wake_1['Wake #'] = rank\n",
    "    wake1 = wake_1.set_index('Wake #')\n",
    "    return wake1"
   ]
  },
  {
   "cell_type": "code",
   "execution_count": 23,
   "id": "9b8bdf95",
   "metadata": {},
   "outputs": [
    {
     "data": {
      "text/html": [
       "<div>\n",
       "<style scoped>\n",
       "    .dataframe tbody tr th:only-of-type {\n",
       "        vertical-align: middle;\n",
       "    }\n",
       "\n",
       "    .dataframe tbody tr th {\n",
       "        vertical-align: top;\n",
       "    }\n",
       "\n",
       "    .dataframe thead th {\n",
       "        text-align: right;\n",
       "    }\n",
       "</style>\n",
       "<table border=\"1\" class=\"dataframe\">\n",
       "  <thead>\n",
       "    <tr style=\"text-align: right;\">\n",
       "      <th></th>\n",
       "      <th>Name</th>\n",
       "      <th>ID</th>\n",
       "    </tr>\n",
       "    <tr>\n",
       "      <th>Wake #</th>\n",
       "      <th></th>\n",
       "      <th></th>\n",
       "    </tr>\n",
       "  </thead>\n",
       "  <tbody>\n",
       "    <tr>\n",
       "      <th>1</th>\n",
       "      <td>Stephen Randal Voss</td>\n",
       "      <td>QIo-GY4AAAAJ</td>\n",
       "    </tr>\n",
       "    <tr>\n",
       "      <th>1</th>\n",
       "      <td>Robert B. Page</td>\n",
       "      <td>rrC_pxsAAAAJ</td>\n",
       "    </tr>\n",
       "    <tr>\n",
       "      <th>1</th>\n",
       "      <td>James R. Monaghan</td>\n",
       "      <td>kdOUkAEAAAAJ</td>\n",
       "    </tr>\n",
       "    <tr>\n",
       "      <th>1</th>\n",
       "      <td>Andrew Storfer</td>\n",
       "      <td>mIIzkBcAAAAJ</td>\n",
       "    </tr>\n",
       "    <tr>\n",
       "      <th>1</th>\n",
       "      <td>Travis J. Ryan</td>\n",
       "      <td>gLW69DEAAAAJ</td>\n",
       "    </tr>\n",
       "    <tr>\n",
       "      <th>1</th>\n",
       "      <td>Scott Pronych</td>\n",
       "      <td>NVp0SLUAAAAJ</td>\n",
       "    </tr>\n",
       "    <tr>\n",
       "      <th>1</th>\n",
       "      <td>Dean Adams</td>\n",
       "      <td>u2-9j0YAAAAJ</td>\n",
       "    </tr>\n",
       "    <tr>\n",
       "      <th>1</th>\n",
       "      <td>Dustin Siegel</td>\n",
       "      <td>4P7zj0sAAAAJ</td>\n",
       "    </tr>\n",
       "    <tr>\n",
       "      <th>1</th>\n",
       "      <td>David M. Sever</td>\n",
       "      <td>iY7TklEAAAAJ</td>\n",
       "    </tr>\n",
       "    <tr>\n",
       "      <th>1</th>\n",
       "      <td>Cari-Ann M. Hickerson</td>\n",
       "      <td>HTxM0sAAAAAJ</td>\n",
       "    </tr>\n",
       "    <tr>\n",
       "      <th>1</th>\n",
       "      <td>David Smith</td>\n",
       "      <td>ARUXFgMAAAAJ</td>\n",
       "    </tr>\n",
       "  </tbody>\n",
       "</table>\n",
       "</div>"
      ],
      "text/plain": [
       "                         Name            ID\n",
       "Wake #                                     \n",
       "1         Stephen Randal Voss  QIo-GY4AAAAJ\n",
       "1              Robert B. Page  rrC_pxsAAAAJ\n",
       "1           James R. Monaghan  kdOUkAEAAAAJ\n",
       "1              Andrew Storfer  mIIzkBcAAAAJ\n",
       "1              Travis J. Ryan  gLW69DEAAAAJ\n",
       "1               Scott Pronych  NVp0SLUAAAAJ\n",
       "1                  Dean Adams  u2-9j0YAAAAJ\n",
       "1               Dustin Siegel  4P7zj0sAAAAJ\n",
       "1              David M. Sever  iY7TklEAAAAJ\n",
       "1       Cari-Ann M. Hickerson  HTxM0sAAAAAJ\n",
       "1                 David Smith  ARUXFgMAAAAJ"
      ]
     },
     "execution_count": 23,
     "metadata": {},
     "output_type": "execute_result"
    }
   ],
   "source": [
    "wake_df('HSOT-GcAAAAJ', 1)"
   ]
  },
  {
   "cell_type": "code",
   "execution_count": null,
   "id": "d0e41360",
   "metadata": {},
   "outputs": [],
   "source": []
  }
 ],
 "metadata": {
  "kernelspec": {
   "display_name": "Python 3 (ipykernel)",
   "language": "python",
   "name": "python3"
  },
  "language_info": {
   "codemirror_mode": {
    "name": "ipython",
    "version": 3
   },
   "file_extension": ".py",
   "mimetype": "text/x-python",
   "name": "python",
   "nbconvert_exporter": "python",
   "pygments_lexer": "ipython3",
   "version": "3.8.16"
  }
 },
 "nbformat": 4,
 "nbformat_minor": 5
}
