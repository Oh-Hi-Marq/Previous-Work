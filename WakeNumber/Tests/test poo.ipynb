{
 "cells": [
  {
   "cell_type": "code",
   "execution_count": 153,
   "id": "e110164a",
   "metadata": {},
   "outputs": [],
   "source": [
    "from scholarly import scholarly\n",
    "import pandas as pd\n",
    "import numpy as np\n",
    "from collections import defaultdict"
   ]
  },
  {
   "cell_type": "code",
   "execution_count": 14,
   "id": "4048ea7d",
   "metadata": {
    "scrolled": false
   },
   "outputs": [],
   "source": [
    "poop = scholarly.fill(scholarly.search_author_id('jNUs6LsAAAAJ'), sections=['coauthors'])"
   ]
  },
  {
   "cell_type": "code",
   "execution_count": 36,
   "id": "959f3413",
   "metadata": {},
   "outputs": [
    {
     "data": {
      "text/plain": [
       "{'container_type': 'Author',\n",
       " 'filled': ['basics', 'coauthors'],\n",
       " 'scholar_id': 'jNUs6LsAAAAJ',\n",
       " 'source': <AuthorSource.AUTHOR_PROFILE_PAGE: 'AUTHOR_PROFILE_PAGE'>,\n",
       " 'name': 'David B. Wake',\n",
       " 'url_picture': 'https://scholar.googleusercontent.com/citations?view_op=view_photo&user=jNUs6LsAAAAJ&citpid=2',\n",
       " 'affiliation': 'Professor of the Graduate School in Integrative Biology, University of California at Berkeley',\n",
       " 'organization': 11816294095661060495,\n",
       " 'interests': ['evolutionary biology',\n",
       "  'systematics',\n",
       "  'morphology',\n",
       "  'conservation'],\n",
       " 'email_domain': '@berkeley.edu',\n",
       " 'homepage': 'http://ib.berkeley.edu/labs/wake/wakelab.htm',\n",
       " 'citedby': 32798,\n",
       " 'coauthors': [{'container_type': 'Author',\n",
       "   'filled': [],\n",
       "   'scholar_id': 'gNU5tAwAAAAJ',\n",
       "   'source': <AuthorSource.CO_AUTHORS_LIST: 'CO_AUTHORS_LIST'>,\n",
       "   'name': 'Gabriela Parra',\n",
       "   'affiliation': 'professor of biology'},\n",
       "  {'container_type': 'Author',\n",
       "   'filled': [],\n",
       "   'scholar_id': '-b-tzzgAAAAJ',\n",
       "   'source': <AuthorSource.CO_AUTHORS_LIST: 'CO_AUTHORS_LIST'>,\n",
       "   'name': 'Theodore Papenfuss',\n",
       "   'affiliation': 'UC Berkeley'},\n",
       "  {'container_type': 'Author',\n",
       "   'filled': [],\n",
       "   'scholar_id': '7LURe94AAAAJ',\n",
       "   'source': <AuthorSource.CO_AUTHORS_LIST: 'CO_AUTHORS_LIST'>,\n",
       "   'name': 'James Hanken',\n",
       "   'affiliation': 'Alexander Agassiz Professor of Zoology and Curator in Herpetology, Museum of …'},\n",
       "  {'container_type': 'Author',\n",
       "   'filled': [],\n",
       "   'scholar_id': 'Wcv04-0AAAAJ',\n",
       "   'source': <AuthorSource.CO_AUTHORS_LIST: 'CO_AUTHORS_LIST'>,\n",
       "   'name': 'Andrew R. Blaustein',\n",
       "   'affiliation': 'Professor, Integrative Biology, Oregon State University'},\n",
       "  {'container_type': 'Author',\n",
       "   'filled': [],\n",
       "   'scholar_id': 'khsdwwEAAAAJ',\n",
       "   'source': <AuthorSource.CO_AUTHORS_LIST: 'CO_AUTHORS_LIST'>,\n",
       "   'name': 'Mario García París',\n",
       "   'affiliation': 'Museo Nacional de Ciencias Naturales / National Museum of Natural Sciences, MNCN …'},\n",
       "  {'container_type': 'Author',\n",
       "   'filled': [],\n",
       "   'scholar_id': 'x20bM6cAAAAJ',\n",
       "   'source': <AuthorSource.CO_AUTHORS_LIST: 'CO_AUTHORS_LIST'>,\n",
       "   'name': 'Marvalee H. Wake',\n",
       "   'affiliation': 'Professor of Integrative Biology, Univ. California, Berkeley'},\n",
       "  {'container_type': 'Author',\n",
       "   'filled': [],\n",
       "   'scholar_id': 'BOCmDQIAAAAJ',\n",
       "   'source': <AuthorSource.CO_AUTHORS_LIST: 'CO_AUTHORS_LIST'>,\n",
       "   'name': 'Sean M. Rovito',\n",
       "   'affiliation': 'Laboratorio Nacional de Genómica para la Biodiversidad, Irapuato, Mexico'},\n",
       "  {'container_type': 'Author',\n",
       "   'filled': [],\n",
       "   'scholar_id': 'p_VFa48AAAAJ',\n",
       "   'source': <AuthorSource.CO_AUTHORS_LIST: 'CO_AUTHORS_LIST'>,\n",
       "   'name': 'Vance Vredenburg',\n",
       "   'affiliation': 'Professor, San Francisco State University'},\n",
       "  {'container_type': 'Author',\n",
       "   'filled': [],\n",
       "   'scholar_id': 'i7VQcR8AAAAJ',\n",
       "   'source': <AuthorSource.CO_AUTHORS_LIST: 'CO_AUTHORS_LIST'>,\n",
       "   'name': 'stephen j gould',\n",
       "   'affiliation': ''},\n",
       "  {'container_type': 'Author',\n",
       "   'filled': [],\n",
       "   'scholar_id': 'jgWZfZ0AAAAJ',\n",
       "   'source': <AuthorSource.CO_AUTHORS_LIST: 'CO_AUTHORS_LIST'>,\n",
       "   'name': 'David Vieites',\n",
       "   'affiliation': 'Senior Research Scientist at the Spanish Research Council - CSIC'},\n",
       "  {'container_type': 'Author',\n",
       "   'filled': [],\n",
       "   'scholar_id': 'lLze8eYAAAAJ',\n",
       "   'source': <AuthorSource.CO_AUTHORS_LIST: 'CO_AUTHORS_LIST'>,\n",
       "   'name': 'Craig Moritz',\n",
       "   'affiliation': 'Professor and ARC Laureate Fellow, The Australian National University'},\n",
       "  {'container_type': 'Author',\n",
       "   'filled': [],\n",
       "   'scholar_id': 'pCV2bLAAAAAJ',\n",
       "   'source': <AuthorSource.CO_AUTHORS_LIST: 'CO_AUTHORS_LIST'>,\n",
       "   'name': 'Kiisa Nishikawa',\n",
       "   'affiliation': 'Northern Arizona University'},\n",
       "  {'container_type': 'Author',\n",
       "   'filled': [],\n",
       "   'scholar_id': 'uw9KqJQAAAAJ',\n",
       "   'source': <AuthorSource.CO_AUTHORS_LIST: 'CO_AUTHORS_LIST'>,\n",
       "   'name': 'Carlos R. Vasquez-Almazan',\n",
       "   'affiliation': 'Curador Anfibios y Reptiles Museo de Historia Natural Universidad de San carlos de …'},\n",
       "  {'container_type': 'Author',\n",
       "   'filled': [],\n",
       "   'scholar_id': 'ixMvlw8AAAAJ',\n",
       "   'source': <AuthorSource.CO_AUTHORS_LIST: 'CO_AUTHORS_LIST'>,\n",
       "   'name': 'David Cannatella',\n",
       "   'affiliation': 'Professor of Biology, University of Texas'},\n",
       "  {'container_type': 'Author',\n",
       "   'filled': [],\n",
       "   'scholar_id': 'IRiLeFEAAAAJ',\n",
       "   'source': <AuthorSource.CO_AUTHORS_LIST: 'CO_AUTHORS_LIST'>,\n",
       "   'name': 'Ronald Bonett',\n",
       "   'affiliation': 'Professor of Biological Science, University of Tulsa'},\n",
       "  {'container_type': 'Author',\n",
       "   'filled': [],\n",
       "   'scholar_id': 'b30fh-wAAAAJ',\n",
       "   'source': <AuthorSource.CO_AUTHORS_LIST: 'CO_AUTHORS_LIST'>,\n",
       "   'name': 'Rachel Lockridge Mueller',\n",
       "   'affiliation': 'Professor of Biology, Colorado State University'},\n",
       "  {'container_type': 'Author',\n",
       "   'filled': [],\n",
       "   'scholar_id': 'XB_ZhjUAAAAJ',\n",
       "   'source': <AuthorSource.CO_AUTHORS_LIST: 'CO_AUTHORS_LIST'>,\n",
       "   'name': 'Linda Maxson',\n",
       "   'affiliation': 'Professor Emerita,  Biology, University of Iowa'},\n",
       "  {'container_type': 'Author',\n",
       "   'filled': [],\n",
       "   'scholar_id': 'Uqm_4EQAAAAJ',\n",
       "   'source': <AuthorSource.CO_AUTHORS_LIST: 'CO_AUTHORS_LIST'>,\n",
       "   'name': 'David C. Blackburn',\n",
       "   'affiliation': 'Florida Museum of Natural History, University of Florida'},\n",
       "  {'container_type': 'Author',\n",
       "   'filled': [],\n",
       "   'scholar_id': 'TUgQVOYAAAAJ',\n",
       "   'source': <AuthorSource.CO_AUTHORS_LIST: 'CO_AUTHORS_LIST'>,\n",
       "   'name': 'David M. Hillis',\n",
       "   'affiliation': 'Professor of Integrative Biology, University of Texas at Austin'},\n",
       "  {'container_type': 'Author',\n",
       "   'filled': [],\n",
       "   'scholar_id': 'dh6KLl8AAAAJ',\n",
       "   'source': <AuthorSource.CO_AUTHORS_LIST: 'CO_AUTHORS_LIST'>,\n",
       "   'name': 'Christopher J. Schneider',\n",
       "   'affiliation': 'Boston University'},\n",
       "  {'container_type': 'Author',\n",
       "   'filled': [],\n",
       "   'scholar_id': 'hjgJXSEAAAAJ',\n",
       "   'source': <AuthorSource.CO_AUTHORS_LIST: 'CO_AUTHORS_LIST'>,\n",
       "   'name': 'Stephen M. Deban',\n",
       "   'affiliation': 'Professor, Integrative Biology, University of South Florida'},\n",
       "  {'container_type': 'Author',\n",
       "   'filled': [],\n",
       "   'scholar_id': 'YVFHQagAAAAJ',\n",
       "   'source': <AuthorSource.CO_AUTHORS_LIST: 'CO_AUTHORS_LIST'>,\n",
       "   'name': 'Gunter Wagner',\n",
       "   'affiliation': 'Professor Emeritus of Ecology and Evolutionary Biology, Yale University'},\n",
       "  {'container_type': 'Author',\n",
       "   'filled': [],\n",
       "   'scholar_id': 'Bz1Tx5wAAAAJ',\n",
       "   'source': <AuthorSource.CO_AUTHORS_LIST: 'CO_AUTHORS_LIST'>,\n",
       "   'name': 'Matthias Stöck',\n",
       "   'affiliation': 'Leibniz-Institute of Freshwater Ecology and Inland Fisheries - IGB'},\n",
       "  {'container_type': 'Author',\n",
       "   'filled': [],\n",
       "   'scholar_id': 'qEFTmfkAAAAJ',\n",
       "   'source': <AuthorSource.CO_AUTHORS_LIST: 'CO_AUTHORS_LIST'>,\n",
       "   'name': 'David Buckley',\n",
       "   'affiliation': 'Assistant Professor, Universidad Autónoma de Madrid - UAM'},\n",
       "  {'container_type': 'Author',\n",
       "   'filled': [],\n",
       "   'scholar_id': '3hjBzeYAAAAJ',\n",
       "   'source': <AuthorSource.CO_AUTHORS_LIST: 'CO_AUTHORS_LIST'>,\n",
       "   'name': 'Ricardo J Pereira',\n",
       "   'affiliation': 'LMU-Munich'},\n",
       "  {'container_type': 'Author',\n",
       "   'filled': [],\n",
       "   'scholar_id': '2s4PvKAAAAAJ',\n",
       "   'source': <AuthorSource.CO_AUTHORS_LIST: 'CO_AUTHORS_LIST'>,\n",
       "   'name': 'Jonathan A. Campbell',\n",
       "   'affiliation': ''},\n",
       "  {'container_type': 'Author',\n",
       "   'filled': [],\n",
       "   'scholar_id': 'rk0_IlUAAAAJ',\n",
       "   'source': <AuthorSource.CO_AUTHORS_LIST: 'CO_AUTHORS_LIST'>,\n",
       "   'name': 'Jeffrey Boore',\n",
       "   'affiliation': 'Chief Technology Officer, Phenome Health'},\n",
       "  {'container_type': 'Author',\n",
       "   'filled': [],\n",
       "   'scholar_id': 'qrwgjKUAAAAJ',\n",
       "   'source': <AuthorSource.CO_AUTHORS_LIST: 'CO_AUTHORS_LIST'>,\n",
       "   'name': 'Sean B. Reilly',\n",
       "   'affiliation': 'UC Santa Cruz'},\n",
       "  {'container_type': 'Author',\n",
       "   'filled': [],\n",
       "   'scholar_id': 'JDQ50S8AAAAJ',\n",
       "   'source': <AuthorSource.CO_AUTHORS_LIST: 'CO_AUTHORS_LIST'>,\n",
       "   'name': 'Shawn Kuchta',\n",
       "   'affiliation': 'Ohio University'},\n",
       "  {'container_type': 'Author',\n",
       "   'filled': [],\n",
       "   'scholar_id': '4iip0kQAAAAJ',\n",
       "   'source': <AuthorSource.CO_AUTHORS_LIST: 'CO_AUTHORS_LIST'>,\n",
       "   'name': 'Iñigo Martínez-Solano',\n",
       "   'affiliation': 'Científico Titular, Museo Nacional de Ciencias Naturales (MNCN-CSIC)'},\n",
       "  {'container_type': 'Author',\n",
       "   'filled': [],\n",
       "   'scholar_id': 'X4hbN-IAAAAJ',\n",
       "   'source': <AuthorSource.CO_AUTHORS_LIST: 'CO_AUTHORS_LIST'>,\n",
       "   'name': 'Todd Jackman',\n",
       "   'affiliation': 'Villanova University'},\n",
       "  {'container_type': 'Author',\n",
       "   'filled': [],\n",
       "   'scholar_id': 'rhum600AAAAJ',\n",
       "   'source': <AuthorSource.CO_AUTHORS_LIST: 'CO_AUTHORS_LIST'>,\n",
       "   'name': 'Sandra Nieto-Román; Nieto-Roman, S; Alejandra Nieto-Román',\n",
       "   'affiliation': 'National Museum of Natural Sciences in Madrid'},\n",
       "  {'container_type': 'Author',\n",
       "   'filled': [],\n",
       "   'scholar_id': '0b1l8W0AAAAJ',\n",
       "   'source': <AuthorSource.CO_AUTHORS_LIST: 'CO_AUTHORS_LIST'>,\n",
       "   'name': 'Federico Bolaños',\n",
       "   'affiliation': 'Escuela de Biología, Universidad de Costa Rica'},\n",
       "  {'container_type': 'Author',\n",
       "   'filled': [],\n",
       "   'scholar_id': 'OafZcSMAAAAJ',\n",
       "   'source': <AuthorSource.CO_AUTHORS_LIST: 'CO_AUTHORS_LIST'>,\n",
       "   'name': 'Kellar Autumn',\n",
       "   'affiliation': 'Professor of Biology, Lewis & Clark College'},\n",
       "  {'container_type': 'Author',\n",
       "   'filled': [],\n",
       "   'scholar_id': '1WIPsm0AAAAJ',\n",
       "   'source': <AuthorSource.CO_AUTHORS_LIST: 'CO_AUTHORS_LIST'>,\n",
       "   'name': 'Michael J. Ryan',\n",
       "   'affiliation': 'Professor of Integrative Biology'},\n",
       "  {'container_type': 'Author',\n",
       "   'filled': [],\n",
       "   'scholar_id': 'XLYvOpMAAAAJ',\n",
       "   'source': <AuthorSource.CO_AUTHORS_LIST: 'CO_AUTHORS_LIST'>,\n",
       "   'name': 'Andrew J. Crawford',\n",
       "   'affiliation': 'Universidad de los Andes, Colombia'},\n",
       "  {'container_type': 'Author',\n",
       "   'filled': [],\n",
       "   'scholar_id': 'XaY6DN8AAAAJ',\n",
       "   'source': <AuthorSource.CO_AUTHORS_LIST: 'CO_AUTHORS_LIST'>,\n",
       "   'name': 'MJ Hickerson',\n",
       "   'affiliation': 'Professor, City University of New york, City College'},\n",
       "  {'container_type': 'Author',\n",
       "   'filled': [],\n",
       "   'scholar_id': 'KRCDDGoAAAAJ',\n",
       "   'source': <AuthorSource.CO_AUTHORS_LIST: 'CO_AUTHORS_LIST'>,\n",
       "   'name': 'Stuart JE Baird',\n",
       "   'affiliation': 'IVB, Czech Academy of Sciences, Czech Republic; INRA, France.'},\n",
       "  {'container_type': 'Author',\n",
       "   'filled': [],\n",
       "   'scholar_id': 'WUFF6hMAAAAJ',\n",
       "   'source': <AuthorSource.CO_AUTHORS_LIST: 'CO_AUTHORS_LIST'>,\n",
       "   'name': 'Catherine H. Graham',\n",
       "   'affiliation': 'Swiss Federal Research Institute (WSL)'},\n",
       "  {'container_type': 'Author',\n",
       "   'filled': [],\n",
       "   'scholar_id': 'NWdPabcAAAAJ',\n",
       "   'source': <AuthorSource.CO_AUTHORS_LIST: 'CO_AUTHORS_LIST'>,\n",
       "   'name': 'Robert J. Hijmans',\n",
       "   'affiliation': 'Department of Environmental Science and Policy, University of California, Davis'},\n",
       "  {'container_type': 'Author',\n",
       "   'filled': [],\n",
       "   'scholar_id': 'N5WBppcAAAAJ',\n",
       "   'source': <AuthorSource.CO_AUTHORS_LIST: 'CO_AUTHORS_LIST'>,\n",
       "   'name': 'Miguel Vences',\n",
       "   'affiliation': 'Professor for Evolutionary Biology, Technische Universität Braunschweig'},\n",
       "  {'container_type': 'Author',\n",
       "   'filled': [],\n",
       "   'scholar_id': 'G-2IS0oAAAAJ',\n",
       "   'source': <AuthorSource.CO_AUTHORS_LIST: 'CO_AUTHORS_LIST'>,\n",
       "   'name': 'Kurt Schwenk',\n",
       "   'affiliation': 'Professor of Ecology and Evolutionary Biology, University of Connecticut'},\n",
       "  {'container_type': 'Author',\n",
       "   'filled': [],\n",
       "   'scholar_id': 'gBsUGUgAAAAJ',\n",
       "   'source': <AuthorSource.CO_AUTHORS_LIST: 'CO_AUTHORS_LIST'>,\n",
       "   'name': 'Roland Knapp',\n",
       "   'affiliation': 'Sierra Nevada Aquatic Research Laboratory'},\n",
       "  {'container_type': 'Author',\n",
       "   'filled': [],\n",
       "   'scholar_id': 'PQou6IoAAAAJ',\n",
       "   'source': <AuthorSource.CO_AUTHORS_LIST: 'CO_AUTHORS_LIST'>,\n",
       "   'name': 'Josiah Townsend',\n",
       "   'affiliation': 'Professor, Indiana University of Pennsylvania'},\n",
       "  {'container_type': 'Author',\n",
       "   'filled': [],\n",
       "   'scholar_id': 'QxtdTNsAAAAJ',\n",
       "   'source': <AuthorSource.CO_AUTHORS_LIST: 'CO_AUTHORS_LIST'>,\n",
       "   'name': 'João Alexandrino',\n",
       "   'affiliation': 'Universidade Federal de São Paulo'},\n",
       "  {'container_type': 'Author',\n",
       "   'filled': [],\n",
       "   'scholar_id': 'U4R0tg8AAAAJ',\n",
       "   'source': <AuthorSource.CO_AUTHORS_LIST: 'CO_AUTHORS_LIST'>,\n",
       "   'name': 'Kathryn R. Elmer',\n",
       "   'affiliation': 'Professor, School of Biodiversity, One Health & Veterinary Medicine (SBOHVM), University …'},\n",
       "  {'container_type': 'Author',\n",
       "   'filled': [],\n",
       "   'scholar_id': 'F1Nh9xgAAAAJ',\n",
       "   'source': <AuthorSource.CO_AUTHORS_LIST: 'CO_AUTHORS_LIST'>,\n",
       "   'name': 'Stephen C. Lougheed',\n",
       "   'affiliation': \"Professor of Biology, Queen's University\"},\n",
       "  {'container_type': 'Author',\n",
       "   'filled': [],\n",
       "   'scholar_id': 'gDgAYBoAAAAJ',\n",
       "   'source': <AuthorSource.CO_AUTHORS_LIST: 'CO_AUTHORS_LIST'>,\n",
       "   'name': 'William E. Peterman',\n",
       "   'affiliation': 'Associate Professor, Ohio State University'},\n",
       "  {'container_type': 'Author',\n",
       "   'filled': [],\n",
       "   'scholar_id': 'NcGkPjkAAAAJ',\n",
       "   'source': <AuthorSource.CO_AUTHORS_LIST: 'CO_AUTHORS_LIST'>,\n",
       "   'name': 'John Maerz',\n",
       "   'affiliation': 'Carey Distinguished Professor of Natural Resources and Josiah Meigs Distinguished …'},\n",
       "  {'container_type': 'Author',\n",
       "   'filled': [],\n",
       "   'scholar_id': 'UhoYA-4AAAAJ',\n",
       "   'source': <AuthorSource.CO_AUTHORS_LIST: 'CO_AUTHORS_LIST'>,\n",
       "   'name': 'Joe Milanovich',\n",
       "   'affiliation': 'Loyola University Chicago'},\n",
       "  {'container_type': 'Author',\n",
       "   'filled': [],\n",
       "   'scholar_id': 'eslOPdYAAAAJ',\n",
       "   'source': <AuthorSource.CO_AUTHORS_LIST: 'CO_AUTHORS_LIST'>,\n",
       "   'name': 'Kelly Zamudio',\n",
       "   'affiliation': 'Integrative Biology, University of Texas at Austin'},\n",
       "  {'container_type': 'Author',\n",
       "   'filled': [],\n",
       "   'scholar_id': 'GLPhVvwAAAAJ',\n",
       "   'source': <AuthorSource.CO_AUTHORS_LIST: 'CO_AUTHORS_LIST'>,\n",
       "   'name': 'Lauren Chan',\n",
       "   'affiliation': 'Pacific University'},\n",
       "  {'container_type': 'Author',\n",
       "   'filled': [],\n",
       "   'scholar_id': 'OgEZg-8AAAAJ',\n",
       "   'source': <AuthorSource.CO_AUTHORS_LIST: 'CO_AUTHORS_LIST'>,\n",
       "   'name': 'Ella Vázquez Domínguez',\n",
       "   'affiliation': 'Instituto de Ecología'},\n",
       "  {'container_type': 'Author',\n",
       "   'filled': [],\n",
       "   'scholar_id': 'ng_vopMAAAAJ',\n",
       "   'source': <AuthorSource.CO_AUTHORS_LIST: 'CO_AUTHORS_LIST'>,\n",
       "   'name': 'Miguel A Alonso-Zarazaga',\n",
       "   'affiliation': 'Entomologist, Retired Scientist, Museo Nacional de Ciencias Naturales (CSIC)'},\n",
       "  {'container_type': 'Author',\n",
       "   'filled': [],\n",
       "   'scholar_id': 'xOxeEpcAAAAJ',\n",
       "   'source': <AuthorSource.CO_AUTHORS_LIST: 'CO_AUTHORS_LIST'>,\n",
       "   'name': 'Alfredo Salvador',\n",
       "   'affiliation': 'Museo Nacional de Ciencias Naturales, CSIC'}]}"
      ]
     },
     "execution_count": 36,
     "metadata": {},
     "output_type": "execute_result"
    }
   ],
   "source": [
    "poop"
   ]
  },
  {
   "cell_type": "code",
   "execution_count": 49,
   "id": "a976ef07",
   "metadata": {},
   "outputs": [],
   "source": [
    "crap=pd.read_csv('C:/Users/march/Coauthors/rank_1_coauthors')"
   ]
  },
  {
   "cell_type": "code",
   "execution_count": 50,
   "id": "4b1ac782",
   "metadata": {
    "scrolled": true
   },
   "outputs": [
    {
     "name": "stdout",
     "output_type": "stream",
     "text": [
      "                                                 name            id\n",
      "0                                      Gabriela Parra  gNU5tAwAAAAJ\n",
      "1                                  Theodore Papenfuss  -b-tzzgAAAAJ\n",
      "2                                        James Hanken  7LURe94AAAAJ\n",
      "3                                 Andrew R. Blaustein  Wcv04-0AAAAJ\n",
      "4                                  Mario García París  khsdwwEAAAAJ\n",
      "5                                    Marvalee H. Wake  x20bM6cAAAAJ\n",
      "6                                      Sean M. Rovito  BOCmDQIAAAAJ\n",
      "7                                    Vance Vredenburg  p_VFa48AAAAJ\n",
      "8                                     stephen j gould  i7VQcR8AAAAJ\n",
      "9                                       David Vieites  jgWZfZ0AAAAJ\n",
      "10                                       Craig Moritz  lLze8eYAAAAJ\n",
      "11                                    Kiisa Nishikawa  pCV2bLAAAAAJ\n",
      "12                          Carlos R. Vasquez-Almazan  uw9KqJQAAAAJ\n",
      "13                                   David Cannatella  ixMvlw8AAAAJ\n",
      "14                                      Ronald Bonett  IRiLeFEAAAAJ\n",
      "15                           Rachel Lockridge Mueller  b30fh-wAAAAJ\n",
      "16                                       Linda Maxson  XB_ZhjUAAAAJ\n",
      "17                                 David C. Blackburn  Uqm_4EQAAAAJ\n",
      "18                                    David M. Hillis  TUgQVOYAAAAJ\n",
      "19                           Christopher J. Schneider  dh6KLl8AAAAJ\n",
      "20                                   Stephen M. Deban  hjgJXSEAAAAJ\n",
      "21                                      Gunter Wagner  YVFHQagAAAAJ\n",
      "22                                     Matthias Stöck  Bz1Tx5wAAAAJ\n",
      "23                                      David Buckley  qEFTmfkAAAAJ\n",
      "24                                  Ricardo J Pereira  3hjBzeYAAAAJ\n",
      "25                               Jonathan A. Campbell  2s4PvKAAAAAJ\n",
      "26                                      Jeffrey Boore  rk0_IlUAAAAJ\n",
      "27                                     Sean B. Reilly  qrwgjKUAAAAJ\n",
      "28                                       Shawn Kuchta  JDQ50S8AAAAJ\n",
      "29                              Iñigo Martínez-Solano  4iip0kQAAAAJ\n",
      "30                                       Todd Jackman  X4hbN-IAAAAJ\n",
      "31  Sandra Nieto-Román; Nieto-Roman, S; Alejandra ...  rhum600AAAAJ\n",
      "32                                   Federico Bolaños  0b1l8W0AAAAJ\n",
      "33                                      Kellar Autumn  OafZcSMAAAAJ\n",
      "34                                    Michael J. Ryan  1WIPsm0AAAAJ\n",
      "35                                 Andrew J. Crawford  XLYvOpMAAAAJ\n",
      "36                                       MJ Hickerson  XaY6DN8AAAAJ\n",
      "37                                    Stuart JE Baird  KRCDDGoAAAAJ\n",
      "38                                Catherine H. Graham  WUFF6hMAAAAJ\n",
      "39                                  Robert J. Hijmans  NWdPabcAAAAJ\n",
      "40                                      Miguel Vences  N5WBppcAAAAJ\n",
      "41                                       Kurt Schwenk  G-2IS0oAAAAJ\n",
      "42                                       Roland Knapp  gBsUGUgAAAAJ\n",
      "43                                    Josiah Townsend  PQou6IoAAAAJ\n",
      "44                                   João Alexandrino  QxtdTNsAAAAJ\n",
      "45                                   Kathryn R. Elmer  U4R0tg8AAAAJ\n",
      "46                                Stephen C. Lougheed  F1Nh9xgAAAAJ\n",
      "47                                William E. Peterman  gDgAYBoAAAAJ\n",
      "48                                         John Maerz  NcGkPjkAAAAJ\n",
      "49                                     Joe Milanovich  UhoYA-4AAAAJ\n",
      "50                                      Kelly Zamudio  eslOPdYAAAAJ\n",
      "51                                        Lauren Chan  GLPhVvwAAAAJ\n",
      "52                             Ella Vázquez Domínguez  OgEZg-8AAAAJ\n",
      "53                           Miguel A Alonso-Zarazaga  ng_vopMAAAAJ\n",
      "54                                   Alfredo Salvador  xOxeEpcAAAAJ\n"
     ]
    }
   ],
   "source": [
    "print(crap)"
   ]
  },
  {
   "cell_type": "code",
   "execution_count": 89,
   "id": "ab9797d8",
   "metadata": {},
   "outputs": [],
   "source": [
    "def my_filtering_function(pair):\n",
    "    wanted_keys = ['coauthors']\n",
    "    key, value = pair\n",
    "    if key in wanted_keys:\n",
    "        return True  # keep pair in the filtered dictionary\n",
    "    else:\n",
    "        return False  # filter pair out of the dictionary"
   ]
  },
  {
   "cell_type": "code",
   "execution_count": 90,
   "id": "4cc18cd8",
   "metadata": {},
   "outputs": [],
   "source": [
    "filtered_poop = dict(filter(my_filtering_function, poop.items()))"
   ]
  },
  {
   "cell_type": "code",
   "execution_count": 91,
   "id": "17f950ba",
   "metadata": {
    "scrolled": true
   },
   "outputs": [
    {
     "name": "stdout",
     "output_type": "stream",
     "text": [
      "{'coauthors': [{'container_type': 'Author', 'filled': [], 'scholar_id': 'gNU5tAwAAAAJ', 'source': <AuthorSource.CO_AUTHORS_LIST: 'CO_AUTHORS_LIST'>, 'name': 'Gabriela Parra', 'affiliation': 'professor of biology'}, {'container_type': 'Author', 'filled': [], 'scholar_id': '-b-tzzgAAAAJ', 'source': <AuthorSource.CO_AUTHORS_LIST: 'CO_AUTHORS_LIST'>, 'name': 'Theodore Papenfuss', 'affiliation': 'UC Berkeley'}, {'container_type': 'Author', 'filled': [], 'scholar_id': '7LURe94AAAAJ', 'source': <AuthorSource.CO_AUTHORS_LIST: 'CO_AUTHORS_LIST'>, 'name': 'James Hanken', 'affiliation': 'Alexander Agassiz Professor of Zoology and Curator in Herpetology, Museum of …'}, {'container_type': 'Author', 'filled': [], 'scholar_id': 'Wcv04-0AAAAJ', 'source': <AuthorSource.CO_AUTHORS_LIST: 'CO_AUTHORS_LIST'>, 'name': 'Andrew R. Blaustein', 'affiliation': 'Professor, Integrative Biology, Oregon State University'}, {'container_type': 'Author', 'filled': [], 'scholar_id': 'khsdwwEAAAAJ', 'source': <AuthorSource.CO_AUTHORS_LIST: 'CO_AUTHORS_LIST'>, 'name': 'Mario García París', 'affiliation': 'Museo Nacional de Ciencias Naturales / National Museum of Natural Sciences, MNCN …'}, {'container_type': 'Author', 'filled': [], 'scholar_id': 'x20bM6cAAAAJ', 'source': <AuthorSource.CO_AUTHORS_LIST: 'CO_AUTHORS_LIST'>, 'name': 'Marvalee H. Wake', 'affiliation': 'Professor of Integrative Biology, Univ. California, Berkeley'}, {'container_type': 'Author', 'filled': [], 'scholar_id': 'BOCmDQIAAAAJ', 'source': <AuthorSource.CO_AUTHORS_LIST: 'CO_AUTHORS_LIST'>, 'name': 'Sean M. Rovito', 'affiliation': 'Laboratorio Nacional de Genómica para la Biodiversidad, Irapuato, Mexico'}, {'container_type': 'Author', 'filled': [], 'scholar_id': 'p_VFa48AAAAJ', 'source': <AuthorSource.CO_AUTHORS_LIST: 'CO_AUTHORS_LIST'>, 'name': 'Vance Vredenburg', 'affiliation': 'Professor, San Francisco State University'}, {'container_type': 'Author', 'filled': [], 'scholar_id': 'i7VQcR8AAAAJ', 'source': <AuthorSource.CO_AUTHORS_LIST: 'CO_AUTHORS_LIST'>, 'name': 'stephen j gould', 'affiliation': ''}, {'container_type': 'Author', 'filled': [], 'scholar_id': 'jgWZfZ0AAAAJ', 'source': <AuthorSource.CO_AUTHORS_LIST: 'CO_AUTHORS_LIST'>, 'name': 'David Vieites', 'affiliation': 'Senior Research Scientist at the Spanish Research Council - CSIC'}, {'container_type': 'Author', 'filled': [], 'scholar_id': 'lLze8eYAAAAJ', 'source': <AuthorSource.CO_AUTHORS_LIST: 'CO_AUTHORS_LIST'>, 'name': 'Craig Moritz', 'affiliation': 'Professor and ARC Laureate Fellow, The Australian National University'}, {'container_type': 'Author', 'filled': [], 'scholar_id': 'pCV2bLAAAAAJ', 'source': <AuthorSource.CO_AUTHORS_LIST: 'CO_AUTHORS_LIST'>, 'name': 'Kiisa Nishikawa', 'affiliation': 'Northern Arizona University'}, {'container_type': 'Author', 'filled': [], 'scholar_id': 'uw9KqJQAAAAJ', 'source': <AuthorSource.CO_AUTHORS_LIST: 'CO_AUTHORS_LIST'>, 'name': 'Carlos R. Vasquez-Almazan', 'affiliation': 'Curador Anfibios y Reptiles Museo de Historia Natural Universidad de San carlos de …'}, {'container_type': 'Author', 'filled': [], 'scholar_id': 'ixMvlw8AAAAJ', 'source': <AuthorSource.CO_AUTHORS_LIST: 'CO_AUTHORS_LIST'>, 'name': 'David Cannatella', 'affiliation': 'Professor of Biology, University of Texas'}, {'container_type': 'Author', 'filled': [], 'scholar_id': 'IRiLeFEAAAAJ', 'source': <AuthorSource.CO_AUTHORS_LIST: 'CO_AUTHORS_LIST'>, 'name': 'Ronald Bonett', 'affiliation': 'Professor of Biological Science, University of Tulsa'}, {'container_type': 'Author', 'filled': [], 'scholar_id': 'b30fh-wAAAAJ', 'source': <AuthorSource.CO_AUTHORS_LIST: 'CO_AUTHORS_LIST'>, 'name': 'Rachel Lockridge Mueller', 'affiliation': 'Professor of Biology, Colorado State University'}, {'container_type': 'Author', 'filled': [], 'scholar_id': 'XB_ZhjUAAAAJ', 'source': <AuthorSource.CO_AUTHORS_LIST: 'CO_AUTHORS_LIST'>, 'name': 'Linda Maxson', 'affiliation': 'Professor Emerita,  Biology, University of Iowa'}, {'container_type': 'Author', 'filled': [], 'scholar_id': 'Uqm_4EQAAAAJ', 'source': <AuthorSource.CO_AUTHORS_LIST: 'CO_AUTHORS_LIST'>, 'name': 'David C. Blackburn', 'affiliation': 'Florida Museum of Natural History, University of Florida'}, {'container_type': 'Author', 'filled': [], 'scholar_id': 'TUgQVOYAAAAJ', 'source': <AuthorSource.CO_AUTHORS_LIST: 'CO_AUTHORS_LIST'>, 'name': 'David M. Hillis', 'affiliation': 'Professor of Integrative Biology, University of Texas at Austin'}, {'container_type': 'Author', 'filled': [], 'scholar_id': 'dh6KLl8AAAAJ', 'source': <AuthorSource.CO_AUTHORS_LIST: 'CO_AUTHORS_LIST'>, 'name': 'Christopher J. Schneider', 'affiliation': 'Boston University'}, {'container_type': 'Author', 'filled': [], 'scholar_id': 'hjgJXSEAAAAJ', 'source': <AuthorSource.CO_AUTHORS_LIST: 'CO_AUTHORS_LIST'>, 'name': 'Stephen M. Deban', 'affiliation': 'Professor, Integrative Biology, University of South Florida'}, {'container_type': 'Author', 'filled': [], 'scholar_id': 'YVFHQagAAAAJ', 'source': <AuthorSource.CO_AUTHORS_LIST: 'CO_AUTHORS_LIST'>, 'name': 'Gunter Wagner', 'affiliation': 'Professor Emeritus of Ecology and Evolutionary Biology, Yale University'}, {'container_type': 'Author', 'filled': [], 'scholar_id': 'Bz1Tx5wAAAAJ', 'source': <AuthorSource.CO_AUTHORS_LIST: 'CO_AUTHORS_LIST'>, 'name': 'Matthias Stöck', 'affiliation': 'Leibniz-Institute of Freshwater Ecology and Inland Fisheries - IGB'}, {'container_type': 'Author', 'filled': [], 'scholar_id': 'qEFTmfkAAAAJ', 'source': <AuthorSource.CO_AUTHORS_LIST: 'CO_AUTHORS_LIST'>, 'name': 'David Buckley', 'affiliation': 'Assistant Professor, Universidad Autónoma de Madrid - UAM'}, {'container_type': 'Author', 'filled': [], 'scholar_id': '3hjBzeYAAAAJ', 'source': <AuthorSource.CO_AUTHORS_LIST: 'CO_AUTHORS_LIST'>, 'name': 'Ricardo J Pereira', 'affiliation': 'LMU-Munich'}, {'container_type': 'Author', 'filled': [], 'scholar_id': '2s4PvKAAAAAJ', 'source': <AuthorSource.CO_AUTHORS_LIST: 'CO_AUTHORS_LIST'>, 'name': 'Jonathan A. Campbell', 'affiliation': ''}, {'container_type': 'Author', 'filled': [], 'scholar_id': 'rk0_IlUAAAAJ', 'source': <AuthorSource.CO_AUTHORS_LIST: 'CO_AUTHORS_LIST'>, 'name': 'Jeffrey Boore', 'affiliation': 'Chief Technology Officer, Phenome Health'}, {'container_type': 'Author', 'filled': [], 'scholar_id': 'qrwgjKUAAAAJ', 'source': <AuthorSource.CO_AUTHORS_LIST: 'CO_AUTHORS_LIST'>, 'name': 'Sean B. Reilly', 'affiliation': 'UC Santa Cruz'}, {'container_type': 'Author', 'filled': [], 'scholar_id': 'JDQ50S8AAAAJ', 'source': <AuthorSource.CO_AUTHORS_LIST: 'CO_AUTHORS_LIST'>, 'name': 'Shawn Kuchta', 'affiliation': 'Ohio University'}, {'container_type': 'Author', 'filled': [], 'scholar_id': '4iip0kQAAAAJ', 'source': <AuthorSource.CO_AUTHORS_LIST: 'CO_AUTHORS_LIST'>, 'name': 'Iñigo Martínez-Solano', 'affiliation': 'Científico Titular, Museo Nacional de Ciencias Naturales (MNCN-CSIC)'}, {'container_type': 'Author', 'filled': [], 'scholar_id': 'X4hbN-IAAAAJ', 'source': <AuthorSource.CO_AUTHORS_LIST: 'CO_AUTHORS_LIST'>, 'name': 'Todd Jackman', 'affiliation': 'Villanova University'}, {'container_type': 'Author', 'filled': [], 'scholar_id': 'rhum600AAAAJ', 'source': <AuthorSource.CO_AUTHORS_LIST: 'CO_AUTHORS_LIST'>, 'name': 'Sandra Nieto-Román; Nieto-Roman, S; Alejandra Nieto-Román', 'affiliation': 'National Museum of Natural Sciences in Madrid'}, {'container_type': 'Author', 'filled': [], 'scholar_id': '0b1l8W0AAAAJ', 'source': <AuthorSource.CO_AUTHORS_LIST: 'CO_AUTHORS_LIST'>, 'name': 'Federico Bolaños', 'affiliation': 'Escuela de Biología, Universidad de Costa Rica'}, {'container_type': 'Author', 'filled': [], 'scholar_id': 'OafZcSMAAAAJ', 'source': <AuthorSource.CO_AUTHORS_LIST: 'CO_AUTHORS_LIST'>, 'name': 'Kellar Autumn', 'affiliation': 'Professor of Biology, Lewis & Clark College'}, {'container_type': 'Author', 'filled': [], 'scholar_id': '1WIPsm0AAAAJ', 'source': <AuthorSource.CO_AUTHORS_LIST: 'CO_AUTHORS_LIST'>, 'name': 'Michael J. Ryan', 'affiliation': 'Professor of Integrative Biology'}, {'container_type': 'Author', 'filled': [], 'scholar_id': 'XLYvOpMAAAAJ', 'source': <AuthorSource.CO_AUTHORS_LIST: 'CO_AUTHORS_LIST'>, 'name': 'Andrew J. Crawford', 'affiliation': 'Universidad de los Andes, Colombia'}, {'container_type': 'Author', 'filled': [], 'scholar_id': 'XaY6DN8AAAAJ', 'source': <AuthorSource.CO_AUTHORS_LIST: 'CO_AUTHORS_LIST'>, 'name': 'MJ Hickerson', 'affiliation': 'Professor, City University of New york, City College'}, {'container_type': 'Author', 'filled': [], 'scholar_id': 'KRCDDGoAAAAJ', 'source': <AuthorSource.CO_AUTHORS_LIST: 'CO_AUTHORS_LIST'>, 'name': 'Stuart JE Baird', 'affiliation': 'IVB, Czech Academy of Sciences, Czech Republic; INRA, France.'}, {'container_type': 'Author', 'filled': [], 'scholar_id': 'WUFF6hMAAAAJ', 'source': <AuthorSource.CO_AUTHORS_LIST: 'CO_AUTHORS_LIST'>, 'name': 'Catherine H. Graham', 'affiliation': 'Swiss Federal Research Institute (WSL)'}, {'container_type': 'Author', 'filled': [], 'scholar_id': 'NWdPabcAAAAJ', 'source': <AuthorSource.CO_AUTHORS_LIST: 'CO_AUTHORS_LIST'>, 'name': 'Robert J. Hijmans', 'affiliation': 'Department of Environmental Science and Policy, University of California, Davis'}, {'container_type': 'Author', 'filled': [], 'scholar_id': 'N5WBppcAAAAJ', 'source': <AuthorSource.CO_AUTHORS_LIST: 'CO_AUTHORS_LIST'>, 'name': 'Miguel Vences', 'affiliation': 'Professor for Evolutionary Biology, Technische Universität Braunschweig'}, {'container_type': 'Author', 'filled': [], 'scholar_id': 'G-2IS0oAAAAJ', 'source': <AuthorSource.CO_AUTHORS_LIST: 'CO_AUTHORS_LIST'>, 'name': 'Kurt Schwenk', 'affiliation': 'Professor of Ecology and Evolutionary Biology, University of Connecticut'}, {'container_type': 'Author', 'filled': [], 'scholar_id': 'gBsUGUgAAAAJ', 'source': <AuthorSource.CO_AUTHORS_LIST: 'CO_AUTHORS_LIST'>, 'name': 'Roland Knapp', 'affiliation': 'Sierra Nevada Aquatic Research Laboratory'}, {'container_type': 'Author', 'filled': [], 'scholar_id': 'PQou6IoAAAAJ', 'source': <AuthorSource.CO_AUTHORS_LIST: 'CO_AUTHORS_LIST'>, 'name': 'Josiah Townsend', 'affiliation': 'Professor, Indiana University of Pennsylvania'}, {'container_type': 'Author', 'filled': [], 'scholar_id': 'QxtdTNsAAAAJ', 'source': <AuthorSource.CO_AUTHORS_LIST: 'CO_AUTHORS_LIST'>, 'name': 'João Alexandrino', 'affiliation': 'Universidade Federal de São Paulo'}, {'container_type': 'Author', 'filled': [], 'scholar_id': 'U4R0tg8AAAAJ', 'source': <AuthorSource.CO_AUTHORS_LIST: 'CO_AUTHORS_LIST'>, 'name': 'Kathryn R. Elmer', 'affiliation': 'Professor, School of Biodiversity, One Health & Veterinary Medicine (SBOHVM), University …'}, {'container_type': 'Author', 'filled': [], 'scholar_id': 'F1Nh9xgAAAAJ', 'source': <AuthorSource.CO_AUTHORS_LIST: 'CO_AUTHORS_LIST'>, 'name': 'Stephen C. Lougheed', 'affiliation': \"Professor of Biology, Queen's University\"}, {'container_type': 'Author', 'filled': [], 'scholar_id': 'gDgAYBoAAAAJ', 'source': <AuthorSource.CO_AUTHORS_LIST: 'CO_AUTHORS_LIST'>, 'name': 'William E. Peterman', 'affiliation': 'Associate Professor, Ohio State University'}, {'container_type': 'Author', 'filled': [], 'scholar_id': 'NcGkPjkAAAAJ', 'source': <AuthorSource.CO_AUTHORS_LIST: 'CO_AUTHORS_LIST'>, 'name': 'John Maerz', 'affiliation': 'Carey Distinguished Professor of Natural Resources and Josiah Meigs Distinguished …'}, {'container_type': 'Author', 'filled': [], 'scholar_id': 'UhoYA-4AAAAJ', 'source': <AuthorSource.CO_AUTHORS_LIST: 'CO_AUTHORS_LIST'>, 'name': 'Joe Milanovich', 'affiliation': 'Loyola University Chicago'}, {'container_type': 'Author', 'filled': [], 'scholar_id': 'eslOPdYAAAAJ', 'source': <AuthorSource.CO_AUTHORS_LIST: 'CO_AUTHORS_LIST'>, 'name': 'Kelly Zamudio', 'affiliation': 'Integrative Biology, University of Texas at Austin'}, {'container_type': 'Author', 'filled': [], 'scholar_id': 'GLPhVvwAAAAJ', 'source': <AuthorSource.CO_AUTHORS_LIST: 'CO_AUTHORS_LIST'>, 'name': 'Lauren Chan', 'affiliation': 'Pacific University'}, {'container_type': 'Author', 'filled': [], 'scholar_id': 'OgEZg-8AAAAJ', 'source': <AuthorSource.CO_AUTHORS_LIST: 'CO_AUTHORS_LIST'>, 'name': 'Ella Vázquez Domínguez', 'affiliation': 'Instituto de Ecología'}, {'container_type': 'Author', 'filled': [], 'scholar_id': 'ng_vopMAAAAJ', 'source': <AuthorSource.CO_AUTHORS_LIST: 'CO_AUTHORS_LIST'>, 'name': 'Miguel A Alonso-Zarazaga', 'affiliation': 'Entomologist, Retired Scientist, Museo Nacional de Ciencias Naturales (CSIC)'}, {'container_type': 'Author', 'filled': [], 'scholar_id': 'xOxeEpcAAAAJ', 'source': <AuthorSource.CO_AUTHORS_LIST: 'CO_AUTHORS_LIST'>, 'name': 'Alfredo Salvador', 'affiliation': 'Museo Nacional de Ciencias Naturales, CSIC'}]}\n"
     ]
    }
   ],
   "source": [
    "print(filtered_poop)"
   ]
  },
  {
   "cell_type": "code",
   "execution_count": 98,
   "id": "47ac5334",
   "metadata": {},
   "outputs": [],
   "source": [
    "def my_filtering_function1(pair):\n",
    "    wanted_keys = ['[']\n",
    "    key, value = pair\n",
    "    if key in wanted_keys:\n",
    "        return True  # keep pair in the filtered dictionary\n",
    "    else:\n",
    "        return False  # filter pair out of the dictionary"
   ]
  },
  {
   "cell_type": "code",
   "execution_count": 99,
   "id": "aacf115c",
   "metadata": {},
   "outputs": [],
   "source": [
    "filtered_poop1 = dict(filter(my_filtering_function1, filtered_poop.items()))"
   ]
  },
  {
   "cell_type": "code",
   "execution_count": 100,
   "id": "2ca94421",
   "metadata": {},
   "outputs": [
    {
     "name": "stdout",
     "output_type": "stream",
     "text": [
      "{}\n"
     ]
    }
   ],
   "source": [
    "print(filtered_poop1)"
   ]
  },
  {
   "cell_type": "code",
   "execution_count": 101,
   "id": "061cc7bf",
   "metadata": {},
   "outputs": [
    {
     "name": "stdout",
     "output_type": "stream",
     "text": [
      "()\n"
     ]
    }
   ],
   "source": [
    "vowels = tuple(filtered_poop1)\n",
    "print(vowels)"
   ]
  },
  {
   "cell_type": "code",
   "execution_count": 94,
   "id": "90c907eb",
   "metadata": {},
   "outputs": [
    {
     "data": {
      "text/plain": [
       "['coauthors']"
      ]
     },
     "execution_count": 94,
     "metadata": {},
     "output_type": "execute_result"
    }
   ],
   "source": [
    "list(filtered_poop)"
   ]
  },
  {
   "cell_type": "code",
   "execution_count": 103,
   "id": "5e0ace33",
   "metadata": {
    "scrolled": true
   },
   "outputs": [
    {
     "name": "stdout",
     "output_type": "stream",
     "text": [
      "('coauthors', [{'container_type': 'Author', 'filled': [], 'scholar_id': 'gNU5tAwAAAAJ', 'source': <AuthorSource.CO_AUTHORS_LIST: 'CO_AUTHORS_LIST'>, 'name': 'Gabriela Parra', 'affiliation': 'professor of biology'}, {'container_type': 'Author', 'filled': [], 'scholar_id': '-b-tzzgAAAAJ', 'source': <AuthorSource.CO_AUTHORS_LIST: 'CO_AUTHORS_LIST'>, 'name': 'Theodore Papenfuss', 'affiliation': 'UC Berkeley'}, {'container_type': 'Author', 'filled': [], 'scholar_id': '7LURe94AAAAJ', 'source': <AuthorSource.CO_AUTHORS_LIST: 'CO_AUTHORS_LIST'>, 'name': 'James Hanken', 'affiliation': 'Alexander Agassiz Professor of Zoology and Curator in Herpetology, Museum of …'}, {'container_type': 'Author', 'filled': [], 'scholar_id': 'Wcv04-0AAAAJ', 'source': <AuthorSource.CO_AUTHORS_LIST: 'CO_AUTHORS_LIST'>, 'name': 'Andrew R. Blaustein', 'affiliation': 'Professor, Integrative Biology, Oregon State University'}, {'container_type': 'Author', 'filled': [], 'scholar_id': 'khsdwwEAAAAJ', 'source': <AuthorSource.CO_AUTHORS_LIST: 'CO_AUTHORS_LIST'>, 'name': 'Mario García París', 'affiliation': 'Museo Nacional de Ciencias Naturales / National Museum of Natural Sciences, MNCN …'}, {'container_type': 'Author', 'filled': [], 'scholar_id': 'x20bM6cAAAAJ', 'source': <AuthorSource.CO_AUTHORS_LIST: 'CO_AUTHORS_LIST'>, 'name': 'Marvalee H. Wake', 'affiliation': 'Professor of Integrative Biology, Univ. California, Berkeley'}, {'container_type': 'Author', 'filled': [], 'scholar_id': 'BOCmDQIAAAAJ', 'source': <AuthorSource.CO_AUTHORS_LIST: 'CO_AUTHORS_LIST'>, 'name': 'Sean M. Rovito', 'affiliation': 'Laboratorio Nacional de Genómica para la Biodiversidad, Irapuato, Mexico'}, {'container_type': 'Author', 'filled': [], 'scholar_id': 'p_VFa48AAAAJ', 'source': <AuthorSource.CO_AUTHORS_LIST: 'CO_AUTHORS_LIST'>, 'name': 'Vance Vredenburg', 'affiliation': 'Professor, San Francisco State University'}, {'container_type': 'Author', 'filled': [], 'scholar_id': 'i7VQcR8AAAAJ', 'source': <AuthorSource.CO_AUTHORS_LIST: 'CO_AUTHORS_LIST'>, 'name': 'stephen j gould', 'affiliation': ''}, {'container_type': 'Author', 'filled': [], 'scholar_id': 'jgWZfZ0AAAAJ', 'source': <AuthorSource.CO_AUTHORS_LIST: 'CO_AUTHORS_LIST'>, 'name': 'David Vieites', 'affiliation': 'Senior Research Scientist at the Spanish Research Council - CSIC'}, {'container_type': 'Author', 'filled': [], 'scholar_id': 'lLze8eYAAAAJ', 'source': <AuthorSource.CO_AUTHORS_LIST: 'CO_AUTHORS_LIST'>, 'name': 'Craig Moritz', 'affiliation': 'Professor and ARC Laureate Fellow, The Australian National University'}, {'container_type': 'Author', 'filled': [], 'scholar_id': 'pCV2bLAAAAAJ', 'source': <AuthorSource.CO_AUTHORS_LIST: 'CO_AUTHORS_LIST'>, 'name': 'Kiisa Nishikawa', 'affiliation': 'Northern Arizona University'}, {'container_type': 'Author', 'filled': [], 'scholar_id': 'uw9KqJQAAAAJ', 'source': <AuthorSource.CO_AUTHORS_LIST: 'CO_AUTHORS_LIST'>, 'name': 'Carlos R. Vasquez-Almazan', 'affiliation': 'Curador Anfibios y Reptiles Museo de Historia Natural Universidad de San carlos de …'}, {'container_type': 'Author', 'filled': [], 'scholar_id': 'ixMvlw8AAAAJ', 'source': <AuthorSource.CO_AUTHORS_LIST: 'CO_AUTHORS_LIST'>, 'name': 'David Cannatella', 'affiliation': 'Professor of Biology, University of Texas'}, {'container_type': 'Author', 'filled': [], 'scholar_id': 'IRiLeFEAAAAJ', 'source': <AuthorSource.CO_AUTHORS_LIST: 'CO_AUTHORS_LIST'>, 'name': 'Ronald Bonett', 'affiliation': 'Professor of Biological Science, University of Tulsa'}, {'container_type': 'Author', 'filled': [], 'scholar_id': 'b30fh-wAAAAJ', 'source': <AuthorSource.CO_AUTHORS_LIST: 'CO_AUTHORS_LIST'>, 'name': 'Rachel Lockridge Mueller', 'affiliation': 'Professor of Biology, Colorado State University'}, {'container_type': 'Author', 'filled': [], 'scholar_id': 'XB_ZhjUAAAAJ', 'source': <AuthorSource.CO_AUTHORS_LIST: 'CO_AUTHORS_LIST'>, 'name': 'Linda Maxson', 'affiliation': 'Professor Emerita,  Biology, University of Iowa'}, {'container_type': 'Author', 'filled': [], 'scholar_id': 'Uqm_4EQAAAAJ', 'source': <AuthorSource.CO_AUTHORS_LIST: 'CO_AUTHORS_LIST'>, 'name': 'David C. Blackburn', 'affiliation': 'Florida Museum of Natural History, University of Florida'}, {'container_type': 'Author', 'filled': [], 'scholar_id': 'TUgQVOYAAAAJ', 'source': <AuthorSource.CO_AUTHORS_LIST: 'CO_AUTHORS_LIST'>, 'name': 'David M. Hillis', 'affiliation': 'Professor of Integrative Biology, University of Texas at Austin'}, {'container_type': 'Author', 'filled': [], 'scholar_id': 'dh6KLl8AAAAJ', 'source': <AuthorSource.CO_AUTHORS_LIST: 'CO_AUTHORS_LIST'>, 'name': 'Christopher J. Schneider', 'affiliation': 'Boston University'}, {'container_type': 'Author', 'filled': [], 'scholar_id': 'hjgJXSEAAAAJ', 'source': <AuthorSource.CO_AUTHORS_LIST: 'CO_AUTHORS_LIST'>, 'name': 'Stephen M. Deban', 'affiliation': 'Professor, Integrative Biology, University of South Florida'}, {'container_type': 'Author', 'filled': [], 'scholar_id': 'YVFHQagAAAAJ', 'source': <AuthorSource.CO_AUTHORS_LIST: 'CO_AUTHORS_LIST'>, 'name': 'Gunter Wagner', 'affiliation': 'Professor Emeritus of Ecology and Evolutionary Biology, Yale University'}, {'container_type': 'Author', 'filled': [], 'scholar_id': 'Bz1Tx5wAAAAJ', 'source': <AuthorSource.CO_AUTHORS_LIST: 'CO_AUTHORS_LIST'>, 'name': 'Matthias Stöck', 'affiliation': 'Leibniz-Institute of Freshwater Ecology and Inland Fisheries - IGB'}, {'container_type': 'Author', 'filled': [], 'scholar_id': 'qEFTmfkAAAAJ', 'source': <AuthorSource.CO_AUTHORS_LIST: 'CO_AUTHORS_LIST'>, 'name': 'David Buckley', 'affiliation': 'Assistant Professor, Universidad Autónoma de Madrid - UAM'}, {'container_type': 'Author', 'filled': [], 'scholar_id': '3hjBzeYAAAAJ', 'source': <AuthorSource.CO_AUTHORS_LIST: 'CO_AUTHORS_LIST'>, 'name': 'Ricardo J Pereira', 'affiliation': 'LMU-Munich'}, {'container_type': 'Author', 'filled': [], 'scholar_id': '2s4PvKAAAAAJ', 'source': <AuthorSource.CO_AUTHORS_LIST: 'CO_AUTHORS_LIST'>, 'name': 'Jonathan A. Campbell', 'affiliation': ''}, {'container_type': 'Author', 'filled': [], 'scholar_id': 'rk0_IlUAAAAJ', 'source': <AuthorSource.CO_AUTHORS_LIST: 'CO_AUTHORS_LIST'>, 'name': 'Jeffrey Boore', 'affiliation': 'Chief Technology Officer, Phenome Health'}, {'container_type': 'Author', 'filled': [], 'scholar_id': 'qrwgjKUAAAAJ', 'source': <AuthorSource.CO_AUTHORS_LIST: 'CO_AUTHORS_LIST'>, 'name': 'Sean B. Reilly', 'affiliation': 'UC Santa Cruz'}, {'container_type': 'Author', 'filled': [], 'scholar_id': 'JDQ50S8AAAAJ', 'source': <AuthorSource.CO_AUTHORS_LIST: 'CO_AUTHORS_LIST'>, 'name': 'Shawn Kuchta', 'affiliation': 'Ohio University'}, {'container_type': 'Author', 'filled': [], 'scholar_id': '4iip0kQAAAAJ', 'source': <AuthorSource.CO_AUTHORS_LIST: 'CO_AUTHORS_LIST'>, 'name': 'Iñigo Martínez-Solano', 'affiliation': 'Científico Titular, Museo Nacional de Ciencias Naturales (MNCN-CSIC)'}, {'container_type': 'Author', 'filled': [], 'scholar_id': 'X4hbN-IAAAAJ', 'source': <AuthorSource.CO_AUTHORS_LIST: 'CO_AUTHORS_LIST'>, 'name': 'Todd Jackman', 'affiliation': 'Villanova University'}, {'container_type': 'Author', 'filled': [], 'scholar_id': 'rhum600AAAAJ', 'source': <AuthorSource.CO_AUTHORS_LIST: 'CO_AUTHORS_LIST'>, 'name': 'Sandra Nieto-Román; Nieto-Roman, S; Alejandra Nieto-Román', 'affiliation': 'National Museum of Natural Sciences in Madrid'}, {'container_type': 'Author', 'filled': [], 'scholar_id': '0b1l8W0AAAAJ', 'source': <AuthorSource.CO_AUTHORS_LIST: 'CO_AUTHORS_LIST'>, 'name': 'Federico Bolaños', 'affiliation': 'Escuela de Biología, Universidad de Costa Rica'}, {'container_type': 'Author', 'filled': [], 'scholar_id': 'OafZcSMAAAAJ', 'source': <AuthorSource.CO_AUTHORS_LIST: 'CO_AUTHORS_LIST'>, 'name': 'Kellar Autumn', 'affiliation': 'Professor of Biology, Lewis & Clark College'}, {'container_type': 'Author', 'filled': [], 'scholar_id': '1WIPsm0AAAAJ', 'source': <AuthorSource.CO_AUTHORS_LIST: 'CO_AUTHORS_LIST'>, 'name': 'Michael J. Ryan', 'affiliation': 'Professor of Integrative Biology'}, {'container_type': 'Author', 'filled': [], 'scholar_id': 'XLYvOpMAAAAJ', 'source': <AuthorSource.CO_AUTHORS_LIST: 'CO_AUTHORS_LIST'>, 'name': 'Andrew J. Crawford', 'affiliation': 'Universidad de los Andes, Colombia'}, {'container_type': 'Author', 'filled': [], 'scholar_id': 'XaY6DN8AAAAJ', 'source': <AuthorSource.CO_AUTHORS_LIST: 'CO_AUTHORS_LIST'>, 'name': 'MJ Hickerson', 'affiliation': 'Professor, City University of New york, City College'}, {'container_type': 'Author', 'filled': [], 'scholar_id': 'KRCDDGoAAAAJ', 'source': <AuthorSource.CO_AUTHORS_LIST: 'CO_AUTHORS_LIST'>, 'name': 'Stuart JE Baird', 'affiliation': 'IVB, Czech Academy of Sciences, Czech Republic; INRA, France.'}, {'container_type': 'Author', 'filled': [], 'scholar_id': 'WUFF6hMAAAAJ', 'source': <AuthorSource.CO_AUTHORS_LIST: 'CO_AUTHORS_LIST'>, 'name': 'Catherine H. Graham', 'affiliation': 'Swiss Federal Research Institute (WSL)'}, {'container_type': 'Author', 'filled': [], 'scholar_id': 'NWdPabcAAAAJ', 'source': <AuthorSource.CO_AUTHORS_LIST: 'CO_AUTHORS_LIST'>, 'name': 'Robert J. Hijmans', 'affiliation': 'Department of Environmental Science and Policy, University of California, Davis'}, {'container_type': 'Author', 'filled': [], 'scholar_id': 'N5WBppcAAAAJ', 'source': <AuthorSource.CO_AUTHORS_LIST: 'CO_AUTHORS_LIST'>, 'name': 'Miguel Vences', 'affiliation': 'Professor for Evolutionary Biology, Technische Universität Braunschweig'}, {'container_type': 'Author', 'filled': [], 'scholar_id': 'G-2IS0oAAAAJ', 'source': <AuthorSource.CO_AUTHORS_LIST: 'CO_AUTHORS_LIST'>, 'name': 'Kurt Schwenk', 'affiliation': 'Professor of Ecology and Evolutionary Biology, University of Connecticut'}, {'container_type': 'Author', 'filled': [], 'scholar_id': 'gBsUGUgAAAAJ', 'source': <AuthorSource.CO_AUTHORS_LIST: 'CO_AUTHORS_LIST'>, 'name': 'Roland Knapp', 'affiliation': 'Sierra Nevada Aquatic Research Laboratory'}, {'container_type': 'Author', 'filled': [], 'scholar_id': 'PQou6IoAAAAJ', 'source': <AuthorSource.CO_AUTHORS_LIST: 'CO_AUTHORS_LIST'>, 'name': 'Josiah Townsend', 'affiliation': 'Professor, Indiana University of Pennsylvania'}, {'container_type': 'Author', 'filled': [], 'scholar_id': 'QxtdTNsAAAAJ', 'source': <AuthorSource.CO_AUTHORS_LIST: 'CO_AUTHORS_LIST'>, 'name': 'João Alexandrino', 'affiliation': 'Universidade Federal de São Paulo'}, {'container_type': 'Author', 'filled': [], 'scholar_id': 'U4R0tg8AAAAJ', 'source': <AuthorSource.CO_AUTHORS_LIST: 'CO_AUTHORS_LIST'>, 'name': 'Kathryn R. Elmer', 'affiliation': 'Professor, School of Biodiversity, One Health & Veterinary Medicine (SBOHVM), University …'}, {'container_type': 'Author', 'filled': [], 'scholar_id': 'F1Nh9xgAAAAJ', 'source': <AuthorSource.CO_AUTHORS_LIST: 'CO_AUTHORS_LIST'>, 'name': 'Stephen C. Lougheed', 'affiliation': \"Professor of Biology, Queen's University\"}, {'container_type': 'Author', 'filled': [], 'scholar_id': 'gDgAYBoAAAAJ', 'source': <AuthorSource.CO_AUTHORS_LIST: 'CO_AUTHORS_LIST'>, 'name': 'William E. Peterman', 'affiliation': 'Associate Professor, Ohio State University'}, {'container_type': 'Author', 'filled': [], 'scholar_id': 'NcGkPjkAAAAJ', 'source': <AuthorSource.CO_AUTHORS_LIST: 'CO_AUTHORS_LIST'>, 'name': 'John Maerz', 'affiliation': 'Carey Distinguished Professor of Natural Resources and Josiah Meigs Distinguished …'}, {'container_type': 'Author', 'filled': [], 'scholar_id': 'UhoYA-4AAAAJ', 'source': <AuthorSource.CO_AUTHORS_LIST: 'CO_AUTHORS_LIST'>, 'name': 'Joe Milanovich', 'affiliation': 'Loyola University Chicago'}, {'container_type': 'Author', 'filled': [], 'scholar_id': 'eslOPdYAAAAJ', 'source': <AuthorSource.CO_AUTHORS_LIST: 'CO_AUTHORS_LIST'>, 'name': 'Kelly Zamudio', 'affiliation': 'Integrative Biology, University of Texas at Austin'}, {'container_type': 'Author', 'filled': [], 'scholar_id': 'GLPhVvwAAAAJ', 'source': <AuthorSource.CO_AUTHORS_LIST: 'CO_AUTHORS_LIST'>, 'name': 'Lauren Chan', 'affiliation': 'Pacific University'}, {'container_type': 'Author', 'filled': [], 'scholar_id': 'OgEZg-8AAAAJ', 'source': <AuthorSource.CO_AUTHORS_LIST: 'CO_AUTHORS_LIST'>, 'name': 'Ella Vázquez Domínguez', 'affiliation': 'Instituto de Ecología'}, {'container_type': 'Author', 'filled': [], 'scholar_id': 'ng_vopMAAAAJ', 'source': <AuthorSource.CO_AUTHORS_LIST: 'CO_AUTHORS_LIST'>, 'name': 'Miguel A Alonso-Zarazaga', 'affiliation': 'Entomologist, Retired Scientist, Museo Nacional de Ciencias Naturales (CSIC)'}, {'container_type': 'Author', 'filled': [], 'scholar_id': 'xOxeEpcAAAAJ', 'source': <AuthorSource.CO_AUTHORS_LIST: 'CO_AUTHORS_LIST'>, 'name': 'Alfredo Salvador', 'affiliation': 'Museo Nacional de Ciencias Naturales, CSIC'}])\n"
     ]
    }
   ],
   "source": [
    "for v in filtered_poop.items():\n",
    "    print(v)"
   ]
  },
  {
   "cell_type": "code",
   "execution_count": 106,
   "id": "c5e8e1f4",
   "metadata": {
    "scrolled": true
   },
   "outputs": [
    {
     "name": "stdout",
     "output_type": "stream",
     "text": [
      "dict_values([[{'container_type': 'Author', 'filled': [], 'scholar_id': 'gNU5tAwAAAAJ', 'source': <AuthorSource.CO_AUTHORS_LIST: 'CO_AUTHORS_LIST'>, 'name': 'Gabriela Parra', 'affiliation': 'professor of biology'}, {'container_type': 'Author', 'filled': [], 'scholar_id': '-b-tzzgAAAAJ', 'source': <AuthorSource.CO_AUTHORS_LIST: 'CO_AUTHORS_LIST'>, 'name': 'Theodore Papenfuss', 'affiliation': 'UC Berkeley'}, {'container_type': 'Author', 'filled': [], 'scholar_id': '7LURe94AAAAJ', 'source': <AuthorSource.CO_AUTHORS_LIST: 'CO_AUTHORS_LIST'>, 'name': 'James Hanken', 'affiliation': 'Alexander Agassiz Professor of Zoology and Curator in Herpetology, Museum of …'}, {'container_type': 'Author', 'filled': [], 'scholar_id': 'Wcv04-0AAAAJ', 'source': <AuthorSource.CO_AUTHORS_LIST: 'CO_AUTHORS_LIST'>, 'name': 'Andrew R. Blaustein', 'affiliation': 'Professor, Integrative Biology, Oregon State University'}, {'container_type': 'Author', 'filled': [], 'scholar_id': 'khsdwwEAAAAJ', 'source': <AuthorSource.CO_AUTHORS_LIST: 'CO_AUTHORS_LIST'>, 'name': 'Mario García París', 'affiliation': 'Museo Nacional de Ciencias Naturales / National Museum of Natural Sciences, MNCN …'}, {'container_type': 'Author', 'filled': [], 'scholar_id': 'x20bM6cAAAAJ', 'source': <AuthorSource.CO_AUTHORS_LIST: 'CO_AUTHORS_LIST'>, 'name': 'Marvalee H. Wake', 'affiliation': 'Professor of Integrative Biology, Univ. California, Berkeley'}, {'container_type': 'Author', 'filled': [], 'scholar_id': 'BOCmDQIAAAAJ', 'source': <AuthorSource.CO_AUTHORS_LIST: 'CO_AUTHORS_LIST'>, 'name': 'Sean M. Rovito', 'affiliation': 'Laboratorio Nacional de Genómica para la Biodiversidad, Irapuato, Mexico'}, {'container_type': 'Author', 'filled': [], 'scholar_id': 'p_VFa48AAAAJ', 'source': <AuthorSource.CO_AUTHORS_LIST: 'CO_AUTHORS_LIST'>, 'name': 'Vance Vredenburg', 'affiliation': 'Professor, San Francisco State University'}, {'container_type': 'Author', 'filled': [], 'scholar_id': 'i7VQcR8AAAAJ', 'source': <AuthorSource.CO_AUTHORS_LIST: 'CO_AUTHORS_LIST'>, 'name': 'stephen j gould', 'affiliation': ''}, {'container_type': 'Author', 'filled': [], 'scholar_id': 'jgWZfZ0AAAAJ', 'source': <AuthorSource.CO_AUTHORS_LIST: 'CO_AUTHORS_LIST'>, 'name': 'David Vieites', 'affiliation': 'Senior Research Scientist at the Spanish Research Council - CSIC'}, {'container_type': 'Author', 'filled': [], 'scholar_id': 'lLze8eYAAAAJ', 'source': <AuthorSource.CO_AUTHORS_LIST: 'CO_AUTHORS_LIST'>, 'name': 'Craig Moritz', 'affiliation': 'Professor and ARC Laureate Fellow, The Australian National University'}, {'container_type': 'Author', 'filled': [], 'scholar_id': 'pCV2bLAAAAAJ', 'source': <AuthorSource.CO_AUTHORS_LIST: 'CO_AUTHORS_LIST'>, 'name': 'Kiisa Nishikawa', 'affiliation': 'Northern Arizona University'}, {'container_type': 'Author', 'filled': [], 'scholar_id': 'uw9KqJQAAAAJ', 'source': <AuthorSource.CO_AUTHORS_LIST: 'CO_AUTHORS_LIST'>, 'name': 'Carlos R. Vasquez-Almazan', 'affiliation': 'Curador Anfibios y Reptiles Museo de Historia Natural Universidad de San carlos de …'}, {'container_type': 'Author', 'filled': [], 'scholar_id': 'ixMvlw8AAAAJ', 'source': <AuthorSource.CO_AUTHORS_LIST: 'CO_AUTHORS_LIST'>, 'name': 'David Cannatella', 'affiliation': 'Professor of Biology, University of Texas'}, {'container_type': 'Author', 'filled': [], 'scholar_id': 'IRiLeFEAAAAJ', 'source': <AuthorSource.CO_AUTHORS_LIST: 'CO_AUTHORS_LIST'>, 'name': 'Ronald Bonett', 'affiliation': 'Professor of Biological Science, University of Tulsa'}, {'container_type': 'Author', 'filled': [], 'scholar_id': 'b30fh-wAAAAJ', 'source': <AuthorSource.CO_AUTHORS_LIST: 'CO_AUTHORS_LIST'>, 'name': 'Rachel Lockridge Mueller', 'affiliation': 'Professor of Biology, Colorado State University'}, {'container_type': 'Author', 'filled': [], 'scholar_id': 'XB_ZhjUAAAAJ', 'source': <AuthorSource.CO_AUTHORS_LIST: 'CO_AUTHORS_LIST'>, 'name': 'Linda Maxson', 'affiliation': 'Professor Emerita,  Biology, University of Iowa'}, {'container_type': 'Author', 'filled': [], 'scholar_id': 'Uqm_4EQAAAAJ', 'source': <AuthorSource.CO_AUTHORS_LIST: 'CO_AUTHORS_LIST'>, 'name': 'David C. Blackburn', 'affiliation': 'Florida Museum of Natural History, University of Florida'}, {'container_type': 'Author', 'filled': [], 'scholar_id': 'TUgQVOYAAAAJ', 'source': <AuthorSource.CO_AUTHORS_LIST: 'CO_AUTHORS_LIST'>, 'name': 'David M. Hillis', 'affiliation': 'Professor of Integrative Biology, University of Texas at Austin'}, {'container_type': 'Author', 'filled': [], 'scholar_id': 'dh6KLl8AAAAJ', 'source': <AuthorSource.CO_AUTHORS_LIST: 'CO_AUTHORS_LIST'>, 'name': 'Christopher J. Schneider', 'affiliation': 'Boston University'}, {'container_type': 'Author', 'filled': [], 'scholar_id': 'hjgJXSEAAAAJ', 'source': <AuthorSource.CO_AUTHORS_LIST: 'CO_AUTHORS_LIST'>, 'name': 'Stephen M. Deban', 'affiliation': 'Professor, Integrative Biology, University of South Florida'}, {'container_type': 'Author', 'filled': [], 'scholar_id': 'YVFHQagAAAAJ', 'source': <AuthorSource.CO_AUTHORS_LIST: 'CO_AUTHORS_LIST'>, 'name': 'Gunter Wagner', 'affiliation': 'Professor Emeritus of Ecology and Evolutionary Biology, Yale University'}, {'container_type': 'Author', 'filled': [], 'scholar_id': 'Bz1Tx5wAAAAJ', 'source': <AuthorSource.CO_AUTHORS_LIST: 'CO_AUTHORS_LIST'>, 'name': 'Matthias Stöck', 'affiliation': 'Leibniz-Institute of Freshwater Ecology and Inland Fisheries - IGB'}, {'container_type': 'Author', 'filled': [], 'scholar_id': 'qEFTmfkAAAAJ', 'source': <AuthorSource.CO_AUTHORS_LIST: 'CO_AUTHORS_LIST'>, 'name': 'David Buckley', 'affiliation': 'Assistant Professor, Universidad Autónoma de Madrid - UAM'}, {'container_type': 'Author', 'filled': [], 'scholar_id': '3hjBzeYAAAAJ', 'source': <AuthorSource.CO_AUTHORS_LIST: 'CO_AUTHORS_LIST'>, 'name': 'Ricardo J Pereira', 'affiliation': 'LMU-Munich'}, {'container_type': 'Author', 'filled': [], 'scholar_id': '2s4PvKAAAAAJ', 'source': <AuthorSource.CO_AUTHORS_LIST: 'CO_AUTHORS_LIST'>, 'name': 'Jonathan A. Campbell', 'affiliation': ''}, {'container_type': 'Author', 'filled': [], 'scholar_id': 'rk0_IlUAAAAJ', 'source': <AuthorSource.CO_AUTHORS_LIST: 'CO_AUTHORS_LIST'>, 'name': 'Jeffrey Boore', 'affiliation': 'Chief Technology Officer, Phenome Health'}, {'container_type': 'Author', 'filled': [], 'scholar_id': 'qrwgjKUAAAAJ', 'source': <AuthorSource.CO_AUTHORS_LIST: 'CO_AUTHORS_LIST'>, 'name': 'Sean B. Reilly', 'affiliation': 'UC Santa Cruz'}, {'container_type': 'Author', 'filled': [], 'scholar_id': 'JDQ50S8AAAAJ', 'source': <AuthorSource.CO_AUTHORS_LIST: 'CO_AUTHORS_LIST'>, 'name': 'Shawn Kuchta', 'affiliation': 'Ohio University'}, {'container_type': 'Author', 'filled': [], 'scholar_id': '4iip0kQAAAAJ', 'source': <AuthorSource.CO_AUTHORS_LIST: 'CO_AUTHORS_LIST'>, 'name': 'Iñigo Martínez-Solano', 'affiliation': 'Científico Titular, Museo Nacional de Ciencias Naturales (MNCN-CSIC)'}, {'container_type': 'Author', 'filled': [], 'scholar_id': 'X4hbN-IAAAAJ', 'source': <AuthorSource.CO_AUTHORS_LIST: 'CO_AUTHORS_LIST'>, 'name': 'Todd Jackman', 'affiliation': 'Villanova University'}, {'container_type': 'Author', 'filled': [], 'scholar_id': 'rhum600AAAAJ', 'source': <AuthorSource.CO_AUTHORS_LIST: 'CO_AUTHORS_LIST'>, 'name': 'Sandra Nieto-Román; Nieto-Roman, S; Alejandra Nieto-Román', 'affiliation': 'National Museum of Natural Sciences in Madrid'}, {'container_type': 'Author', 'filled': [], 'scholar_id': '0b1l8W0AAAAJ', 'source': <AuthorSource.CO_AUTHORS_LIST: 'CO_AUTHORS_LIST'>, 'name': 'Federico Bolaños', 'affiliation': 'Escuela de Biología, Universidad de Costa Rica'}, {'container_type': 'Author', 'filled': [], 'scholar_id': 'OafZcSMAAAAJ', 'source': <AuthorSource.CO_AUTHORS_LIST: 'CO_AUTHORS_LIST'>, 'name': 'Kellar Autumn', 'affiliation': 'Professor of Biology, Lewis & Clark College'}, {'container_type': 'Author', 'filled': [], 'scholar_id': '1WIPsm0AAAAJ', 'source': <AuthorSource.CO_AUTHORS_LIST: 'CO_AUTHORS_LIST'>, 'name': 'Michael J. Ryan', 'affiliation': 'Professor of Integrative Biology'}, {'container_type': 'Author', 'filled': [], 'scholar_id': 'XLYvOpMAAAAJ', 'source': <AuthorSource.CO_AUTHORS_LIST: 'CO_AUTHORS_LIST'>, 'name': 'Andrew J. Crawford', 'affiliation': 'Universidad de los Andes, Colombia'}, {'container_type': 'Author', 'filled': [], 'scholar_id': 'XaY6DN8AAAAJ', 'source': <AuthorSource.CO_AUTHORS_LIST: 'CO_AUTHORS_LIST'>, 'name': 'MJ Hickerson', 'affiliation': 'Professor, City University of New york, City College'}, {'container_type': 'Author', 'filled': [], 'scholar_id': 'KRCDDGoAAAAJ', 'source': <AuthorSource.CO_AUTHORS_LIST: 'CO_AUTHORS_LIST'>, 'name': 'Stuart JE Baird', 'affiliation': 'IVB, Czech Academy of Sciences, Czech Republic; INRA, France.'}, {'container_type': 'Author', 'filled': [], 'scholar_id': 'WUFF6hMAAAAJ', 'source': <AuthorSource.CO_AUTHORS_LIST: 'CO_AUTHORS_LIST'>, 'name': 'Catherine H. Graham', 'affiliation': 'Swiss Federal Research Institute (WSL)'}, {'container_type': 'Author', 'filled': [], 'scholar_id': 'NWdPabcAAAAJ', 'source': <AuthorSource.CO_AUTHORS_LIST: 'CO_AUTHORS_LIST'>, 'name': 'Robert J. Hijmans', 'affiliation': 'Department of Environmental Science and Policy, University of California, Davis'}, {'container_type': 'Author', 'filled': [], 'scholar_id': 'N5WBppcAAAAJ', 'source': <AuthorSource.CO_AUTHORS_LIST: 'CO_AUTHORS_LIST'>, 'name': 'Miguel Vences', 'affiliation': 'Professor for Evolutionary Biology, Technische Universität Braunschweig'}, {'container_type': 'Author', 'filled': [], 'scholar_id': 'G-2IS0oAAAAJ', 'source': <AuthorSource.CO_AUTHORS_LIST: 'CO_AUTHORS_LIST'>, 'name': 'Kurt Schwenk', 'affiliation': 'Professor of Ecology and Evolutionary Biology, University of Connecticut'}, {'container_type': 'Author', 'filled': [], 'scholar_id': 'gBsUGUgAAAAJ', 'source': <AuthorSource.CO_AUTHORS_LIST: 'CO_AUTHORS_LIST'>, 'name': 'Roland Knapp', 'affiliation': 'Sierra Nevada Aquatic Research Laboratory'}, {'container_type': 'Author', 'filled': [], 'scholar_id': 'PQou6IoAAAAJ', 'source': <AuthorSource.CO_AUTHORS_LIST: 'CO_AUTHORS_LIST'>, 'name': 'Josiah Townsend', 'affiliation': 'Professor, Indiana University of Pennsylvania'}, {'container_type': 'Author', 'filled': [], 'scholar_id': 'QxtdTNsAAAAJ', 'source': <AuthorSource.CO_AUTHORS_LIST: 'CO_AUTHORS_LIST'>, 'name': 'João Alexandrino', 'affiliation': 'Universidade Federal de São Paulo'}, {'container_type': 'Author', 'filled': [], 'scholar_id': 'U4R0tg8AAAAJ', 'source': <AuthorSource.CO_AUTHORS_LIST: 'CO_AUTHORS_LIST'>, 'name': 'Kathryn R. Elmer', 'affiliation': 'Professor, School of Biodiversity, One Health & Veterinary Medicine (SBOHVM), University …'}, {'container_type': 'Author', 'filled': [], 'scholar_id': 'F1Nh9xgAAAAJ', 'source': <AuthorSource.CO_AUTHORS_LIST: 'CO_AUTHORS_LIST'>, 'name': 'Stephen C. Lougheed', 'affiliation': \"Professor of Biology, Queen's University\"}, {'container_type': 'Author', 'filled': [], 'scholar_id': 'gDgAYBoAAAAJ', 'source': <AuthorSource.CO_AUTHORS_LIST: 'CO_AUTHORS_LIST'>, 'name': 'William E. Peterman', 'affiliation': 'Associate Professor, Ohio State University'}, {'container_type': 'Author', 'filled': [], 'scholar_id': 'NcGkPjkAAAAJ', 'source': <AuthorSource.CO_AUTHORS_LIST: 'CO_AUTHORS_LIST'>, 'name': 'John Maerz', 'affiliation': 'Carey Distinguished Professor of Natural Resources and Josiah Meigs Distinguished …'}, {'container_type': 'Author', 'filled': [], 'scholar_id': 'UhoYA-4AAAAJ', 'source': <AuthorSource.CO_AUTHORS_LIST: 'CO_AUTHORS_LIST'>, 'name': 'Joe Milanovich', 'affiliation': 'Loyola University Chicago'}, {'container_type': 'Author', 'filled': [], 'scholar_id': 'eslOPdYAAAAJ', 'source': <AuthorSource.CO_AUTHORS_LIST: 'CO_AUTHORS_LIST'>, 'name': 'Kelly Zamudio', 'affiliation': 'Integrative Biology, University of Texas at Austin'}, {'container_type': 'Author', 'filled': [], 'scholar_id': 'GLPhVvwAAAAJ', 'source': <AuthorSource.CO_AUTHORS_LIST: 'CO_AUTHORS_LIST'>, 'name': 'Lauren Chan', 'affiliation': 'Pacific University'}, {'container_type': 'Author', 'filled': [], 'scholar_id': 'OgEZg-8AAAAJ', 'source': <AuthorSource.CO_AUTHORS_LIST: 'CO_AUTHORS_LIST'>, 'name': 'Ella Vázquez Domínguez', 'affiliation': 'Instituto de Ecología'}, {'container_type': 'Author', 'filled': [], 'scholar_id': 'ng_vopMAAAAJ', 'source': <AuthorSource.CO_AUTHORS_LIST: 'CO_AUTHORS_LIST'>, 'name': 'Miguel A Alonso-Zarazaga', 'affiliation': 'Entomologist, Retired Scientist, Museo Nacional de Ciencias Naturales (CSIC)'}, {'container_type': 'Author', 'filled': [], 'scholar_id': 'xOxeEpcAAAAJ', 'source': <AuthorSource.CO_AUTHORS_LIST: 'CO_AUTHORS_LIST'>, 'name': 'Alfredo Salvador', 'affiliation': 'Museo Nacional de Ciencias Naturales, CSIC'}]])\n"
     ]
    }
   ],
   "source": [
    "shit = filtered_poop.values()\n",
    "print(shit)"
   ]
  },
  {
   "cell_type": "code",
   "execution_count": 107,
   "id": "5a15d7a7",
   "metadata": {},
   "outputs": [],
   "source": [
    "def my_filtering_function2(pair):\n",
    "    wanted_keys = ['scholar_id','name']\n",
    "    key, value = pair\n",
    "    if key in wanted_keys:\n",
    "        return True  # keep pair in the filtered dictionary\n",
    "    else:\n",
    "        return False  # filter pair out of the dictionary"
   ]
  },
  {
   "cell_type": "code",
   "execution_count": null,
   "id": "f96ddc5c",
   "metadata": {},
   "outputs": [],
   "source": [
    "coa = {'container_type': 'Author',\n",
    "   'filled': [],\n",
    "   'scholar_id': 'gNU5tAwAAAAJ',\n",
    "   'name': 'Gabriela Parra',\n",
    "   'affiliation': 'professor of biology'}"
   ]
  },
  {
   "cell_type": "code",
   "execution_count": 127,
   "id": "d7c49b60",
   "metadata": {},
   "outputs": [
    {
     "data": {
      "text/plain": [
       "dict_items([('container_type', 'Author'), ('filled', []), ('scholar_id', 'gNU5tAwAAAAJ'), ('name', 'Gabriela Parra'), ('affiliation', 'professor of biology')])"
      ]
     },
     "execution_count": 127,
     "metadata": {},
     "output_type": "execute_result"
    }
   ],
   "source": [
    "coa.items()"
   ]
  },
  {
   "cell_type": "code",
   "execution_count": 128,
   "id": "0c99390d",
   "metadata": {},
   "outputs": [
    {
     "name": "stdout",
     "output_type": "stream",
     "text": [
      "container_type Author\n",
      "filled []\n",
      "scholar_id gNU5tAwAAAAJ\n",
      "name Gabriela Parra\n",
      "affiliation professor of biology\n"
     ]
    }
   ],
   "source": [
    "for k,v in coa.items():\n",
    "    print(k,v)"
   ]
  },
  {
   "cell_type": "code",
   "execution_count": 130,
   "id": "91925db5",
   "metadata": {},
   "outputs": [
    {
     "name": "stdout",
     "output_type": "stream",
     "text": [
      "{'scholar_id': 'gNU5tAwAAAAJ', 'name': 'Gabriela Parra'}\n"
     ]
    }
   ],
   "source": [
    "fcoa = dict(filter(my_filtering_function2, coa.items()))\n",
    "\n",
    "print(fcoa)"
   ]
  },
  {
   "cell_type": "code",
   "execution_count": 132,
   "id": "c48a690e",
   "metadata": {
    "scrolled": true
   },
   "outputs": [
    {
     "name": "stdout",
     "output_type": "stream",
     "text": [
      "dict_values([[{'container_type': 'Author', 'filled': [], 'scholar_id': 'gNU5tAwAAAAJ', 'source': <AuthorSource.CO_AUTHORS_LIST: 'CO_AUTHORS_LIST'>, 'name': 'Gabriela Parra', 'affiliation': 'professor of biology'}, {'container_type': 'Author', 'filled': [], 'scholar_id': '-b-tzzgAAAAJ', 'source': <AuthorSource.CO_AUTHORS_LIST: 'CO_AUTHORS_LIST'>, 'name': 'Theodore Papenfuss', 'affiliation': 'UC Berkeley'}, {'container_type': 'Author', 'filled': [], 'scholar_id': '7LURe94AAAAJ', 'source': <AuthorSource.CO_AUTHORS_LIST: 'CO_AUTHORS_LIST'>, 'name': 'James Hanken', 'affiliation': 'Alexander Agassiz Professor of Zoology and Curator in Herpetology, Museum of …'}, {'container_type': 'Author', 'filled': [], 'scholar_id': 'Wcv04-0AAAAJ', 'source': <AuthorSource.CO_AUTHORS_LIST: 'CO_AUTHORS_LIST'>, 'name': 'Andrew R. Blaustein', 'affiliation': 'Professor, Integrative Biology, Oregon State University'}, {'container_type': 'Author', 'filled': [], 'scholar_id': 'khsdwwEAAAAJ', 'source': <AuthorSource.CO_AUTHORS_LIST: 'CO_AUTHORS_LIST'>, 'name': 'Mario García París', 'affiliation': 'Museo Nacional de Ciencias Naturales / National Museum of Natural Sciences, MNCN …'}, {'container_type': 'Author', 'filled': [], 'scholar_id': 'x20bM6cAAAAJ', 'source': <AuthorSource.CO_AUTHORS_LIST: 'CO_AUTHORS_LIST'>, 'name': 'Marvalee H. Wake', 'affiliation': 'Professor of Integrative Biology, Univ. California, Berkeley'}, {'container_type': 'Author', 'filled': [], 'scholar_id': 'BOCmDQIAAAAJ', 'source': <AuthorSource.CO_AUTHORS_LIST: 'CO_AUTHORS_LIST'>, 'name': 'Sean M. Rovito', 'affiliation': 'Laboratorio Nacional de Genómica para la Biodiversidad, Irapuato, Mexico'}, {'container_type': 'Author', 'filled': [], 'scholar_id': 'p_VFa48AAAAJ', 'source': <AuthorSource.CO_AUTHORS_LIST: 'CO_AUTHORS_LIST'>, 'name': 'Vance Vredenburg', 'affiliation': 'Professor, San Francisco State University'}, {'container_type': 'Author', 'filled': [], 'scholar_id': 'i7VQcR8AAAAJ', 'source': <AuthorSource.CO_AUTHORS_LIST: 'CO_AUTHORS_LIST'>, 'name': 'stephen j gould', 'affiliation': ''}, {'container_type': 'Author', 'filled': [], 'scholar_id': 'jgWZfZ0AAAAJ', 'source': <AuthorSource.CO_AUTHORS_LIST: 'CO_AUTHORS_LIST'>, 'name': 'David Vieites', 'affiliation': 'Senior Research Scientist at the Spanish Research Council - CSIC'}, {'container_type': 'Author', 'filled': [], 'scholar_id': 'lLze8eYAAAAJ', 'source': <AuthorSource.CO_AUTHORS_LIST: 'CO_AUTHORS_LIST'>, 'name': 'Craig Moritz', 'affiliation': 'Professor and ARC Laureate Fellow, The Australian National University'}, {'container_type': 'Author', 'filled': [], 'scholar_id': 'pCV2bLAAAAAJ', 'source': <AuthorSource.CO_AUTHORS_LIST: 'CO_AUTHORS_LIST'>, 'name': 'Kiisa Nishikawa', 'affiliation': 'Northern Arizona University'}, {'container_type': 'Author', 'filled': [], 'scholar_id': 'uw9KqJQAAAAJ', 'source': <AuthorSource.CO_AUTHORS_LIST: 'CO_AUTHORS_LIST'>, 'name': 'Carlos R. Vasquez-Almazan', 'affiliation': 'Curador Anfibios y Reptiles Museo de Historia Natural Universidad de San carlos de …'}, {'container_type': 'Author', 'filled': [], 'scholar_id': 'ixMvlw8AAAAJ', 'source': <AuthorSource.CO_AUTHORS_LIST: 'CO_AUTHORS_LIST'>, 'name': 'David Cannatella', 'affiliation': 'Professor of Biology, University of Texas'}, {'container_type': 'Author', 'filled': [], 'scholar_id': 'IRiLeFEAAAAJ', 'source': <AuthorSource.CO_AUTHORS_LIST: 'CO_AUTHORS_LIST'>, 'name': 'Ronald Bonett', 'affiliation': 'Professor of Biological Science, University of Tulsa'}, {'container_type': 'Author', 'filled': [], 'scholar_id': 'b30fh-wAAAAJ', 'source': <AuthorSource.CO_AUTHORS_LIST: 'CO_AUTHORS_LIST'>, 'name': 'Rachel Lockridge Mueller', 'affiliation': 'Professor of Biology, Colorado State University'}, {'container_type': 'Author', 'filled': [], 'scholar_id': 'XB_ZhjUAAAAJ', 'source': <AuthorSource.CO_AUTHORS_LIST: 'CO_AUTHORS_LIST'>, 'name': 'Linda Maxson', 'affiliation': 'Professor Emerita,  Biology, University of Iowa'}, {'container_type': 'Author', 'filled': [], 'scholar_id': 'Uqm_4EQAAAAJ', 'source': <AuthorSource.CO_AUTHORS_LIST: 'CO_AUTHORS_LIST'>, 'name': 'David C. Blackburn', 'affiliation': 'Florida Museum of Natural History, University of Florida'}, {'container_type': 'Author', 'filled': [], 'scholar_id': 'TUgQVOYAAAAJ', 'source': <AuthorSource.CO_AUTHORS_LIST: 'CO_AUTHORS_LIST'>, 'name': 'David M. Hillis', 'affiliation': 'Professor of Integrative Biology, University of Texas at Austin'}, {'container_type': 'Author', 'filled': [], 'scholar_id': 'dh6KLl8AAAAJ', 'source': <AuthorSource.CO_AUTHORS_LIST: 'CO_AUTHORS_LIST'>, 'name': 'Christopher J. Schneider', 'affiliation': 'Boston University'}, {'container_type': 'Author', 'filled': [], 'scholar_id': 'hjgJXSEAAAAJ', 'source': <AuthorSource.CO_AUTHORS_LIST: 'CO_AUTHORS_LIST'>, 'name': 'Stephen M. Deban', 'affiliation': 'Professor, Integrative Biology, University of South Florida'}, {'container_type': 'Author', 'filled': [], 'scholar_id': 'YVFHQagAAAAJ', 'source': <AuthorSource.CO_AUTHORS_LIST: 'CO_AUTHORS_LIST'>, 'name': 'Gunter Wagner', 'affiliation': 'Professor Emeritus of Ecology and Evolutionary Biology, Yale University'}, {'container_type': 'Author', 'filled': [], 'scholar_id': 'Bz1Tx5wAAAAJ', 'source': <AuthorSource.CO_AUTHORS_LIST: 'CO_AUTHORS_LIST'>, 'name': 'Matthias Stöck', 'affiliation': 'Leibniz-Institute of Freshwater Ecology and Inland Fisheries - IGB'}, {'container_type': 'Author', 'filled': [], 'scholar_id': 'qEFTmfkAAAAJ', 'source': <AuthorSource.CO_AUTHORS_LIST: 'CO_AUTHORS_LIST'>, 'name': 'David Buckley', 'affiliation': 'Assistant Professor, Universidad Autónoma de Madrid - UAM'}, {'container_type': 'Author', 'filled': [], 'scholar_id': '3hjBzeYAAAAJ', 'source': <AuthorSource.CO_AUTHORS_LIST: 'CO_AUTHORS_LIST'>, 'name': 'Ricardo J Pereira', 'affiliation': 'LMU-Munich'}, {'container_type': 'Author', 'filled': [], 'scholar_id': '2s4PvKAAAAAJ', 'source': <AuthorSource.CO_AUTHORS_LIST: 'CO_AUTHORS_LIST'>, 'name': 'Jonathan A. Campbell', 'affiliation': ''}, {'container_type': 'Author', 'filled': [], 'scholar_id': 'rk0_IlUAAAAJ', 'source': <AuthorSource.CO_AUTHORS_LIST: 'CO_AUTHORS_LIST'>, 'name': 'Jeffrey Boore', 'affiliation': 'Chief Technology Officer, Phenome Health'}, {'container_type': 'Author', 'filled': [], 'scholar_id': 'qrwgjKUAAAAJ', 'source': <AuthorSource.CO_AUTHORS_LIST: 'CO_AUTHORS_LIST'>, 'name': 'Sean B. Reilly', 'affiliation': 'UC Santa Cruz'}, {'container_type': 'Author', 'filled': [], 'scholar_id': 'JDQ50S8AAAAJ', 'source': <AuthorSource.CO_AUTHORS_LIST: 'CO_AUTHORS_LIST'>, 'name': 'Shawn Kuchta', 'affiliation': 'Ohio University'}, {'container_type': 'Author', 'filled': [], 'scholar_id': '4iip0kQAAAAJ', 'source': <AuthorSource.CO_AUTHORS_LIST: 'CO_AUTHORS_LIST'>, 'name': 'Iñigo Martínez-Solano', 'affiliation': 'Científico Titular, Museo Nacional de Ciencias Naturales (MNCN-CSIC)'}, {'container_type': 'Author', 'filled': [], 'scholar_id': 'X4hbN-IAAAAJ', 'source': <AuthorSource.CO_AUTHORS_LIST: 'CO_AUTHORS_LIST'>, 'name': 'Todd Jackman', 'affiliation': 'Villanova University'}, {'container_type': 'Author', 'filled': [], 'scholar_id': 'rhum600AAAAJ', 'source': <AuthorSource.CO_AUTHORS_LIST: 'CO_AUTHORS_LIST'>, 'name': 'Sandra Nieto-Román; Nieto-Roman, S; Alejandra Nieto-Román', 'affiliation': 'National Museum of Natural Sciences in Madrid'}, {'container_type': 'Author', 'filled': [], 'scholar_id': '0b1l8W0AAAAJ', 'source': <AuthorSource.CO_AUTHORS_LIST: 'CO_AUTHORS_LIST'>, 'name': 'Federico Bolaños', 'affiliation': 'Escuela de Biología, Universidad de Costa Rica'}, {'container_type': 'Author', 'filled': [], 'scholar_id': 'OafZcSMAAAAJ', 'source': <AuthorSource.CO_AUTHORS_LIST: 'CO_AUTHORS_LIST'>, 'name': 'Kellar Autumn', 'affiliation': 'Professor of Biology, Lewis & Clark College'}, {'container_type': 'Author', 'filled': [], 'scholar_id': '1WIPsm0AAAAJ', 'source': <AuthorSource.CO_AUTHORS_LIST: 'CO_AUTHORS_LIST'>, 'name': 'Michael J. Ryan', 'affiliation': 'Professor of Integrative Biology'}, {'container_type': 'Author', 'filled': [], 'scholar_id': 'XLYvOpMAAAAJ', 'source': <AuthorSource.CO_AUTHORS_LIST: 'CO_AUTHORS_LIST'>, 'name': 'Andrew J. Crawford', 'affiliation': 'Universidad de los Andes, Colombia'}, {'container_type': 'Author', 'filled': [], 'scholar_id': 'XaY6DN8AAAAJ', 'source': <AuthorSource.CO_AUTHORS_LIST: 'CO_AUTHORS_LIST'>, 'name': 'MJ Hickerson', 'affiliation': 'Professor, City University of New york, City College'}, {'container_type': 'Author', 'filled': [], 'scholar_id': 'KRCDDGoAAAAJ', 'source': <AuthorSource.CO_AUTHORS_LIST: 'CO_AUTHORS_LIST'>, 'name': 'Stuart JE Baird', 'affiliation': 'IVB, Czech Academy of Sciences, Czech Republic; INRA, France.'}, {'container_type': 'Author', 'filled': [], 'scholar_id': 'WUFF6hMAAAAJ', 'source': <AuthorSource.CO_AUTHORS_LIST: 'CO_AUTHORS_LIST'>, 'name': 'Catherine H. Graham', 'affiliation': 'Swiss Federal Research Institute (WSL)'}, {'container_type': 'Author', 'filled': [], 'scholar_id': 'NWdPabcAAAAJ', 'source': <AuthorSource.CO_AUTHORS_LIST: 'CO_AUTHORS_LIST'>, 'name': 'Robert J. Hijmans', 'affiliation': 'Department of Environmental Science and Policy, University of California, Davis'}, {'container_type': 'Author', 'filled': [], 'scholar_id': 'N5WBppcAAAAJ', 'source': <AuthorSource.CO_AUTHORS_LIST: 'CO_AUTHORS_LIST'>, 'name': 'Miguel Vences', 'affiliation': 'Professor for Evolutionary Biology, Technische Universität Braunschweig'}, {'container_type': 'Author', 'filled': [], 'scholar_id': 'G-2IS0oAAAAJ', 'source': <AuthorSource.CO_AUTHORS_LIST: 'CO_AUTHORS_LIST'>, 'name': 'Kurt Schwenk', 'affiliation': 'Professor of Ecology and Evolutionary Biology, University of Connecticut'}, {'container_type': 'Author', 'filled': [], 'scholar_id': 'gBsUGUgAAAAJ', 'source': <AuthorSource.CO_AUTHORS_LIST: 'CO_AUTHORS_LIST'>, 'name': 'Roland Knapp', 'affiliation': 'Sierra Nevada Aquatic Research Laboratory'}, {'container_type': 'Author', 'filled': [], 'scholar_id': 'PQou6IoAAAAJ', 'source': <AuthorSource.CO_AUTHORS_LIST: 'CO_AUTHORS_LIST'>, 'name': 'Josiah Townsend', 'affiliation': 'Professor, Indiana University of Pennsylvania'}, {'container_type': 'Author', 'filled': [], 'scholar_id': 'QxtdTNsAAAAJ', 'source': <AuthorSource.CO_AUTHORS_LIST: 'CO_AUTHORS_LIST'>, 'name': 'João Alexandrino', 'affiliation': 'Universidade Federal de São Paulo'}, {'container_type': 'Author', 'filled': [], 'scholar_id': 'U4R0tg8AAAAJ', 'source': <AuthorSource.CO_AUTHORS_LIST: 'CO_AUTHORS_LIST'>, 'name': 'Kathryn R. Elmer', 'affiliation': 'Professor, School of Biodiversity, One Health & Veterinary Medicine (SBOHVM), University …'}, {'container_type': 'Author', 'filled': [], 'scholar_id': 'F1Nh9xgAAAAJ', 'source': <AuthorSource.CO_AUTHORS_LIST: 'CO_AUTHORS_LIST'>, 'name': 'Stephen C. Lougheed', 'affiliation': \"Professor of Biology, Queen's University\"}, {'container_type': 'Author', 'filled': [], 'scholar_id': 'gDgAYBoAAAAJ', 'source': <AuthorSource.CO_AUTHORS_LIST: 'CO_AUTHORS_LIST'>, 'name': 'William E. Peterman', 'affiliation': 'Associate Professor, Ohio State University'}, {'container_type': 'Author', 'filled': [], 'scholar_id': 'NcGkPjkAAAAJ', 'source': <AuthorSource.CO_AUTHORS_LIST: 'CO_AUTHORS_LIST'>, 'name': 'John Maerz', 'affiliation': 'Carey Distinguished Professor of Natural Resources and Josiah Meigs Distinguished …'}, {'container_type': 'Author', 'filled': [], 'scholar_id': 'UhoYA-4AAAAJ', 'source': <AuthorSource.CO_AUTHORS_LIST: 'CO_AUTHORS_LIST'>, 'name': 'Joe Milanovich', 'affiliation': 'Loyola University Chicago'}, {'container_type': 'Author', 'filled': [], 'scholar_id': 'eslOPdYAAAAJ', 'source': <AuthorSource.CO_AUTHORS_LIST: 'CO_AUTHORS_LIST'>, 'name': 'Kelly Zamudio', 'affiliation': 'Integrative Biology, University of Texas at Austin'}, {'container_type': 'Author', 'filled': [], 'scholar_id': 'GLPhVvwAAAAJ', 'source': <AuthorSource.CO_AUTHORS_LIST: 'CO_AUTHORS_LIST'>, 'name': 'Lauren Chan', 'affiliation': 'Pacific University'}, {'container_type': 'Author', 'filled': [], 'scholar_id': 'OgEZg-8AAAAJ', 'source': <AuthorSource.CO_AUTHORS_LIST: 'CO_AUTHORS_LIST'>, 'name': 'Ella Vázquez Domínguez', 'affiliation': 'Instituto de Ecología'}, {'container_type': 'Author', 'filled': [], 'scholar_id': 'ng_vopMAAAAJ', 'source': <AuthorSource.CO_AUTHORS_LIST: 'CO_AUTHORS_LIST'>, 'name': 'Miguel A Alonso-Zarazaga', 'affiliation': 'Entomologist, Retired Scientist, Museo Nacional de Ciencias Naturales (CSIC)'}, {'container_type': 'Author', 'filled': [], 'scholar_id': 'xOxeEpcAAAAJ', 'source': <AuthorSource.CO_AUTHORS_LIST: 'CO_AUTHORS_LIST'>, 'name': 'Alfredo Salvador', 'affiliation': 'Museo Nacional de Ciencias Naturales, CSIC'}]])\n"
     ]
    }
   ],
   "source": [
    "string_shit = str(shit)\n",
    "\n",
    "print(string_shit)"
   ]
  },
  {
   "cell_type": "code",
   "execution_count": 137,
   "id": "6d941cd0",
   "metadata": {
    "scrolled": true
   },
   "outputs": [
    {
     "name": "stdout",
     "output_type": "stream",
     "text": [
      "[[{'container_type': 'Author', 'filled': [], 'scholar_id': 'gNU5tAwAAAAJ', 'source': <AuthorSource.CO_AUTHORS_LIST: 'CO_AUTHORS_LIST'>, 'name': 'Gabriela Parra', 'affiliation': 'professor of biology'}, {'container_type': 'Author', 'filled': [], 'scholar_id': '-b-tzzgAAAAJ', 'source': <AuthorSource.CO_AUTHORS_LIST: 'CO_AUTHORS_LIST'>, 'name': 'Theodore Papenfuss', 'affiliation': 'UC Berkeley'}, {'container_type': 'Author', 'filled': [], 'scholar_id': '7LURe94AAAAJ', 'source': <AuthorSource.CO_AUTHORS_LIST: 'CO_AUTHORS_LIST'>, 'name': 'James Hanken', 'affiliation': 'Alexander Agassiz Professor of Zoology and Curator in Herpetology, Museum of …'}, {'container_type': 'Author', 'filled': [], 'scholar_id': 'Wcv04-0AAAAJ', 'source': <AuthorSource.CO_AUTHORS_LIST: 'CO_AUTHORS_LIST'>, 'name': 'Andrew R. Blaustein', 'affiliation': 'Professor, Integrative Biology, Oregon State University'}, {'container_type': 'Author', 'filled': [], 'scholar_id': 'khsdwwEAAAAJ', 'source': <AuthorSource.CO_AUTHORS_LIST: 'CO_AUTHORS_LIST'>, 'name': 'Mario García París', 'affiliation': 'Museo Nacional de Ciencias Naturales / National Museum of Natural Sciences, MNCN …'}, {'container_type': 'Author', 'filled': [], 'scholar_id': 'x20bM6cAAAAJ', 'source': <AuthorSource.CO_AUTHORS_LIST: 'CO_AUTHORS_LIST'>, 'name': 'Marvalee H. Wake', 'affiliation': 'Professor of Integrative Biology, Univ. California, Berkeley'}, {'container_type': 'Author', 'filled': [], 'scholar_id': 'BOCmDQIAAAAJ', 'source': <AuthorSource.CO_AUTHORS_LIST: 'CO_AUTHORS_LIST'>, 'name': 'Sean M. Rovito', 'affiliation': 'Laboratorio Nacional de Genómica para la Biodiversidad, Irapuato, Mexico'}, {'container_type': 'Author', 'filled': [], 'scholar_id': 'p_VFa48AAAAJ', 'source': <AuthorSource.CO_AUTHORS_LIST: 'CO_AUTHORS_LIST'>, 'name': 'Vance Vredenburg', 'affiliation': 'Professor, San Francisco State University'}, {'container_type': 'Author', 'filled': [], 'scholar_id': 'i7VQcR8AAAAJ', 'source': <AuthorSource.CO_AUTHORS_LIST: 'CO_AUTHORS_LIST'>, 'name': 'stephen j gould', 'affiliation': ''}, {'container_type': 'Author', 'filled': [], 'scholar_id': 'jgWZfZ0AAAAJ', 'source': <AuthorSource.CO_AUTHORS_LIST: 'CO_AUTHORS_LIST'>, 'name': 'David Vieites', 'affiliation': 'Senior Research Scientist at the Spanish Research Council - CSIC'}, {'container_type': 'Author', 'filled': [], 'scholar_id': 'lLze8eYAAAAJ', 'source': <AuthorSource.CO_AUTHORS_LIST: 'CO_AUTHORS_LIST'>, 'name': 'Craig Moritz', 'affiliation': 'Professor and ARC Laureate Fellow, The Australian National University'}, {'container_type': 'Author', 'filled': [], 'scholar_id': 'pCV2bLAAAAAJ', 'source': <AuthorSource.CO_AUTHORS_LIST: 'CO_AUTHORS_LIST'>, 'name': 'Kiisa Nishikawa', 'affiliation': 'Northern Arizona University'}, {'container_type': 'Author', 'filled': [], 'scholar_id': 'uw9KqJQAAAAJ', 'source': <AuthorSource.CO_AUTHORS_LIST: 'CO_AUTHORS_LIST'>, 'name': 'Carlos R. Vasquez-Almazan', 'affiliation': 'Curador Anfibios y Reptiles Museo de Historia Natural Universidad de San carlos de …'}, {'container_type': 'Author', 'filled': [], 'scholar_id': 'ixMvlw8AAAAJ', 'source': <AuthorSource.CO_AUTHORS_LIST: 'CO_AUTHORS_LIST'>, 'name': 'David Cannatella', 'affiliation': 'Professor of Biology, University of Texas'}, {'container_type': 'Author', 'filled': [], 'scholar_id': 'IRiLeFEAAAAJ', 'source': <AuthorSource.CO_AUTHORS_LIST: 'CO_AUTHORS_LIST'>, 'name': 'Ronald Bonett', 'affiliation': 'Professor of Biological Science, University of Tulsa'}, {'container_type': 'Author', 'filled': [], 'scholar_id': 'b30fh-wAAAAJ', 'source': <AuthorSource.CO_AUTHORS_LIST: 'CO_AUTHORS_LIST'>, 'name': 'Rachel Lockridge Mueller', 'affiliation': 'Professor of Biology, Colorado State University'}, {'container_type': 'Author', 'filled': [], 'scholar_id': 'XB_ZhjUAAAAJ', 'source': <AuthorSource.CO_AUTHORS_LIST: 'CO_AUTHORS_LIST'>, 'name': 'Linda Maxson', 'affiliation': 'Professor Emerita,  Biology, University of Iowa'}, {'container_type': 'Author', 'filled': [], 'scholar_id': 'Uqm_4EQAAAAJ', 'source': <AuthorSource.CO_AUTHORS_LIST: 'CO_AUTHORS_LIST'>, 'name': 'David C. Blackburn', 'affiliation': 'Florida Museum of Natural History, University of Florida'}, {'container_type': 'Author', 'filled': [], 'scholar_id': 'TUgQVOYAAAAJ', 'source': <AuthorSource.CO_AUTHORS_LIST: 'CO_AUTHORS_LIST'>, 'name': 'David M. Hillis', 'affiliation': 'Professor of Integrative Biology, University of Texas at Austin'}, {'container_type': 'Author', 'filled': [], 'scholar_id': 'dh6KLl8AAAAJ', 'source': <AuthorSource.CO_AUTHORS_LIST: 'CO_AUTHORS_LIST'>, 'name': 'Christopher J. Schneider', 'affiliation': 'Boston University'}, {'container_type': 'Author', 'filled': [], 'scholar_id': 'hjgJXSEAAAAJ', 'source': <AuthorSource.CO_AUTHORS_LIST: 'CO_AUTHORS_LIST'>, 'name': 'Stephen M. Deban', 'affiliation': 'Professor, Integrative Biology, University of South Florida'}, {'container_type': 'Author', 'filled': [], 'scholar_id': 'YVFHQagAAAAJ', 'source': <AuthorSource.CO_AUTHORS_LIST: 'CO_AUTHORS_LIST'>, 'name': 'Gunter Wagner', 'affiliation': 'Professor Emeritus of Ecology and Evolutionary Biology, Yale University'}, {'container_type': 'Author', 'filled': [], 'scholar_id': 'Bz1Tx5wAAAAJ', 'source': <AuthorSource.CO_AUTHORS_LIST: 'CO_AUTHORS_LIST'>, 'name': 'Matthias Stöck', 'affiliation': 'Leibniz-Institute of Freshwater Ecology and Inland Fisheries - IGB'}, {'container_type': 'Author', 'filled': [], 'scholar_id': 'qEFTmfkAAAAJ', 'source': <AuthorSource.CO_AUTHORS_LIST: 'CO_AUTHORS_LIST'>, 'name': 'David Buckley', 'affiliation': 'Assistant Professor, Universidad Autónoma de Madrid - UAM'}, {'container_type': 'Author', 'filled': [], 'scholar_id': '3hjBzeYAAAAJ', 'source': <AuthorSource.CO_AUTHORS_LIST: 'CO_AUTHORS_LIST'>, 'name': 'Ricardo J Pereira', 'affiliation': 'LMU-Munich'}, {'container_type': 'Author', 'filled': [], 'scholar_id': '2s4PvKAAAAAJ', 'source': <AuthorSource.CO_AUTHORS_LIST: 'CO_AUTHORS_LIST'>, 'name': 'Jonathan A. Campbell', 'affiliation': ''}, {'container_type': 'Author', 'filled': [], 'scholar_id': 'rk0_IlUAAAAJ', 'source': <AuthorSource.CO_AUTHORS_LIST: 'CO_AUTHORS_LIST'>, 'name': 'Jeffrey Boore', 'affiliation': 'Chief Technology Officer, Phenome Health'}, {'container_type': 'Author', 'filled': [], 'scholar_id': 'qrwgjKUAAAAJ', 'source': <AuthorSource.CO_AUTHORS_LIST: 'CO_AUTHORS_LIST'>, 'name': 'Sean B. Reilly', 'affiliation': 'UC Santa Cruz'}, {'container_type': 'Author', 'filled': [], 'scholar_id': 'JDQ50S8AAAAJ', 'source': <AuthorSource.CO_AUTHORS_LIST: 'CO_AUTHORS_LIST'>, 'name': 'Shawn Kuchta', 'affiliation': 'Ohio University'}, {'container_type': 'Author', 'filled': [], 'scholar_id': '4iip0kQAAAAJ', 'source': <AuthorSource.CO_AUTHORS_LIST: 'CO_AUTHORS_LIST'>, 'name': 'Iñigo Martínez-Solano', 'affiliation': 'Científico Titular, Museo Nacional de Ciencias Naturales (MNCN-CSIC)'}, {'container_type': 'Author', 'filled': [], 'scholar_id': 'X4hbN-IAAAAJ', 'source': <AuthorSource.CO_AUTHORS_LIST: 'CO_AUTHORS_LIST'>, 'name': 'Todd Jackman', 'affiliation': 'Villanova University'}, {'container_type': 'Author', 'filled': [], 'scholar_id': 'rhum600AAAAJ', 'source': <AuthorSource.CO_AUTHORS_LIST: 'CO_AUTHORS_LIST'>, 'name': 'Sandra Nieto-Román; Nieto-Roman, S; Alejandra Nieto-Román', 'affiliation': 'National Museum of Natural Sciences in Madrid'}, {'container_type': 'Author', 'filled': [], 'scholar_id': '0b1l8W0AAAAJ', 'source': <AuthorSource.CO_AUTHORS_LIST: 'CO_AUTHORS_LIST'>, 'name': 'Federico Bolaños', 'affiliation': 'Escuela de Biología, Universidad de Costa Rica'}, {'container_type': 'Author', 'filled': [], 'scholar_id': 'OafZcSMAAAAJ', 'source': <AuthorSource.CO_AUTHORS_LIST: 'CO_AUTHORS_LIST'>, 'name': 'Kellar Autumn', 'affiliation': 'Professor of Biology, Lewis & Clark College'}, {'container_type': 'Author', 'filled': [], 'scholar_id': '1WIPsm0AAAAJ', 'source': <AuthorSource.CO_AUTHORS_LIST: 'CO_AUTHORS_LIST'>, 'name': 'Michael J. Ryan', 'affiliation': 'Professor of Integrative Biology'}, {'container_type': 'Author', 'filled': [], 'scholar_id': 'XLYvOpMAAAAJ', 'source': <AuthorSource.CO_AUTHORS_LIST: 'CO_AUTHORS_LIST'>, 'name': 'Andrew J. Crawford', 'affiliation': 'Universidad de los Andes, Colombia'}, {'container_type': 'Author', 'filled': [], 'scholar_id': 'XaY6DN8AAAAJ', 'source': <AuthorSource.CO_AUTHORS_LIST: 'CO_AUTHORS_LIST'>, 'name': 'MJ Hickerson', 'affiliation': 'Professor, City University of New york, City College'}, {'container_type': 'Author', 'filled': [], 'scholar_id': 'KRCDDGoAAAAJ', 'source': <AuthorSource.CO_AUTHORS_LIST: 'CO_AUTHORS_LIST'>, 'name': 'Stuart JE Baird', 'affiliation': 'IVB, Czech Academy of Sciences, Czech Republic; INRA, France.'}, {'container_type': 'Author', 'filled': [], 'scholar_id': 'WUFF6hMAAAAJ', 'source': <AuthorSource.CO_AUTHORS_LIST: 'CO_AUTHORS_LIST'>, 'name': 'Catherine H. Graham', 'affiliation': 'Swiss Federal Research Institute (WSL)'}, {'container_type': 'Author', 'filled': [], 'scholar_id': 'NWdPabcAAAAJ', 'source': <AuthorSource.CO_AUTHORS_LIST: 'CO_AUTHORS_LIST'>, 'name': 'Robert J. Hijmans', 'affiliation': 'Department of Environmental Science and Policy, University of California, Davis'}, {'container_type': 'Author', 'filled': [], 'scholar_id': 'N5WBppcAAAAJ', 'source': <AuthorSource.CO_AUTHORS_LIST: 'CO_AUTHORS_LIST'>, 'name': 'Miguel Vences', 'affiliation': 'Professor for Evolutionary Biology, Technische Universität Braunschweig'}, {'container_type': 'Author', 'filled': [], 'scholar_id': 'G-2IS0oAAAAJ', 'source': <AuthorSource.CO_AUTHORS_LIST: 'CO_AUTHORS_LIST'>, 'name': 'Kurt Schwenk', 'affiliation': 'Professor of Ecology and Evolutionary Biology, University of Connecticut'}, {'container_type': 'Author', 'filled': [], 'scholar_id': 'gBsUGUgAAAAJ', 'source': <AuthorSource.CO_AUTHORS_LIST: 'CO_AUTHORS_LIST'>, 'name': 'Roland Knapp', 'affiliation': 'Sierra Nevada Aquatic Research Laboratory'}, {'container_type': 'Author', 'filled': [], 'scholar_id': 'PQou6IoAAAAJ', 'source': <AuthorSource.CO_AUTHORS_LIST: 'CO_AUTHORS_LIST'>, 'name': 'Josiah Townsend', 'affiliation': 'Professor, Indiana University of Pennsylvania'}, {'container_type': 'Author', 'filled': [], 'scholar_id': 'QxtdTNsAAAAJ', 'source': <AuthorSource.CO_AUTHORS_LIST: 'CO_AUTHORS_LIST'>, 'name': 'João Alexandrino', 'affiliation': 'Universidade Federal de São Paulo'}, {'container_type': 'Author', 'filled': [], 'scholar_id': 'U4R0tg8AAAAJ', 'source': <AuthorSource.CO_AUTHORS_LIST: 'CO_AUTHORS_LIST'>, 'name': 'Kathryn R. Elmer', 'affiliation': 'Professor, School of Biodiversity, One Health & Veterinary Medicine (SBOHVM), University …'}, {'container_type': 'Author', 'filled': [], 'scholar_id': 'F1Nh9xgAAAAJ', 'source': <AuthorSource.CO_AUTHORS_LIST: 'CO_AUTHORS_LIST'>, 'name': 'Stephen C. Lougheed', 'affiliation': \"Professor of Biology, Queen's University\"}, {'container_type': 'Author', 'filled': [], 'scholar_id': 'gDgAYBoAAAAJ', 'source': <AuthorSource.CO_AUTHORS_LIST: 'CO_AUTHORS_LIST'>, 'name': 'William E. Peterman', 'affiliation': 'Associate Professor, Ohio State University'}, {'container_type': 'Author', 'filled': [], 'scholar_id': 'NcGkPjkAAAAJ', 'source': <AuthorSource.CO_AUTHORS_LIST: 'CO_AUTHORS_LIST'>, 'name': 'John Maerz', 'affiliation': 'Carey Distinguished Professor of Natural Resources and Josiah Meigs Distinguished …'}, {'container_type': 'Author', 'filled': [], 'scholar_id': 'UhoYA-4AAAAJ', 'source': <AuthorSource.CO_AUTHORS_LIST: 'CO_AUTHORS_LIST'>, 'name': 'Joe Milanovich', 'affiliation': 'Loyola University Chicago'}, {'container_type': 'Author', 'filled': [], 'scholar_id': 'eslOPdYAAAAJ', 'source': <AuthorSource.CO_AUTHORS_LIST: 'CO_AUTHORS_LIST'>, 'name': 'Kelly Zamudio', 'affiliation': 'Integrative Biology, University of Texas at Austin'}, {'container_type': 'Author', 'filled': [], 'scholar_id': 'GLPhVvwAAAAJ', 'source': <AuthorSource.CO_AUTHORS_LIST: 'CO_AUTHORS_LIST'>, 'name': 'Lauren Chan', 'affiliation': 'Pacific University'}, {'container_type': 'Author', 'filled': [], 'scholar_id': 'OgEZg-8AAAAJ', 'source': <AuthorSource.CO_AUTHORS_LIST: 'CO_AUTHORS_LIST'>, 'name': 'Ella Vázquez Domínguez', 'affiliation': 'Instituto de Ecología'}, {'container_type': 'Author', 'filled': [], 'scholar_id': 'ng_vopMAAAAJ', 'source': <AuthorSource.CO_AUTHORS_LIST: 'CO_AUTHORS_LIST'>, 'name': 'Miguel A Alonso-Zarazaga', 'affiliation': 'Entomologist, Retired Scientist, Museo Nacional de Ciencias Naturales (CSIC)'}, {'container_type': 'Author', 'filled': [], 'scholar_id': 'xOxeEpcAAAAJ', 'source': <AuthorSource.CO_AUTHORS_LIST: 'CO_AUTHORS_LIST'>, 'name': 'Alfredo Salvador', 'affiliation': 'Museo Nacional de Ciencias Naturales, CSIC'}]])\n"
     ]
    }
   ],
   "source": [
    "rep1 = string_shit.replace( 'dict_values(', '')\n",
    "\n",
    "print(rep1)"
   ]
  },
  {
   "cell_type": "code",
   "execution_count": 138,
   "id": "89b89159",
   "metadata": {
    "scrolled": true
   },
   "outputs": [
    {
     "name": "stdout",
     "output_type": "stream",
     "text": [
      "{'container_type': 'Author', 'filled': [], 'scholar_id': 'gNU5tAwAAAAJ', 'source': <AuthorSource.CO_AUTHORS_LIST: 'CO_AUTHORS_LIST'>, 'name': 'Gabriela Parra', 'affiliation': 'professor of biology'}, {'container_type': 'Author', 'filled': [], 'scholar_id': '-b-tzzgAAAAJ', 'source': <AuthorSource.CO_AUTHORS_LIST: 'CO_AUTHORS_LIST'>, 'name': 'Theodore Papenfuss', 'affiliation': 'UC Berkeley'}, {'container_type': 'Author', 'filled': [], 'scholar_id': '7LURe94AAAAJ', 'source': <AuthorSource.CO_AUTHORS_LIST: 'CO_AUTHORS_LIST'>, 'name': 'James Hanken', 'affiliation': 'Alexander Agassiz Professor of Zoology and Curator in Herpetology, Museum of …'}, {'container_type': 'Author', 'filled': [], 'scholar_id': 'Wcv04-0AAAAJ', 'source': <AuthorSource.CO_AUTHORS_LIST: 'CO_AUTHORS_LIST'>, 'name': 'Andrew R. Blaustein', 'affiliation': 'Professor, Integrative Biology, Oregon State University'}, {'container_type': 'Author', 'filled': [], 'scholar_id': 'khsdwwEAAAAJ', 'source': <AuthorSource.CO_AUTHORS_LIST: 'CO_AUTHORS_LIST'>, 'name': 'Mario García París', 'affiliation': 'Museo Nacional de Ciencias Naturales / National Museum of Natural Sciences, MNCN …'}, {'container_type': 'Author', 'filled': [], 'scholar_id': 'x20bM6cAAAAJ', 'source': <AuthorSource.CO_AUTHORS_LIST: 'CO_AUTHORS_LIST'>, 'name': 'Marvalee H. Wake', 'affiliation': 'Professor of Integrative Biology, Univ. California, Berkeley'}, {'container_type': 'Author', 'filled': [], 'scholar_id': 'BOCmDQIAAAAJ', 'source': <AuthorSource.CO_AUTHORS_LIST: 'CO_AUTHORS_LIST'>, 'name': 'Sean M. Rovito', 'affiliation': 'Laboratorio Nacional de Genómica para la Biodiversidad, Irapuato, Mexico'}, {'container_type': 'Author', 'filled': [], 'scholar_id': 'p_VFa48AAAAJ', 'source': <AuthorSource.CO_AUTHORS_LIST: 'CO_AUTHORS_LIST'>, 'name': 'Vance Vredenburg', 'affiliation': 'Professor, San Francisco State University'}, {'container_type': 'Author', 'filled': [], 'scholar_id': 'i7VQcR8AAAAJ', 'source': <AuthorSource.CO_AUTHORS_LIST: 'CO_AUTHORS_LIST'>, 'name': 'stephen j gould', 'affiliation': ''}, {'container_type': 'Author', 'filled': [], 'scholar_id': 'jgWZfZ0AAAAJ', 'source': <AuthorSource.CO_AUTHORS_LIST: 'CO_AUTHORS_LIST'>, 'name': 'David Vieites', 'affiliation': 'Senior Research Scientist at the Spanish Research Council - CSIC'}, {'container_type': 'Author', 'filled': [], 'scholar_id': 'lLze8eYAAAAJ', 'source': <AuthorSource.CO_AUTHORS_LIST: 'CO_AUTHORS_LIST'>, 'name': 'Craig Moritz', 'affiliation': 'Professor and ARC Laureate Fellow, The Australian National University'}, {'container_type': 'Author', 'filled': [], 'scholar_id': 'pCV2bLAAAAAJ', 'source': <AuthorSource.CO_AUTHORS_LIST: 'CO_AUTHORS_LIST'>, 'name': 'Kiisa Nishikawa', 'affiliation': 'Northern Arizona University'}, {'container_type': 'Author', 'filled': [], 'scholar_id': 'uw9KqJQAAAAJ', 'source': <AuthorSource.CO_AUTHORS_LIST: 'CO_AUTHORS_LIST'>, 'name': 'Carlos R. Vasquez-Almazan', 'affiliation': 'Curador Anfibios y Reptiles Museo de Historia Natural Universidad de San carlos de …'}, {'container_type': 'Author', 'filled': [], 'scholar_id': 'ixMvlw8AAAAJ', 'source': <AuthorSource.CO_AUTHORS_LIST: 'CO_AUTHORS_LIST'>, 'name': 'David Cannatella', 'affiliation': 'Professor of Biology, University of Texas'}, {'container_type': 'Author', 'filled': [], 'scholar_id': 'IRiLeFEAAAAJ', 'source': <AuthorSource.CO_AUTHORS_LIST: 'CO_AUTHORS_LIST'>, 'name': 'Ronald Bonett', 'affiliation': 'Professor of Biological Science, University of Tulsa'}, {'container_type': 'Author', 'filled': [], 'scholar_id': 'b30fh-wAAAAJ', 'source': <AuthorSource.CO_AUTHORS_LIST: 'CO_AUTHORS_LIST'>, 'name': 'Rachel Lockridge Mueller', 'affiliation': 'Professor of Biology, Colorado State University'}, {'container_type': 'Author', 'filled': [], 'scholar_id': 'XB_ZhjUAAAAJ', 'source': <AuthorSource.CO_AUTHORS_LIST: 'CO_AUTHORS_LIST'>, 'name': 'Linda Maxson', 'affiliation': 'Professor Emerita,  Biology, University of Iowa'}, {'container_type': 'Author', 'filled': [], 'scholar_id': 'Uqm_4EQAAAAJ', 'source': <AuthorSource.CO_AUTHORS_LIST: 'CO_AUTHORS_LIST'>, 'name': 'David C. Blackburn', 'affiliation': 'Florida Museum of Natural History, University of Florida'}, {'container_type': 'Author', 'filled': [], 'scholar_id': 'TUgQVOYAAAAJ', 'source': <AuthorSource.CO_AUTHORS_LIST: 'CO_AUTHORS_LIST'>, 'name': 'David M. Hillis', 'affiliation': 'Professor of Integrative Biology, University of Texas at Austin'}, {'container_type': 'Author', 'filled': [], 'scholar_id': 'dh6KLl8AAAAJ', 'source': <AuthorSource.CO_AUTHORS_LIST: 'CO_AUTHORS_LIST'>, 'name': 'Christopher J. Schneider', 'affiliation': 'Boston University'}, {'container_type': 'Author', 'filled': [], 'scholar_id': 'hjgJXSEAAAAJ', 'source': <AuthorSource.CO_AUTHORS_LIST: 'CO_AUTHORS_LIST'>, 'name': 'Stephen M. Deban', 'affiliation': 'Professor, Integrative Biology, University of South Florida'}, {'container_type': 'Author', 'filled': [], 'scholar_id': 'YVFHQagAAAAJ', 'source': <AuthorSource.CO_AUTHORS_LIST: 'CO_AUTHORS_LIST'>, 'name': 'Gunter Wagner', 'affiliation': 'Professor Emeritus of Ecology and Evolutionary Biology, Yale University'}, {'container_type': 'Author', 'filled': [], 'scholar_id': 'Bz1Tx5wAAAAJ', 'source': <AuthorSource.CO_AUTHORS_LIST: 'CO_AUTHORS_LIST'>, 'name': 'Matthias Stöck', 'affiliation': 'Leibniz-Institute of Freshwater Ecology and Inland Fisheries - IGB'}, {'container_type': 'Author', 'filled': [], 'scholar_id': 'qEFTmfkAAAAJ', 'source': <AuthorSource.CO_AUTHORS_LIST: 'CO_AUTHORS_LIST'>, 'name': 'David Buckley', 'affiliation': 'Assistant Professor, Universidad Autónoma de Madrid - UAM'}, {'container_type': 'Author', 'filled': [], 'scholar_id': '3hjBzeYAAAAJ', 'source': <AuthorSource.CO_AUTHORS_LIST: 'CO_AUTHORS_LIST'>, 'name': 'Ricardo J Pereira', 'affiliation': 'LMU-Munich'}, {'container_type': 'Author', 'filled': [], 'scholar_id': '2s4PvKAAAAAJ', 'source': <AuthorSource.CO_AUTHORS_LIST: 'CO_AUTHORS_LIST'>, 'name': 'Jonathan A. Campbell', 'affiliation': ''}, {'container_type': 'Author', 'filled': [], 'scholar_id': 'rk0_IlUAAAAJ', 'source': <AuthorSource.CO_AUTHORS_LIST: 'CO_AUTHORS_LIST'>, 'name': 'Jeffrey Boore', 'affiliation': 'Chief Technology Officer, Phenome Health'}, {'container_type': 'Author', 'filled': [], 'scholar_id': 'qrwgjKUAAAAJ', 'source': <AuthorSource.CO_AUTHORS_LIST: 'CO_AUTHORS_LIST'>, 'name': 'Sean B. Reilly', 'affiliation': 'UC Santa Cruz'}, {'container_type': 'Author', 'filled': [], 'scholar_id': 'JDQ50S8AAAAJ', 'source': <AuthorSource.CO_AUTHORS_LIST: 'CO_AUTHORS_LIST'>, 'name': 'Shawn Kuchta', 'affiliation': 'Ohio University'}, {'container_type': 'Author', 'filled': [], 'scholar_id': '4iip0kQAAAAJ', 'source': <AuthorSource.CO_AUTHORS_LIST: 'CO_AUTHORS_LIST'>, 'name': 'Iñigo Martínez-Solano', 'affiliation': 'Científico Titular, Museo Nacional de Ciencias Naturales (MNCN-CSIC)'}, {'container_type': 'Author', 'filled': [], 'scholar_id': 'X4hbN-IAAAAJ', 'source': <AuthorSource.CO_AUTHORS_LIST: 'CO_AUTHORS_LIST'>, 'name': 'Todd Jackman', 'affiliation': 'Villanova University'}, {'container_type': 'Author', 'filled': [], 'scholar_id': 'rhum600AAAAJ', 'source': <AuthorSource.CO_AUTHORS_LIST: 'CO_AUTHORS_LIST'>, 'name': 'Sandra Nieto-Román; Nieto-Roman, S; Alejandra Nieto-Román', 'affiliation': 'National Museum of Natural Sciences in Madrid'}, {'container_type': 'Author', 'filled': [], 'scholar_id': '0b1l8W0AAAAJ', 'source': <AuthorSource.CO_AUTHORS_LIST: 'CO_AUTHORS_LIST'>, 'name': 'Federico Bolaños', 'affiliation': 'Escuela de Biología, Universidad de Costa Rica'}, {'container_type': 'Author', 'filled': [], 'scholar_id': 'OafZcSMAAAAJ', 'source': <AuthorSource.CO_AUTHORS_LIST: 'CO_AUTHORS_LIST'>, 'name': 'Kellar Autumn', 'affiliation': 'Professor of Biology, Lewis & Clark College'}, {'container_type': 'Author', 'filled': [], 'scholar_id': '1WIPsm0AAAAJ', 'source': <AuthorSource.CO_AUTHORS_LIST: 'CO_AUTHORS_LIST'>, 'name': 'Michael J. Ryan', 'affiliation': 'Professor of Integrative Biology'}, {'container_type': 'Author', 'filled': [], 'scholar_id': 'XLYvOpMAAAAJ', 'source': <AuthorSource.CO_AUTHORS_LIST: 'CO_AUTHORS_LIST'>, 'name': 'Andrew J. Crawford', 'affiliation': 'Universidad de los Andes, Colombia'}, {'container_type': 'Author', 'filled': [], 'scholar_id': 'XaY6DN8AAAAJ', 'source': <AuthorSource.CO_AUTHORS_LIST: 'CO_AUTHORS_LIST'>, 'name': 'MJ Hickerson', 'affiliation': 'Professor, City University of New york, City College'}, {'container_type': 'Author', 'filled': [], 'scholar_id': 'KRCDDGoAAAAJ', 'source': <AuthorSource.CO_AUTHORS_LIST: 'CO_AUTHORS_LIST'>, 'name': 'Stuart JE Baird', 'affiliation': 'IVB, Czech Academy of Sciences, Czech Republic; INRA, France.'}, {'container_type': 'Author', 'filled': [], 'scholar_id': 'WUFF6hMAAAAJ', 'source': <AuthorSource.CO_AUTHORS_LIST: 'CO_AUTHORS_LIST'>, 'name': 'Catherine H. Graham', 'affiliation': 'Swiss Federal Research Institute (WSL)'}, {'container_type': 'Author', 'filled': [], 'scholar_id': 'NWdPabcAAAAJ', 'source': <AuthorSource.CO_AUTHORS_LIST: 'CO_AUTHORS_LIST'>, 'name': 'Robert J. Hijmans', 'affiliation': 'Department of Environmental Science and Policy, University of California, Davis'}, {'container_type': 'Author', 'filled': [], 'scholar_id': 'N5WBppcAAAAJ', 'source': <AuthorSource.CO_AUTHORS_LIST: 'CO_AUTHORS_LIST'>, 'name': 'Miguel Vences', 'affiliation': 'Professor for Evolutionary Biology, Technische Universität Braunschweig'}, {'container_type': 'Author', 'filled': [], 'scholar_id': 'G-2IS0oAAAAJ', 'source': <AuthorSource.CO_AUTHORS_LIST: 'CO_AUTHORS_LIST'>, 'name': 'Kurt Schwenk', 'affiliation': 'Professor of Ecology and Evolutionary Biology, University of Connecticut'}, {'container_type': 'Author', 'filled': [], 'scholar_id': 'gBsUGUgAAAAJ', 'source': <AuthorSource.CO_AUTHORS_LIST: 'CO_AUTHORS_LIST'>, 'name': 'Roland Knapp', 'affiliation': 'Sierra Nevada Aquatic Research Laboratory'}, {'container_type': 'Author', 'filled': [], 'scholar_id': 'PQou6IoAAAAJ', 'source': <AuthorSource.CO_AUTHORS_LIST: 'CO_AUTHORS_LIST'>, 'name': 'Josiah Townsend', 'affiliation': 'Professor, Indiana University of Pennsylvania'}, {'container_type': 'Author', 'filled': [], 'scholar_id': 'QxtdTNsAAAAJ', 'source': <AuthorSource.CO_AUTHORS_LIST: 'CO_AUTHORS_LIST'>, 'name': 'João Alexandrino', 'affiliation': 'Universidade Federal de São Paulo'}, {'container_type': 'Author', 'filled': [], 'scholar_id': 'U4R0tg8AAAAJ', 'source': <AuthorSource.CO_AUTHORS_LIST: 'CO_AUTHORS_LIST'>, 'name': 'Kathryn R. Elmer', 'affiliation': 'Professor, School of Biodiversity, One Health & Veterinary Medicine (SBOHVM), University …'}, {'container_type': 'Author', 'filled': [], 'scholar_id': 'F1Nh9xgAAAAJ', 'source': <AuthorSource.CO_AUTHORS_LIST: 'CO_AUTHORS_LIST'>, 'name': 'Stephen C. Lougheed', 'affiliation': \"Professor of Biology, Queen's University\"}, {'container_type': 'Author', 'filled': [], 'scholar_id': 'gDgAYBoAAAAJ', 'source': <AuthorSource.CO_AUTHORS_LIST: 'CO_AUTHORS_LIST'>, 'name': 'William E. Peterman', 'affiliation': 'Associate Professor, Ohio State University'}, {'container_type': 'Author', 'filled': [], 'scholar_id': 'NcGkPjkAAAAJ', 'source': <AuthorSource.CO_AUTHORS_LIST: 'CO_AUTHORS_LIST'>, 'name': 'John Maerz', 'affiliation': 'Carey Distinguished Professor of Natural Resources and Josiah Meigs Distinguished …'}, {'container_type': 'Author', 'filled': [], 'scholar_id': 'UhoYA-4AAAAJ', 'source': <AuthorSource.CO_AUTHORS_LIST: 'CO_AUTHORS_LIST'>, 'name': 'Joe Milanovich', 'affiliation': 'Loyola University Chicago'}, {'container_type': 'Author', 'filled': [], 'scholar_id': 'eslOPdYAAAAJ', 'source': <AuthorSource.CO_AUTHORS_LIST: 'CO_AUTHORS_LIST'>, 'name': 'Kelly Zamudio', 'affiliation': 'Integrative Biology, University of Texas at Austin'}, {'container_type': 'Author', 'filled': [], 'scholar_id': 'GLPhVvwAAAAJ', 'source': <AuthorSource.CO_AUTHORS_LIST: 'CO_AUTHORS_LIST'>, 'name': 'Lauren Chan', 'affiliation': 'Pacific University'}, {'container_type': 'Author', 'filled': [], 'scholar_id': 'OgEZg-8AAAAJ', 'source': <AuthorSource.CO_AUTHORS_LIST: 'CO_AUTHORS_LIST'>, 'name': 'Ella Vázquez Domínguez', 'affiliation': 'Instituto de Ecología'}, {'container_type': 'Author', 'filled': [], 'scholar_id': 'ng_vopMAAAAJ', 'source': <AuthorSource.CO_AUTHORS_LIST: 'CO_AUTHORS_LIST'>, 'name': 'Miguel A Alonso-Zarazaga', 'affiliation': 'Entomologist, Retired Scientist, Museo Nacional de Ciencias Naturales (CSIC)'}, {'container_type': 'Author', 'filled': [], 'scholar_id': 'xOxeEpcAAAAJ', 'source': <AuthorSource.CO_AUTHORS_LIST: 'CO_AUTHORS_LIST'>, 'name': 'Alfredo Salvador', 'affiliation': 'Museo Nacional de Ciencias Naturales, CSIC'}]])\n"
     ]
    }
   ],
   "source": [
    "rep2 = rep1.replace( '[[', '')\n",
    "\n",
    "print(rep2)"
   ]
  },
  {
   "cell_type": "code",
   "execution_count": 144,
   "id": "7011764e",
   "metadata": {
    "scrolled": true
   },
   "outputs": [
    {
     "name": "stdout",
     "output_type": "stream",
     "text": [
      "{'container_type': 'Author', 'filled': [], 'scholar_id': 'gNU5tAwAAAAJ',  'name': 'Gabriela Parra', 'affiliation': 'professor of biology'}, {'container_type': 'Author', 'filled': [], 'scholar_id': '-b-tzzgAAAAJ',  'name': 'Theodore Papenfuss', 'affiliation': 'UC Berkeley'}, {'container_type': 'Author', 'filled': [], 'scholar_id': '7LURe94AAAAJ',  'name': 'James Hanken', 'affiliation': 'Alexander Agassiz Professor of Zoology and Curator in Herpetology, Museum of …'}, {'container_type': 'Author', 'filled': [], 'scholar_id': 'Wcv04-0AAAAJ',  'name': 'Andrew R. Blaustein', 'affiliation': 'Professor, Integrative Biology, Oregon State University'}, {'container_type': 'Author', 'filled': [], 'scholar_id': 'khsdwwEAAAAJ',  'name': 'Mario García París', 'affiliation': 'Museo Nacional de Ciencias Naturales / National Museum of Natural Sciences, MNCN …'}, {'container_type': 'Author', 'filled': [], 'scholar_id': 'x20bM6cAAAAJ',  'name': 'Marvalee H. Wake', 'affiliation': 'Professor of Integrative Biology, Univ. California, Berkeley'}, {'container_type': 'Author', 'filled': [], 'scholar_id': 'BOCmDQIAAAAJ',  'name': 'Sean M. Rovito', 'affiliation': 'Laboratorio Nacional de Genómica para la Biodiversidad, Irapuato, Mexico'}, {'container_type': 'Author', 'filled': [], 'scholar_id': 'p_VFa48AAAAJ',  'name': 'Vance Vredenburg', 'affiliation': 'Professor, San Francisco State University'}, {'container_type': 'Author', 'filled': [], 'scholar_id': 'i7VQcR8AAAAJ',  'name': 'stephen j gould', 'affiliation': ''}, {'container_type': 'Author', 'filled': [], 'scholar_id': 'jgWZfZ0AAAAJ',  'name': 'David Vieites', 'affiliation': 'Senior Research Scientist at the Spanish Research Council - CSIC'}, {'container_type': 'Author', 'filled': [], 'scholar_id': 'lLze8eYAAAAJ',  'name': 'Craig Moritz', 'affiliation': 'Professor and ARC Laureate Fellow, The Australian National University'}, {'container_type': 'Author', 'filled': [], 'scholar_id': 'pCV2bLAAAAAJ',  'name': 'Kiisa Nishikawa', 'affiliation': 'Northern Arizona University'}, {'container_type': 'Author', 'filled': [], 'scholar_id': 'uw9KqJQAAAAJ',  'name': 'Carlos R. Vasquez-Almazan', 'affiliation': 'Curador Anfibios y Reptiles Museo de Historia Natural Universidad de San carlos de …'}, {'container_type': 'Author', 'filled': [], 'scholar_id': 'ixMvlw8AAAAJ',  'name': 'David Cannatella', 'affiliation': 'Professor of Biology, University of Texas'}, {'container_type': 'Author', 'filled': [], 'scholar_id': 'IRiLeFEAAAAJ',  'name': 'Ronald Bonett', 'affiliation': 'Professor of Biological Science, University of Tulsa'}, {'container_type': 'Author', 'filled': [], 'scholar_id': 'b30fh-wAAAAJ',  'name': 'Rachel Lockridge Mueller', 'affiliation': 'Professor of Biology, Colorado State University'}, {'container_type': 'Author', 'filled': [], 'scholar_id': 'XB_ZhjUAAAAJ',  'name': 'Linda Maxson', 'affiliation': 'Professor Emerita,  Biology, University of Iowa'}, {'container_type': 'Author', 'filled': [], 'scholar_id': 'Uqm_4EQAAAAJ',  'name': 'David C. Blackburn', 'affiliation': 'Florida Museum of Natural History, University of Florida'}, {'container_type': 'Author', 'filled': [], 'scholar_id': 'TUgQVOYAAAAJ',  'name': 'David M. Hillis', 'affiliation': 'Professor of Integrative Biology, University of Texas at Austin'}, {'container_type': 'Author', 'filled': [], 'scholar_id': 'dh6KLl8AAAAJ',  'name': 'Christopher J. Schneider', 'affiliation': 'Boston University'}, {'container_type': 'Author', 'filled': [], 'scholar_id': 'hjgJXSEAAAAJ',  'name': 'Stephen M. Deban', 'affiliation': 'Professor, Integrative Biology, University of South Florida'}, {'container_type': 'Author', 'filled': [], 'scholar_id': 'YVFHQagAAAAJ',  'name': 'Gunter Wagner', 'affiliation': 'Professor Emeritus of Ecology and Evolutionary Biology, Yale University'}, {'container_type': 'Author', 'filled': [], 'scholar_id': 'Bz1Tx5wAAAAJ',  'name': 'Matthias Stöck', 'affiliation': 'Leibniz-Institute of Freshwater Ecology and Inland Fisheries - IGB'}, {'container_type': 'Author', 'filled': [], 'scholar_id': 'qEFTmfkAAAAJ',  'name': 'David Buckley', 'affiliation': 'Assistant Professor, Universidad Autónoma de Madrid - UAM'}, {'container_type': 'Author', 'filled': [], 'scholar_id': '3hjBzeYAAAAJ',  'name': 'Ricardo J Pereira', 'affiliation': 'LMU-Munich'}, {'container_type': 'Author', 'filled': [], 'scholar_id': '2s4PvKAAAAAJ',  'name': 'Jonathan A. Campbell', 'affiliation': ''}, {'container_type': 'Author', 'filled': [], 'scholar_id': 'rk0_IlUAAAAJ',  'name': 'Jeffrey Boore', 'affiliation': 'Chief Technology Officer, Phenome Health'}, {'container_type': 'Author', 'filled': [], 'scholar_id': 'qrwgjKUAAAAJ',  'name': 'Sean B. Reilly', 'affiliation': 'UC Santa Cruz'}, {'container_type': 'Author', 'filled': [], 'scholar_id': 'JDQ50S8AAAAJ',  'name': 'Shawn Kuchta', 'affiliation': 'Ohio University'}, {'container_type': 'Author', 'filled': [], 'scholar_id': '4iip0kQAAAAJ',  'name': 'Iñigo Martínez-Solano', 'affiliation': 'Científico Titular, Museo Nacional de Ciencias Naturales (MNCN-CSIC)'}, {'container_type': 'Author', 'filled': [], 'scholar_id': 'X4hbN-IAAAAJ',  'name': 'Todd Jackman', 'affiliation': 'Villanova University'}, {'container_type': 'Author', 'filled': [], 'scholar_id': 'rhum600AAAAJ',  'name': 'Sandra Nieto-Román; Nieto-Roman, S; Alejandra Nieto-Román', 'affiliation': 'National Museum of Natural Sciences in Madrid'}, {'container_type': 'Author', 'filled': [], 'scholar_id': '0b1l8W0AAAAJ',  'name': 'Federico Bolaños', 'affiliation': 'Escuela de Biología, Universidad de Costa Rica'}, {'container_type': 'Author', 'filled': [], 'scholar_id': 'OafZcSMAAAAJ',  'name': 'Kellar Autumn', 'affiliation': 'Professor of Biology, Lewis & Clark College'}, {'container_type': 'Author', 'filled': [], 'scholar_id': '1WIPsm0AAAAJ',  'name': 'Michael J. Ryan', 'affiliation': 'Professor of Integrative Biology'}, {'container_type': 'Author', 'filled': [], 'scholar_id': 'XLYvOpMAAAAJ',  'name': 'Andrew J. Crawford', 'affiliation': 'Universidad de los Andes, Colombia'}, {'container_type': 'Author', 'filled': [], 'scholar_id': 'XaY6DN8AAAAJ',  'name': 'MJ Hickerson', 'affiliation': 'Professor, City University of New york, City College'}, {'container_type': 'Author', 'filled': [], 'scholar_id': 'KRCDDGoAAAAJ',  'name': 'Stuart JE Baird', 'affiliation': 'IVB, Czech Academy of Sciences, Czech Republic; INRA, France.'}, {'container_type': 'Author', 'filled': [], 'scholar_id': 'WUFF6hMAAAAJ',  'name': 'Catherine H. Graham', 'affiliation': 'Swiss Federal Research Institute (WSL)'}, {'container_type': 'Author', 'filled': [], 'scholar_id': 'NWdPabcAAAAJ',  'name': 'Robert J. Hijmans', 'affiliation': 'Department of Environmental Science and Policy, University of California, Davis'}, {'container_type': 'Author', 'filled': [], 'scholar_id': 'N5WBppcAAAAJ',  'name': 'Miguel Vences', 'affiliation': 'Professor for Evolutionary Biology, Technische Universität Braunschweig'}, {'container_type': 'Author', 'filled': [], 'scholar_id': 'G-2IS0oAAAAJ',  'name': 'Kurt Schwenk', 'affiliation': 'Professor of Ecology and Evolutionary Biology, University of Connecticut'}, {'container_type': 'Author', 'filled': [], 'scholar_id': 'gBsUGUgAAAAJ',  'name': 'Roland Knapp', 'affiliation': 'Sierra Nevada Aquatic Research Laboratory'}, {'container_type': 'Author', 'filled': [], 'scholar_id': 'PQou6IoAAAAJ',  'name': 'Josiah Townsend', 'affiliation': 'Professor, Indiana University of Pennsylvania'}, {'container_type': 'Author', 'filled': [], 'scholar_id': 'QxtdTNsAAAAJ',  'name': 'João Alexandrino', 'affiliation': 'Universidade Federal de São Paulo'}, {'container_type': 'Author', 'filled': [], 'scholar_id': 'U4R0tg8AAAAJ',  'name': 'Kathryn R. Elmer', 'affiliation': 'Professor, School of Biodiversity, One Health & Veterinary Medicine (SBOHVM), University …'}, {'container_type': 'Author', 'filled': [], 'scholar_id': 'F1Nh9xgAAAAJ',  'name': 'Stephen C. Lougheed', 'affiliation': \"Professor of Biology, Queen's University\"}, {'container_type': 'Author', 'filled': [], 'scholar_id': 'gDgAYBoAAAAJ',  'name': 'William E. Peterman', 'affiliation': 'Associate Professor, Ohio State University'}, {'container_type': 'Author', 'filled': [], 'scholar_id': 'NcGkPjkAAAAJ',  'name': 'John Maerz', 'affiliation': 'Carey Distinguished Professor of Natural Resources and Josiah Meigs Distinguished …'}, {'container_type': 'Author', 'filled': [], 'scholar_id': 'UhoYA-4AAAAJ',  'name': 'Joe Milanovich', 'affiliation': 'Loyola University Chicago'}, {'container_type': 'Author', 'filled': [], 'scholar_id': 'eslOPdYAAAAJ',  'name': 'Kelly Zamudio', 'affiliation': 'Integrative Biology, University of Texas at Austin'}, {'container_type': 'Author', 'filled': [], 'scholar_id': 'GLPhVvwAAAAJ',  'name': 'Lauren Chan', 'affiliation': 'Pacific University'}, {'container_type': 'Author', 'filled': [], 'scholar_id': 'OgEZg-8AAAAJ',  'name': 'Ella Vázquez Domínguez', 'affiliation': 'Instituto de Ecología'}, {'container_type': 'Author', 'filled': [], 'scholar_id': 'ng_vopMAAAAJ',  'name': 'Miguel A Alonso-Zarazaga', 'affiliation': 'Entomologist, Retired Scientist, Museo Nacional de Ciencias Naturales (CSIC)'}, {'container_type': 'Author', 'filled': [], 'scholar_id': 'xOxeEpcAAAAJ',  'name': 'Alfredo Salvador', 'affiliation': 'Museo Nacional de Ciencias Naturales, CSIC'}]])\n"
     ]
    }
   ],
   "source": [
    "rep3 = rep2.replace(\"'source': <AuthorSource.CO_AUTHORS_LIST: 'CO_AUTHORS_LIST'>,\",'')\n",
    "\n",
    "print(rep3)"
   ]
  },
  {
   "cell_type": "code",
   "execution_count": 149,
   "id": "e8d9d535",
   "metadata": {},
   "outputs": [],
   "source": [
    "def convert(string):\n",
    "    li = list(string.split(\"} \"))\n",
    "    return li"
   ]
  },
  {
   "cell_type": "code",
   "execution_count": 151,
   "id": "113b636a",
   "metadata": {
    "scrolled": true
   },
   "outputs": [
    {
     "data": {
      "text/plain": [
       "['{\\'container_type\\': \\'Author\\', \\'filled\\': [], \\'scholar_id\\': \\'gNU5tAwAAAAJ\\',  \\'name\\': \\'Gabriela Parra\\', \\'affiliation\\': \\'professor of biology\\'}, {\\'container_type\\': \\'Author\\', \\'filled\\': [], \\'scholar_id\\': \\'-b-tzzgAAAAJ\\',  \\'name\\': \\'Theodore Papenfuss\\', \\'affiliation\\': \\'UC Berkeley\\'}, {\\'container_type\\': \\'Author\\', \\'filled\\': [], \\'scholar_id\\': \\'7LURe94AAAAJ\\',  \\'name\\': \\'James Hanken\\', \\'affiliation\\': \\'Alexander Agassiz Professor of Zoology and Curator in Herpetology, Museum of …\\'}, {\\'container_type\\': \\'Author\\', \\'filled\\': [], \\'scholar_id\\': \\'Wcv04-0AAAAJ\\',  \\'name\\': \\'Andrew R. Blaustein\\', \\'affiliation\\': \\'Professor, Integrative Biology, Oregon State University\\'}, {\\'container_type\\': \\'Author\\', \\'filled\\': [], \\'scholar_id\\': \\'khsdwwEAAAAJ\\',  \\'name\\': \\'Mario García París\\', \\'affiliation\\': \\'Museo Nacional de Ciencias Naturales / National Museum of Natural Sciences, MNCN …\\'}, {\\'container_type\\': \\'Author\\', \\'filled\\': [], \\'scholar_id\\': \\'x20bM6cAAAAJ\\',  \\'name\\': \\'Marvalee H. Wake\\', \\'affiliation\\': \\'Professor of Integrative Biology, Univ. California, Berkeley\\'}, {\\'container_type\\': \\'Author\\', \\'filled\\': [], \\'scholar_id\\': \\'BOCmDQIAAAAJ\\',  \\'name\\': \\'Sean M. Rovito\\', \\'affiliation\\': \\'Laboratorio Nacional de Genómica para la Biodiversidad, Irapuato, Mexico\\'}, {\\'container_type\\': \\'Author\\', \\'filled\\': [], \\'scholar_id\\': \\'p_VFa48AAAAJ\\',  \\'name\\': \\'Vance Vredenburg\\', \\'affiliation\\': \\'Professor, San Francisco State University\\'}, {\\'container_type\\': \\'Author\\', \\'filled\\': [], \\'scholar_id\\': \\'i7VQcR8AAAAJ\\',  \\'name\\': \\'stephen j gould\\', \\'affiliation\\': \\'\\'}, {\\'container_type\\': \\'Author\\', \\'filled\\': [], \\'scholar_id\\': \\'jgWZfZ0AAAAJ\\',  \\'name\\': \\'David Vieites\\', \\'affiliation\\': \\'Senior Research Scientist at the Spanish Research Council - CSIC\\'}, {\\'container_type\\': \\'Author\\', \\'filled\\': [], \\'scholar_id\\': \\'lLze8eYAAAAJ\\',  \\'name\\': \\'Craig Moritz\\', \\'affiliation\\': \\'Professor and ARC Laureate Fellow, The Australian National University\\'}, {\\'container_type\\': \\'Author\\', \\'filled\\': [], \\'scholar_id\\': \\'pCV2bLAAAAAJ\\',  \\'name\\': \\'Kiisa Nishikawa\\', \\'affiliation\\': \\'Northern Arizona University\\'}, {\\'container_type\\': \\'Author\\', \\'filled\\': [], \\'scholar_id\\': \\'uw9KqJQAAAAJ\\',  \\'name\\': \\'Carlos R. Vasquez-Almazan\\', \\'affiliation\\': \\'Curador Anfibios y Reptiles Museo de Historia Natural Universidad de San carlos de …\\'}, {\\'container_type\\': \\'Author\\', \\'filled\\': [], \\'scholar_id\\': \\'ixMvlw8AAAAJ\\',  \\'name\\': \\'David Cannatella\\', \\'affiliation\\': \\'Professor of Biology, University of Texas\\'}, {\\'container_type\\': \\'Author\\', \\'filled\\': [], \\'scholar_id\\': \\'IRiLeFEAAAAJ\\',  \\'name\\': \\'Ronald Bonett\\', \\'affiliation\\': \\'Professor of Biological Science, University of Tulsa\\'}, {\\'container_type\\': \\'Author\\', \\'filled\\': [], \\'scholar_id\\': \\'b30fh-wAAAAJ\\',  \\'name\\': \\'Rachel Lockridge Mueller\\', \\'affiliation\\': \\'Professor of Biology, Colorado State University\\'}, {\\'container_type\\': \\'Author\\', \\'filled\\': [], \\'scholar_id\\': \\'XB_ZhjUAAAAJ\\',  \\'name\\': \\'Linda Maxson\\', \\'affiliation\\': \\'Professor Emerita,  Biology, University of Iowa\\'}, {\\'container_type\\': \\'Author\\', \\'filled\\': [], \\'scholar_id\\': \\'Uqm_4EQAAAAJ\\',  \\'name\\': \\'David C. Blackburn\\', \\'affiliation\\': \\'Florida Museum of Natural History, University of Florida\\'}, {\\'container_type\\': \\'Author\\', \\'filled\\': [], \\'scholar_id\\': \\'TUgQVOYAAAAJ\\',  \\'name\\': \\'David M. Hillis\\', \\'affiliation\\': \\'Professor of Integrative Biology, University of Texas at Austin\\'}, {\\'container_type\\': \\'Author\\', \\'filled\\': [], \\'scholar_id\\': \\'dh6KLl8AAAAJ\\',  \\'name\\': \\'Christopher J. Schneider\\', \\'affiliation\\': \\'Boston University\\'}, {\\'container_type\\': \\'Author\\', \\'filled\\': [], \\'scholar_id\\': \\'hjgJXSEAAAAJ\\',  \\'name\\': \\'Stephen M. Deban\\', \\'affiliation\\': \\'Professor, Integrative Biology, University of South Florida\\'}, {\\'container_type\\': \\'Author\\', \\'filled\\': [], \\'scholar_id\\': \\'YVFHQagAAAAJ\\',  \\'name\\': \\'Gunter Wagner\\', \\'affiliation\\': \\'Professor Emeritus of Ecology and Evolutionary Biology, Yale University\\'}, {\\'container_type\\': \\'Author\\', \\'filled\\': [], \\'scholar_id\\': \\'Bz1Tx5wAAAAJ\\',  \\'name\\': \\'Matthias Stöck\\', \\'affiliation\\': \\'Leibniz-Institute of Freshwater Ecology and Inland Fisheries - IGB\\'}, {\\'container_type\\': \\'Author\\', \\'filled\\': [], \\'scholar_id\\': \\'qEFTmfkAAAAJ\\',  \\'name\\': \\'David Buckley\\', \\'affiliation\\': \\'Assistant Professor, Universidad Autónoma de Madrid - UAM\\'}, {\\'container_type\\': \\'Author\\', \\'filled\\': [], \\'scholar_id\\': \\'3hjBzeYAAAAJ\\',  \\'name\\': \\'Ricardo J Pereira\\', \\'affiliation\\': \\'LMU-Munich\\'}, {\\'container_type\\': \\'Author\\', \\'filled\\': [], \\'scholar_id\\': \\'2s4PvKAAAAAJ\\',  \\'name\\': \\'Jonathan A. Campbell\\', \\'affiliation\\': \\'\\'}, {\\'container_type\\': \\'Author\\', \\'filled\\': [], \\'scholar_id\\': \\'rk0_IlUAAAAJ\\',  \\'name\\': \\'Jeffrey Boore\\', \\'affiliation\\': \\'Chief Technology Officer, Phenome Health\\'}, {\\'container_type\\': \\'Author\\', \\'filled\\': [], \\'scholar_id\\': \\'qrwgjKUAAAAJ\\',  \\'name\\': \\'Sean B. Reilly\\', \\'affiliation\\': \\'UC Santa Cruz\\'}, {\\'container_type\\': \\'Author\\', \\'filled\\': [], \\'scholar_id\\': \\'JDQ50S8AAAAJ\\',  \\'name\\': \\'Shawn Kuchta\\', \\'affiliation\\': \\'Ohio University\\'}, {\\'container_type\\': \\'Author\\', \\'filled\\': [], \\'scholar_id\\': \\'4iip0kQAAAAJ\\',  \\'name\\': \\'Iñigo Martínez-Solano\\', \\'affiliation\\': \\'Científico Titular, Museo Nacional de Ciencias Naturales (MNCN-CSIC)\\'}, {\\'container_type\\': \\'Author\\', \\'filled\\': [], \\'scholar_id\\': \\'X4hbN-IAAAAJ\\',  \\'name\\': \\'Todd Jackman\\', \\'affiliation\\': \\'Villanova University\\'}, {\\'container_type\\': \\'Author\\', \\'filled\\': [], \\'scholar_id\\': \\'rhum600AAAAJ\\',  \\'name\\': \\'Sandra Nieto-Román; Nieto-Roman, S; Alejandra Nieto-Román\\', \\'affiliation\\': \\'National Museum of Natural Sciences in Madrid\\'}, {\\'container_type\\': \\'Author\\', \\'filled\\': [], \\'scholar_id\\': \\'0b1l8W0AAAAJ\\',  \\'name\\': \\'Federico Bolaños\\', \\'affiliation\\': \\'Escuela de Biología, Universidad de Costa Rica\\'}, {\\'container_type\\': \\'Author\\', \\'filled\\': [], \\'scholar_id\\': \\'OafZcSMAAAAJ\\',  \\'name\\': \\'Kellar Autumn\\', \\'affiliation\\': \\'Professor of Biology, Lewis & Clark College\\'}, {\\'container_type\\': \\'Author\\', \\'filled\\': [], \\'scholar_id\\': \\'1WIPsm0AAAAJ\\',  \\'name\\': \\'Michael J. Ryan\\', \\'affiliation\\': \\'Professor of Integrative Biology\\'}, {\\'container_type\\': \\'Author\\', \\'filled\\': [], \\'scholar_id\\': \\'XLYvOpMAAAAJ\\',  \\'name\\': \\'Andrew J. Crawford\\', \\'affiliation\\': \\'Universidad de los Andes, Colombia\\'}, {\\'container_type\\': \\'Author\\', \\'filled\\': [], \\'scholar_id\\': \\'XaY6DN8AAAAJ\\',  \\'name\\': \\'MJ Hickerson\\', \\'affiliation\\': \\'Professor, City University of New york, City College\\'}, {\\'container_type\\': \\'Author\\', \\'filled\\': [], \\'scholar_id\\': \\'KRCDDGoAAAAJ\\',  \\'name\\': \\'Stuart JE Baird\\', \\'affiliation\\': \\'IVB, Czech Academy of Sciences, Czech Republic; INRA, France.\\'}, {\\'container_type\\': \\'Author\\', \\'filled\\': [], \\'scholar_id\\': \\'WUFF6hMAAAAJ\\',  \\'name\\': \\'Catherine H. Graham\\', \\'affiliation\\': \\'Swiss Federal Research Institute (WSL)\\'}, {\\'container_type\\': \\'Author\\', \\'filled\\': [], \\'scholar_id\\': \\'NWdPabcAAAAJ\\',  \\'name\\': \\'Robert J. Hijmans\\', \\'affiliation\\': \\'Department of Environmental Science and Policy, University of California, Davis\\'}, {\\'container_type\\': \\'Author\\', \\'filled\\': [], \\'scholar_id\\': \\'N5WBppcAAAAJ\\',  \\'name\\': \\'Miguel Vences\\', \\'affiliation\\': \\'Professor for Evolutionary Biology, Technische Universität Braunschweig\\'}, {\\'container_type\\': \\'Author\\', \\'filled\\': [], \\'scholar_id\\': \\'G-2IS0oAAAAJ\\',  \\'name\\': \\'Kurt Schwenk\\', \\'affiliation\\': \\'Professor of Ecology and Evolutionary Biology, University of Connecticut\\'}, {\\'container_type\\': \\'Author\\', \\'filled\\': [], \\'scholar_id\\': \\'gBsUGUgAAAAJ\\',  \\'name\\': \\'Roland Knapp\\', \\'affiliation\\': \\'Sierra Nevada Aquatic Research Laboratory\\'}, {\\'container_type\\': \\'Author\\', \\'filled\\': [], \\'scholar_id\\': \\'PQou6IoAAAAJ\\',  \\'name\\': \\'Josiah Townsend\\', \\'affiliation\\': \\'Professor, Indiana University of Pennsylvania\\'}, {\\'container_type\\': \\'Author\\', \\'filled\\': [], \\'scholar_id\\': \\'QxtdTNsAAAAJ\\',  \\'name\\': \\'João Alexandrino\\', \\'affiliation\\': \\'Universidade Federal de São Paulo\\'}, {\\'container_type\\': \\'Author\\', \\'filled\\': [], \\'scholar_id\\': \\'U4R0tg8AAAAJ\\',  \\'name\\': \\'Kathryn R. Elmer\\', \\'affiliation\\': \\'Professor, School of Biodiversity, One Health & Veterinary Medicine (SBOHVM), University …\\'}, {\\'container_type\\': \\'Author\\', \\'filled\\': [], \\'scholar_id\\': \\'F1Nh9xgAAAAJ\\',  \\'name\\': \\'Stephen C. Lougheed\\', \\'affiliation\\': \"Professor of Biology, Queen\\'s University\"}, {\\'container_type\\': \\'Author\\', \\'filled\\': [], \\'scholar_id\\': \\'gDgAYBoAAAAJ\\',  \\'name\\': \\'William E. Peterman\\', \\'affiliation\\': \\'Associate Professor, Ohio State University\\'}, {\\'container_type\\': \\'Author\\', \\'filled\\': [], \\'scholar_id\\': \\'NcGkPjkAAAAJ\\',  \\'name\\': \\'John Maerz\\', \\'affiliation\\': \\'Carey Distinguished Professor of Natural Resources and Josiah Meigs Distinguished …\\'}, {\\'container_type\\': \\'Author\\', \\'filled\\': [], \\'scholar_id\\': \\'UhoYA-4AAAAJ\\',  \\'name\\': \\'Joe Milanovich\\', \\'affiliation\\': \\'Loyola University Chicago\\'}, {\\'container_type\\': \\'Author\\', \\'filled\\': [], \\'scholar_id\\': \\'eslOPdYAAAAJ\\',  \\'name\\': \\'Kelly Zamudio\\', \\'affiliation\\': \\'Integrative Biology, University of Texas at Austin\\'}, {\\'container_type\\': \\'Author\\', \\'filled\\': [], \\'scholar_id\\': \\'GLPhVvwAAAAJ\\',  \\'name\\': \\'Lauren Chan\\', \\'affiliation\\': \\'Pacific University\\'}, {\\'container_type\\': \\'Author\\', \\'filled\\': [], \\'scholar_id\\': \\'OgEZg-8AAAAJ\\',  \\'name\\': \\'Ella Vázquez Domínguez\\', \\'affiliation\\': \\'Instituto de Ecología\\'}, {\\'container_type\\': \\'Author\\', \\'filled\\': [], \\'scholar_id\\': \\'ng_vopMAAAAJ\\',  \\'name\\': \\'Miguel A Alonso-Zarazaga\\', \\'affiliation\\': \\'Entomologist, Retired Scientist, Museo Nacional de Ciencias Naturales (CSIC)\\'}, {\\'container_type\\': \\'Author\\', \\'filled\\': [], \\'scholar_id\\': \\'xOxeEpcAAAAJ\\',  \\'name\\': \\'Alfredo Salvador\\', \\'affiliation\\': \\'Museo Nacional de Ciencias Naturales, CSIC\\'}]])']"
      ]
     },
     "execution_count": 151,
     "metadata": {},
     "output_type": "execute_result"
    }
   ],
   "source": [
    "convert(rep3)"
   ]
  },
  {
   "cell_type": "code",
   "execution_count": null,
   "id": "2d3b6cf4",
   "metadata": {},
   "outputs": [],
   "source": []
  }
 ],
 "metadata": {
  "kernelspec": {
   "display_name": "Python 3 (ipykernel)",
   "language": "python",
   "name": "python3"
  },
  "language_info": {
   "codemirror_mode": {
    "name": "ipython",
    "version": 3
   },
   "file_extension": ".py",
   "mimetype": "text/x-python",
   "name": "python",
   "nbconvert_exporter": "python",
   "pygments_lexer": "ipython3",
   "version": "3.8.16"
  }
 },
 "nbformat": 4,
 "nbformat_minor": 5
}
