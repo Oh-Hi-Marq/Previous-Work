{
 "cells": [
  {
   "cell_type": "code",
   "execution_count": 1,
   "id": "1d4e4864",
   "metadata": {},
   "outputs": [],
   "source": [
    "from scholarly import scholarly\n",
    "import ast\n",
    "import pandas as pd"
   ]
  },
  {
   "cell_type": "code",
   "execution_count": 2,
   "id": "2c70a61d",
   "metadata": {},
   "outputs": [],
   "source": [
    "def filter1(pair):\n",
    "    wanted_keys = ['coauthors']\n",
    "    key, value = pair\n",
    "    if key in wanted_keys:\n",
    "        return True  # keep pair in the filtered dictionary\n",
    "    else:\n",
    "        return False  # filter pair out of the dictionary"
   ]
  },
  {
   "cell_type": "code",
   "execution_count": 3,
   "id": "3b170dd5",
   "metadata": {},
   "outputs": [],
   "source": [
    "def test(lsts, key):\n",
    "  return [x.get(key) for x in lsts]"
   ]
  },
  {
   "cell_type": "code",
   "execution_count": 25,
   "id": "65ea83ba",
   "metadata": {},
   "outputs": [],
   "source": [
    "id = 'jNUs6LsAAAAJ'"
   ]
  },
  {
   "cell_type": "code",
   "execution_count": 29,
   "id": "4efeaab2",
   "metadata": {
    "scrolled": true
   },
   "outputs": [],
   "source": [
    "wake_list = ast.literal_eval(str(dict(filter(filter1, scholarly.fill(scholarly.search_author_id(id), sections=['coauthors']).items()))).replace(\"{'coauthors': \",'').replace(\"]}\",'').replace(\"'source': <AuthorSource.CO_AUTHORS_LIST: 'CO_AUTHORS_LIST'>,\",'') + ']')\n"
   ]
  },
  {
   "cell_type": "code",
   "execution_count": 31,
   "id": "7ba3b678",
   "metadata": {
    "scrolled": true
   },
   "outputs": [
    {
     "data": {
      "text/plain": [
       "{'Gabriela Parra': 'gNU5tAwAAAAJ',\n",
       " 'Theodore Papenfuss': '-b-tzzgAAAAJ',\n",
       " 'James Hanken': '7LURe94AAAAJ',\n",
       " 'Andrew R. Blaustein': 'Wcv04-0AAAAJ',\n",
       " 'Mario García París': 'khsdwwEAAAAJ',\n",
       " 'Marvalee H. Wake': 'x20bM6cAAAAJ',\n",
       " 'Sean M. Rovito': 'BOCmDQIAAAAJ',\n",
       " 'Vance Vredenburg': 'p_VFa48AAAAJ',\n",
       " 'stephen j gould': 'i7VQcR8AAAAJ',\n",
       " 'David Vieites': 'jgWZfZ0AAAAJ',\n",
       " 'Craig Moritz': 'lLze8eYAAAAJ',\n",
       " 'Kiisa Nishikawa': 'pCV2bLAAAAAJ',\n",
       " 'Carlos R. Vasquez-Almazan': 'uw9KqJQAAAAJ',\n",
       " 'David Cannatella': 'ixMvlw8AAAAJ',\n",
       " 'Ronald Bonett': 'IRiLeFEAAAAJ',\n",
       " 'Rachel Lockridge Mueller': 'b30fh-wAAAAJ',\n",
       " 'Linda Maxson': 'XB_ZhjUAAAAJ',\n",
       " 'David C. Blackburn': 'Uqm_4EQAAAAJ',\n",
       " 'David M. Hillis': 'TUgQVOYAAAAJ',\n",
       " 'Christopher J. Schneider': 'dh6KLl8AAAAJ',\n",
       " 'Stephen M. Deban': 'hjgJXSEAAAAJ',\n",
       " 'Gunter Wagner': 'YVFHQagAAAAJ',\n",
       " 'Matthias Stöck': 'Bz1Tx5wAAAAJ',\n",
       " 'David Buckley': 'qEFTmfkAAAAJ',\n",
       " 'Ricardo J Pereira': '3hjBzeYAAAAJ',\n",
       " 'Jonathan A. Campbell': '2s4PvKAAAAAJ',\n",
       " 'Jeffrey Boore': 'rk0_IlUAAAAJ',\n",
       " 'Sean B. Reilly': 'qrwgjKUAAAAJ',\n",
       " 'Shawn Kuchta': 'JDQ50S8AAAAJ',\n",
       " 'Iñigo Martínez-Solano': '4iip0kQAAAAJ',\n",
       " 'Todd Jackman': 'X4hbN-IAAAAJ',\n",
       " 'Sandra Nieto-Román; Nieto-Roman, S; Alejandra Nieto-Román': 'rhum600AAAAJ',\n",
       " 'Federico Bolaños': '0b1l8W0AAAAJ',\n",
       " 'Kellar Autumn': 'OafZcSMAAAAJ',\n",
       " 'Michael J. Ryan': '1WIPsm0AAAAJ',\n",
       " 'Andrew J. Crawford': 'XLYvOpMAAAAJ',\n",
       " 'MJ Hickerson': 'XaY6DN8AAAAJ',\n",
       " 'Catherine H. Graham': 'WUFF6hMAAAAJ',\n",
       " 'Robert J. Hijmans': 'NWdPabcAAAAJ',\n",
       " 'Stuart JE Baird': 'KRCDDGoAAAAJ',\n",
       " 'Miguel Vences': 'N5WBppcAAAAJ',\n",
       " 'Kurt Schwenk': 'G-2IS0oAAAAJ',\n",
       " 'Roland Knapp': 'gBsUGUgAAAAJ',\n",
       " 'Josiah Townsend': 'PQou6IoAAAAJ',\n",
       " 'João Alexandrino': 'QxtdTNsAAAAJ',\n",
       " 'Kathryn R. Elmer': 'U4R0tg8AAAAJ',\n",
       " 'Stephen C. Lougheed': 'F1Nh9xgAAAAJ',\n",
       " 'William E. Peterman': 'gDgAYBoAAAAJ',\n",
       " 'John Maerz': 'NcGkPjkAAAAJ',\n",
       " 'Joe Milanovich': 'UhoYA-4AAAAJ',\n",
       " 'Kelly Zamudio': 'eslOPdYAAAAJ',\n",
       " 'Lauren Chan': 'GLPhVvwAAAAJ',\n",
       " 'Ella Vázquez Domínguez': 'OgEZg-8AAAAJ',\n",
       " 'Miguel A Alonso-Zarazaga': 'ng_vopMAAAAJ',\n",
       " 'Alfredo Salvador': 'xOxeEpcAAAAJ'}"
      ]
     },
     "execution_count": 31,
     "metadata": {},
     "output_type": "execute_result"
    }
   ],
   "source": [
    "{test(wake_list, 'name')[i]: test(wake_list, 'scholar_id')[i] for i in range(len(test(wake_list, 'name')))}"
   ]
  },
  {
   "cell_type": "code",
   "execution_count": null,
   "id": "fd5f813d",
   "metadata": {},
   "outputs": [],
   "source": []
  }
 ],
 "metadata": {
  "kernelspec": {
   "display_name": "Python 3 (ipykernel)",
   "language": "python",
   "name": "python3"
  },
  "language_info": {
   "codemirror_mode": {
    "name": "ipython",
    "version": 3
   },
   "file_extension": ".py",
   "mimetype": "text/x-python",
   "name": "python",
   "nbconvert_exporter": "python",
   "pygments_lexer": "ipython3",
   "version": "3.8.16"
  }
 },
 "nbformat": 4,
 "nbformat_minor": 5
}
