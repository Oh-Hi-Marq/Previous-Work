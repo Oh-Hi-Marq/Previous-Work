{
 "cells": [
  {
   "cell_type": "code",
   "execution_count": null,
   "id": "5a10890f",
   "metadata": {},
   "outputs": [],
   "source": []
  },
  {
   "cell_type": "code",
   "execution_count": 1,
   "id": "f3aaaf79",
   "metadata": {},
   "outputs": [],
   "source": [
    "test_list = [\n",
    "    {'container_type': 'Author', 'filled': [], 'scholar_id': 'gNU5tAwAAAAJ',  'name': 'Gabriela Parra', 'affiliation': 'professor of biology'}, \n",
    "    {'container_type': 'Author', 'filled': [], 'scholar_id': '-b-tzzgAAAAJ',  'name': 'Theodore Papenfuss', 'affiliation': 'UC Berkeley'}, \n",
    "    {'container_type': 'Author', 'filled': [], 'scholar_id': '7LURe94AAAAJ',  'name': 'James Hanken', 'affiliation': 'Alexander Agassiz Professor of Zoology and Curator in Herpetology, Museum of …'}, \n",
    "    {'container_type': 'Author', 'filled': [], 'scholar_id': 'Wcv04-0AAAAJ',  'name': 'Andrew R. Blaustein', 'affiliation': 'Professor, Integrative Biology, Oregon State University'}, \n",
    "    {'container_type': 'Author', 'filled': [], 'scholar_id': 'khsdwwEAAAAJ',  'name': 'Mario García París', 'affiliation': 'Museo Nacional de Ciencias Naturales / National Museum of Natural Sciences, MNCN …'}, \n",
    "    {'container_type': 'Author', 'filled': [], 'scholar_id': 'x20bM6cAAAAJ',  'name': 'Marvalee H. Wake', 'affiliation': 'Professor of Integrative Biology, Univ. California, Berkeley'}, \n",
    "    {'container_type': 'Author', 'filled': [], 'scholar_id': 'BOCmDQIAAAAJ',  'name': 'Sean M. Rovito', 'affiliation': 'Laboratorio Nacional de Genómica para la Biodiversidad, Irapuato, Mexico'}, \n",
    "    {'container_type': 'Author', 'filled': [], 'scholar_id': 'p_VFa48AAAAJ',  'name': 'Vance Vredenburg', 'affiliation': 'Professor, San Francisco State University'}, \n",
    "    {'container_type': 'Author', 'filled': [], 'scholar_id': 'i7VQcR8AAAAJ',  'name': 'stephen j gould', 'affiliation': ''}, \n",
    "    {'container_type': 'Author', 'filled': [], 'scholar_id': 'jgWZfZ0AAAAJ',  'name': 'David Vieites', 'affiliation': 'Senior Research Scientist at the Spanish Research Council - CSIC'}, \n",
    "    {'container_type': 'Author', 'filled': [], 'scholar_id': 'lLze8eYAAAAJ',  'name': 'Craig Moritz', 'affiliation': 'Professor and ARC Laureate Fellow, The Australian National University'}, \n",
    "    {'container_type': 'Author', 'filled': [], 'scholar_id': 'pCV2bLAAAAAJ',  'name': 'Kiisa Nishikawa', 'affiliation': 'Northern Arizona University'}, \n",
    "    {'container_type': 'Author', 'filled': [], 'scholar_id': 'uw9KqJQAAAAJ',  'name': 'Carlos R. Vasquez-Almazan', 'affiliation': 'Curador Anfibios y Reptiles Museo de Historia Natural Universidad de San carlos de …'}, \n",
    "    {'container_type': 'Author', 'filled': [], 'scholar_id': 'ixMvlw8AAAAJ',  'name': 'David Cannatella', 'affiliation': 'Professor of Biology, University of Texas'}, \n",
    "    {'container_type': 'Author', 'filled': [], 'scholar_id': 'IRiLeFEAAAAJ',  'name': 'Ronald Bonett', 'affiliation': 'Professor of Biological Science, University of Tulsa'}, \n",
    "    {'container_type': 'Author', 'filled': [], 'scholar_id': 'b30fh-wAAAAJ',  'name': 'Rachel Lockridge Mueller', 'affiliation': 'Professor of Biology, Colorado State University'}, \n",
    "    {'container_type': 'Author', 'filled': [], 'scholar_id': 'XB_ZhjUAAAAJ',  'name': 'Linda Maxson', 'affiliation': 'Professor Emerita,  Biology, University of Iowa'}, \n",
    "    {'container_type': 'Author', 'filled': [], 'scholar_id': 'Uqm_4EQAAAAJ',  'name': 'David C. Blackburn', 'affiliation': 'Florida Museum of Natural History, University of Florida'}, \n",
    "    {'container_type': 'Author', 'filled': [], 'scholar_id': 'TUgQVOYAAAAJ',  'name': 'David M. Hillis', 'affiliation': 'Professor of Integrative Biology, University of Texas at Austin'}, \n",
    "    {'container_type': 'Author', 'filled': [], 'scholar_id': 'dh6KLl8AAAAJ',  'name': 'Christopher J. Schneider', 'affiliation': 'Boston University'}, \n",
    "    {'container_type': 'Author', 'filled': [], 'scholar_id': 'hjgJXSEAAAAJ',  'name': 'Stephen M. Deban', 'affiliation': 'Professor, Integrative Biology, University of South Florida'}, \n",
    "    {'container_type': 'Author', 'filled': [], 'scholar_id': 'YVFHQagAAAAJ',  'name': 'Gunter Wagner', 'affiliation': 'Professor Emeritus of Ecology and Evolutionary Biology, Yale University'}, \n",
    "    {'container_type': 'Author', 'filled': [], 'scholar_id': 'Bz1Tx5wAAAAJ',  'name': 'Matthias Stöck', 'affiliation': 'Leibniz-Institute of Freshwater Ecology and Inland Fisheries - IGB'}, \n",
    "    {'container_type': 'Author', 'filled': [], 'scholar_id': 'qEFTmfkAAAAJ',  'name': 'David Buckley', 'affiliation': 'Assistant Professor, Universidad Autónoma de Madrid - UAM'}, \n",
    "    {'container_type': 'Author', 'filled': [], 'scholar_id': '3hjBzeYAAAAJ',  'name': 'Ricardo J Pereira', 'affiliation': 'LMU-Munich'}, \n",
    "    {'container_type': 'Author', 'filled': [], 'scholar_id': '2s4PvKAAAAAJ',  'name': 'Jonathan A. Campbell', 'affiliation': ''}, \n",
    "    {'container_type': 'Author', 'filled': [], 'scholar_id': 'rk0_IlUAAAAJ',  'name': 'Jeffrey Boore', 'affiliation': 'Chief Technology Officer, Phenome Health'}, \n",
    "    {'container_type': 'Author', 'filled': [], 'scholar_id': 'qrwgjKUAAAAJ',  'name': 'Sean B. Reilly', 'affiliation': 'UC Santa Cruz'}, \n",
    "    {'container_type': 'Author', 'filled': [], 'scholar_id': 'JDQ50S8AAAAJ',  'name': 'Shawn Kuchta', 'affiliation': 'Ohio University'}, \n",
    "    {'container_type': 'Author', 'filled': [], 'scholar_id': '4iip0kQAAAAJ',  'name': 'Iñigo Martínez-Solano', 'affiliation': 'Científico Titular, Museo Nacional de Ciencias Naturales (MNCN-CSIC)'}, \n",
    "    {'container_type': 'Author', 'filled': [], 'scholar_id': 'X4hbN-IAAAAJ',  'name': 'Todd Jackman', 'affiliation': 'Villanova University'}, \n",
    "    {'container_type': 'Author', 'filled': [], 'scholar_id': 'rhum600AAAAJ',  'name': 'Sandra Nieto-Román; Nieto-Roman, S; Alejandra Nieto-Román', 'affiliation': 'National Museum of Natural Sciences in Madrid'}, \n",
    "    {'container_type': 'Author', 'filled': [], 'scholar_id': '0b1l8W0AAAAJ',  'name': 'Federico Bolaños', 'affiliation': 'Escuela de Biología, Universidad de Costa Rica'}, \n",
    "    {'container_type': 'Author', 'filled': [], 'scholar_id': 'OafZcSMAAAAJ',  'name': 'Kellar Autumn', 'affiliation': 'Professor of Biology, Lewis & Clark College'}, \n",
    "    {'container_type': 'Author', 'filled': [], 'scholar_id': '1WIPsm0AAAAJ',  'name': 'Michael J. Ryan', 'affiliation': 'Professor of Integrative Biology'}, \n",
    "    {'container_type': 'Author', 'filled': [], 'scholar_id': 'XLYvOpMAAAAJ',  'name': 'Andrew J. Crawford', 'affiliation': 'Universidad de los Andes, Colombia'}, \n",
    "    {'container_type': 'Author', 'filled': [], 'scholar_id': 'XaY6DN8AAAAJ',  'name': 'MJ Hickerson', 'affiliation': 'Professor, City University of New york, City College'}, \n",
    "    {'container_type': 'Author', 'filled': [], 'scholar_id': 'KRCDDGoAAAAJ',  'name': 'Stuart JE Baird', 'affiliation': 'IVB, Czech Academy of Sciences, Czech Republic; INRA, France.'}, \n",
    "    {'container_type': 'Author', 'filled': [], 'scholar_id': 'WUFF6hMAAAAJ',  'name': 'Catherine H. Graham', 'affiliation': 'Swiss Federal Research Institute (WSL)'}, \n",
    "    {'container_type': 'Author', 'filled': [], 'scholar_id': 'NWdPabcAAAAJ',  'name': 'Robert J. Hijmans', 'affiliation': 'Department of Environmental Science and Policy, University of California, Davis'}, \n",
    "    {'container_type': 'Author', 'filled': [], 'scholar_id': 'N5WBppcAAAAJ',  'name': 'Miguel Vences', 'affiliation': 'Professor for Evolutionary Biology, Technische Universität Braunschweig'}, \n",
    "    {'container_type': 'Author', 'filled': [], 'scholar_id': 'G-2IS0oAAAAJ',  'name': 'Kurt Schwenk', 'affiliation': 'Professor of Ecology and Evolutionary Biology, University of Connecticut'}, \n",
    "    {'container_type': 'Author', 'filled': [], 'scholar_id': 'gBsUGUgAAAAJ',  'name': 'Roland Knapp', 'affiliation': 'Sierra Nevada Aquatic Research Laboratory'}, \n",
    "    {'container_type': 'Author', 'filled': [], 'scholar_id': 'PQou6IoAAAAJ',  'name': 'Josiah Townsend', 'affiliation': 'Professor, Indiana University of Pennsylvania'}, \n",
    "    {'container_type': 'Author', 'filled': [], 'scholar_id': 'QxtdTNsAAAAJ',  'name': 'João Alexandrino', 'affiliation': 'Universidade Federal de São Paulo'}, \n",
    "    {'container_type': 'Author', 'filled': [], 'scholar_id': 'U4R0tg8AAAAJ',  'name': 'Kathryn R. Elmer', 'affiliation': 'Professor, School of Biodiversity, One Health & Veterinary Medicine (SBOHVM), University …'}, \n",
    "    {'container_type': 'Author', 'filled': [], 'scholar_id': 'F1Nh9xgAAAAJ',  'name': 'Stephen C. Lougheed', 'affiliation': \"Professor of Biology, Queen's University\"}, \n",
    "    {'container_type': 'Author', 'filled': [], 'scholar_id': 'gDgAYBoAAAAJ',  'name': 'William E. Peterman', 'affiliation': 'Associate Professor, Ohio State University'}, \n",
    "    {'container_type': 'Author', 'filled': [], 'scholar_id': 'NcGkPjkAAAAJ',  'name': 'John Maerz', 'affiliation': 'Carey Distinguished Professor of Natural Resources and Josiah Meigs Distinguished …'}, \n",
    "    {'container_type': 'Author', 'filled': [], 'scholar_id': 'UhoYA-4AAAAJ',  'name': 'Joe Milanovich', 'affiliation': 'Loyola University Chicago'}, \n",
    "    {'container_type': 'Author', 'filled': [], 'scholar_id': 'eslOPdYAAAAJ',  'name': 'Kelly Zamudio', 'affiliation': 'Integrative Biology, University of Texas at Austin'}, \n",
    "    {'container_type': 'Author', 'filled': [], 'scholar_id': 'GLPhVvwAAAAJ',  'name': 'Lauren Chan', 'affiliation': 'Pacific University'}, \n",
    "    {'container_type': 'Author', 'filled': [], 'scholar_id': 'OgEZg-8AAAAJ',  'name': 'Ella Vázquez Domínguez', 'affiliation': 'Instituto de Ecología'}, \n",
    "    {'container_type': 'Author', 'filled': [], 'scholar_id': 'ng_vopMAAAAJ',  'name': 'Miguel A Alonso-Zarazaga', 'affiliation': 'Entomologist, Retired Scientist, Museo Nacional de Ciencias Naturales (CSIC)'}, \n",
    "    {'container_type': 'Author', 'filled': [], 'scholar_id': 'xOxeEpcAAAAJ',  'name': 'Alfredo Salvador', 'affiliation': 'Museo Nacional de Ciencias Naturales, CSIC'}\n",
    "]"
   ]
  },
  {
   "cell_type": "code",
   "execution_count": 5,
   "id": "37595c54",
   "metadata": {},
   "outputs": [
    {
     "ename": "TypeError",
     "evalue": "can only concatenate list (not \"str\") to list",
     "output_type": "error",
     "traceback": [
      "\u001b[1;31m---------------------------------------------------------------------------\u001b[0m",
      "\u001b[1;31mTypeError\u001b[0m                                 Traceback (most recent call last)",
      "Input \u001b[1;32mIn [5]\u001b[0m, in \u001b[0;36m<cell line: 2>\u001b[1;34m()\u001b[0m\n\u001b[0;32m      2\u001b[0m \u001b[38;5;28;01mfor\u001b[39;00m d \u001b[38;5;129;01min\u001b[39;00m test_list:\n\u001b[0;32m      3\u001b[0m     \u001b[38;5;28;01mfor\u001b[39;00m k, v \u001b[38;5;129;01min\u001b[39;00m d\u001b[38;5;241m.\u001b[39mitems():\n\u001b[1;32m----> 4\u001b[0m         res[k] \u001b[38;5;241m=\u001b[39m \u001b[43mres\u001b[49m\u001b[38;5;241;43m.\u001b[39;49m\u001b[43mget\u001b[49m\u001b[43m(\u001b[49m\u001b[43mk\u001b[49m\u001b[43m,\u001b[49m\u001b[43m \u001b[49m\u001b[43m[\u001b[49m\u001b[43m]\u001b[49m\u001b[43m)\u001b[49m\u001b[43m \u001b[49m\u001b[38;5;241;43m+\u001b[39;49m\u001b[43m \u001b[49m\u001b[43mv\u001b[49m\n\u001b[0;32m      6\u001b[0m \u001b[38;5;28mprint\u001b[39m(res)\n",
      "\u001b[1;31mTypeError\u001b[0m: can only concatenate list (not \"str\") to list"
     ]
    }
   ],
   "source": [
    "res = {}\n",
    "for d in test_list:\n",
    "    for k, v in d.items():\n",
    "        res[k] = res.get(k, []) + v\n",
    " \n",
    "print(res)"
   ]
  },
  {
   "cell_type": "code",
   "execution_count": null,
   "id": "daa01338",
   "metadata": {},
   "outputs": [],
   "source": []
  }
 ],
 "metadata": {
  "kernelspec": {
   "display_name": "Python 3 (ipykernel)",
   "language": "python",
   "name": "python3"
  },
  "language_info": {
   "codemirror_mode": {
    "name": "ipython",
    "version": 3
   },
   "file_extension": ".py",
   "mimetype": "text/x-python",
   "name": "python",
   "nbconvert_exporter": "python",
   "pygments_lexer": "ipython3",
   "version": "3.8.16"
  }
 },
 "nbformat": 4,
 "nbformat_minor": 5
}
