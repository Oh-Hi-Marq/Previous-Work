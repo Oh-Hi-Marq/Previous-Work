{
 "cells": [
  {
   "cell_type": "code",
   "execution_count": 2,
   "id": "278c9353",
   "metadata": {},
   "outputs": [],
   "source": [
    "from functools import reduce"
   ]
  },
  {
   "cell_type": "code",
   "execution_count": 1,
   "id": "dd639a38",
   "metadata": {},
   "outputs": [],
   "source": [
    "test_list = [\n",
    "    {'container_type': 'Author', 'filled': [], 'scholar_id': 'gNU5tAwAAAAJ',  'name': 'Gabriela Parra', 'affiliation': 'professor of biology'}, \n",
    "    {'container_type': 'Author', 'filled': [], 'scholar_id': '-b-tzzgAAAAJ',  'name': 'Theodore Papenfuss', 'affiliation': 'UC Berkeley'}, \n",
    "    {'container_type': 'Author', 'filled': [], 'scholar_id': '7LURe94AAAAJ',  'name': 'James Hanken', 'affiliation': 'Alexander Agassiz Professor of Zoology and Curator in Herpetology, Museum of …'}, \n",
    "    {'container_type': 'Author', 'filled': [], 'scholar_id': 'Wcv04-0AAAAJ',  'name': 'Andrew R. Blaustein', 'affiliation': 'Professor, Integrative Biology, Oregon State University'}, \n",
    "    {'container_type': 'Author', 'filled': [], 'scholar_id': 'khsdwwEAAAAJ',  'name': 'Mario García París', 'affiliation': 'Museo Nacional de Ciencias Naturales / National Museum of Natural Sciences, MNCN …'}, \n",
    "    {'container_type': 'Author', 'filled': [], 'scholar_id': 'x20bM6cAAAAJ',  'name': 'Marvalee H. Wake', 'affiliation': 'Professor of Integrative Biology, Univ. California, Berkeley'}, \n",
    "    {'container_type': 'Author', 'filled': [], 'scholar_id': 'BOCmDQIAAAAJ',  'name': 'Sean M. Rovito', 'affiliation': 'Laboratorio Nacional de Genómica para la Biodiversidad, Irapuato, Mexico'}, \n",
    "    {'container_type': 'Author', 'filled': [], 'scholar_id': 'p_VFa48AAAAJ',  'name': 'Vance Vredenburg', 'affiliation': 'Professor, San Francisco State University'}, \n",
    "    {'container_type': 'Author', 'filled': [], 'scholar_id': 'i7VQcR8AAAAJ',  'name': 'stephen j gould', 'affiliation': ''}, \n",
    "    {'container_type': 'Author', 'filled': [], 'scholar_id': 'jgWZfZ0AAAAJ',  'name': 'David Vieites', 'affiliation': 'Senior Research Scientist at the Spanish Research Council - CSIC'}, \n",
    "    {'container_type': 'Author', 'filled': [], 'scholar_id': 'lLze8eYAAAAJ',  'name': 'Craig Moritz', 'affiliation': 'Professor and ARC Laureate Fellow, The Australian National University'}, \n",
    "    {'container_type': 'Author', 'filled': [], 'scholar_id': 'pCV2bLAAAAAJ',  'name': 'Kiisa Nishikawa', 'affiliation': 'Northern Arizona University'}, \n",
    "    {'container_type': 'Author', 'filled': [], 'scholar_id': 'uw9KqJQAAAAJ',  'name': 'Carlos R. Vasquez-Almazan', 'affiliation': 'Curador Anfibios y Reptiles Museo de Historia Natural Universidad de San carlos de …'}, \n",
    "    {'container_type': 'Author', 'filled': [], 'scholar_id': 'ixMvlw8AAAAJ',  'name': 'David Cannatella', 'affiliation': 'Professor of Biology, University of Texas'}, \n",
    "    {'container_type': 'Author', 'filled': [], 'scholar_id': 'IRiLeFEAAAAJ',  'name': 'Ronald Bonett', 'affiliation': 'Professor of Biological Science, University of Tulsa'}, \n",
    "    {'container_type': 'Author', 'filled': [], 'scholar_id': 'b30fh-wAAAAJ',  'name': 'Rachel Lockridge Mueller', 'affiliation': 'Professor of Biology, Colorado State University'}, \n",
    "    {'container_type': 'Author', 'filled': [], 'scholar_id': 'XB_ZhjUAAAAJ',  'name': 'Linda Maxson', 'affiliation': 'Professor Emerita,  Biology, University of Iowa'}, \n",
    "    {'container_type': 'Author', 'filled': [], 'scholar_id': 'Uqm_4EQAAAAJ',  'name': 'David C. Blackburn', 'affiliation': 'Florida Museum of Natural History, University of Florida'}, \n",
    "    {'container_type': 'Author', 'filled': [], 'scholar_id': 'TUgQVOYAAAAJ',  'name': 'David M. Hillis', 'affiliation': 'Professor of Integrative Biology, University of Texas at Austin'}, \n",
    "    {'container_type': 'Author', 'filled': [], 'scholar_id': 'dh6KLl8AAAAJ',  'name': 'Christopher J. Schneider', 'affiliation': 'Boston University'}, \n",
    "    {'container_type': 'Author', 'filled': [], 'scholar_id': 'hjgJXSEAAAAJ',  'name': 'Stephen M. Deban', 'affiliation': 'Professor, Integrative Biology, University of South Florida'}, \n",
    "    {'container_type': 'Author', 'filled': [], 'scholar_id': 'YVFHQagAAAAJ',  'name': 'Gunter Wagner', 'affiliation': 'Professor Emeritus of Ecology and Evolutionary Biology, Yale University'}, \n",
    "    {'container_type': 'Author', 'filled': [], 'scholar_id': 'Bz1Tx5wAAAAJ',  'name': 'Matthias Stöck', 'affiliation': 'Leibniz-Institute of Freshwater Ecology and Inland Fisheries - IGB'}, \n",
    "    {'container_type': 'Author', 'filled': [], 'scholar_id': 'qEFTmfkAAAAJ',  'name': 'David Buckley', 'affiliation': 'Assistant Professor, Universidad Autónoma de Madrid - UAM'}, \n",
    "    {'container_type': 'Author', 'filled': [], 'scholar_id': '3hjBzeYAAAAJ',  'name': 'Ricardo J Pereira', 'affiliation': 'LMU-Munich'}, \n",
    "    {'container_type': 'Author', 'filled': [], 'scholar_id': '2s4PvKAAAAAJ',  'name': 'Jonathan A. Campbell', 'affiliation': ''}, \n",
    "    {'container_type': 'Author', 'filled': [], 'scholar_id': 'rk0_IlUAAAAJ',  'name': 'Jeffrey Boore', 'affiliation': 'Chief Technology Officer, Phenome Health'}, \n",
    "    {'container_type': 'Author', 'filled': [], 'scholar_id': 'qrwgjKUAAAAJ',  'name': 'Sean B. Reilly', 'affiliation': 'UC Santa Cruz'}, \n",
    "    {'container_type': 'Author', 'filled': [], 'scholar_id': 'JDQ50S8AAAAJ',  'name': 'Shawn Kuchta', 'affiliation': 'Ohio University'}, \n",
    "    {'container_type': 'Author', 'filled': [], 'scholar_id': '4iip0kQAAAAJ',  'name': 'Iñigo Martínez-Solano', 'affiliation': 'Científico Titular, Museo Nacional de Ciencias Naturales (MNCN-CSIC)'}, \n",
    "    {'container_type': 'Author', 'filled': [], 'scholar_id': 'X4hbN-IAAAAJ',  'name': 'Todd Jackman', 'affiliation': 'Villanova University'}, \n",
    "    {'container_type': 'Author', 'filled': [], 'scholar_id': 'rhum600AAAAJ',  'name': 'Sandra Nieto-Román; Nieto-Roman, S; Alejandra Nieto-Román', 'affiliation': 'National Museum of Natural Sciences in Madrid'}, \n",
    "    {'container_type': 'Author', 'filled': [], 'scholar_id': '0b1l8W0AAAAJ',  'name': 'Federico Bolaños', 'affiliation': 'Escuela de Biología, Universidad de Costa Rica'}, \n",
    "    {'container_type': 'Author', 'filled': [], 'scholar_id': 'OafZcSMAAAAJ',  'name': 'Kellar Autumn', 'affiliation': 'Professor of Biology, Lewis & Clark College'}, \n",
    "    {'container_type': 'Author', 'filled': [], 'scholar_id': '1WIPsm0AAAAJ',  'name': 'Michael J. Ryan', 'affiliation': 'Professor of Integrative Biology'}, \n",
    "    {'container_type': 'Author', 'filled': [], 'scholar_id': 'XLYvOpMAAAAJ',  'name': 'Andrew J. Crawford', 'affiliation': 'Universidad de los Andes, Colombia'}, \n",
    "    {'container_type': 'Author', 'filled': [], 'scholar_id': 'XaY6DN8AAAAJ',  'name': 'MJ Hickerson', 'affiliation': 'Professor, City University of New york, City College'}, \n",
    "    {'container_type': 'Author', 'filled': [], 'scholar_id': 'KRCDDGoAAAAJ',  'name': 'Stuart JE Baird', 'affiliation': 'IVB, Czech Academy of Sciences, Czech Republic; INRA, France.'}, \n",
    "    {'container_type': 'Author', 'filled': [], 'scholar_id': 'WUFF6hMAAAAJ',  'name': 'Catherine H. Graham', 'affiliation': 'Swiss Federal Research Institute (WSL)'}, \n",
    "    {'container_type': 'Author', 'filled': [], 'scholar_id': 'NWdPabcAAAAJ',  'name': 'Robert J. Hijmans', 'affiliation': 'Department of Environmental Science and Policy, University of California, Davis'}, \n",
    "    {'container_type': 'Author', 'filled': [], 'scholar_id': 'N5WBppcAAAAJ',  'name': 'Miguel Vences', 'affiliation': 'Professor for Evolutionary Biology, Technische Universität Braunschweig'}, \n",
    "    {'container_type': 'Author', 'filled': [], 'scholar_id': 'G-2IS0oAAAAJ',  'name': 'Kurt Schwenk', 'affiliation': 'Professor of Ecology and Evolutionary Biology, University of Connecticut'}, \n",
    "    {'container_type': 'Author', 'filled': [], 'scholar_id': 'gBsUGUgAAAAJ',  'name': 'Roland Knapp', 'affiliation': 'Sierra Nevada Aquatic Research Laboratory'}, \n",
    "    {'container_type': 'Author', 'filled': [], 'scholar_id': 'PQou6IoAAAAJ',  'name': 'Josiah Townsend', 'affiliation': 'Professor, Indiana University of Pennsylvania'}, \n",
    "    {'container_type': 'Author', 'filled': [], 'scholar_id': 'QxtdTNsAAAAJ',  'name': 'João Alexandrino', 'affiliation': 'Universidade Federal de São Paulo'}, \n",
    "    {'container_type': 'Author', 'filled': [], 'scholar_id': 'U4R0tg8AAAAJ',  'name': 'Kathryn R. Elmer', 'affiliation': 'Professor, School of Biodiversity, One Health & Veterinary Medicine (SBOHVM), University …'}, \n",
    "    {'container_type': 'Author', 'filled': [], 'scholar_id': 'F1Nh9xgAAAAJ',  'name': 'Stephen C. Lougheed', 'affiliation': \"Professor of Biology, Queen's University\"}, \n",
    "    {'container_type': 'Author', 'filled': [], 'scholar_id': 'gDgAYBoAAAAJ',  'name': 'William E. Peterman', 'affiliation': 'Associate Professor, Ohio State University'}, \n",
    "    {'container_type': 'Author', 'filled': [], 'scholar_id': 'NcGkPjkAAAAJ',  'name': 'John Maerz', 'affiliation': 'Carey Distinguished Professor of Natural Resources and Josiah Meigs Distinguished …'}, \n",
    "    {'container_type': 'Author', 'filled': [], 'scholar_id': 'UhoYA-4AAAAJ',  'name': 'Joe Milanovich', 'affiliation': 'Loyola University Chicago'}, \n",
    "    {'container_type': 'Author', 'filled': [], 'scholar_id': 'eslOPdYAAAAJ',  'name': 'Kelly Zamudio', 'affiliation': 'Integrative Biology, University of Texas at Austin'}, \n",
    "    {'container_type': 'Author', 'filled': [], 'scholar_id': 'GLPhVvwAAAAJ',  'name': 'Lauren Chan', 'affiliation': 'Pacific University'}, \n",
    "    {'container_type': 'Author', 'filled': [], 'scholar_id': 'OgEZg-8AAAAJ',  'name': 'Ella Vázquez Domínguez', 'affiliation': 'Instituto de Ecología'}, \n",
    "    {'container_type': 'Author', 'filled': [], 'scholar_id': 'ng_vopMAAAAJ',  'name': 'Miguel A Alonso-Zarazaga', 'affiliation': 'Entomologist, Retired Scientist, Museo Nacional de Ciencias Naturales (CSIC)'}, \n",
    "    {'container_type': 'Author', 'filled': [], 'scholar_id': 'xOxeEpcAAAAJ',  'name': 'Alfredo Salvador', 'affiliation': 'Museo Nacional de Ciencias Naturales, CSIC'}\n",
    "]"
   ]
  },
  {
   "cell_type": "code",
   "execution_count": 7,
   "id": "14c9ea7a",
   "metadata": {},
   "outputs": [],
   "source": [
    "# Defining a function to concatenate the lists with similar keys\n",
    "def concatenate_dict(d1, d2):\n",
    "    for key in d2:\n",
    "        if key in d1:\n",
    "            d1[key] += d2[key]\n",
    "        else:\n",
    "            d1[key] = d2[key]\n",
    "    return d1"
   ]
  },
  {
   "cell_type": "code",
   "execution_count": 4,
   "id": "cdfa267f",
   "metadata": {},
   "outputs": [],
   "source": [
    "# Applying the reduce function to concatenate the dictionaries\n",
    "res = reduce(concatenate_dict, test_list)"
   ]
  },
  {
   "cell_type": "code",
   "execution_count": 5,
   "id": "322cd4f2",
   "metadata": {},
   "outputs": [
    {
     "name": "stdout",
     "output_type": "stream",
     "text": [
      "The concatenated dictionary: {'container_type': 'AuthorAuthorAuthorAuthorAuthorAuthorAuthorAuthorAuthorAuthorAuthorAuthorAuthorAuthorAuthorAuthorAuthorAuthorAuthorAuthorAuthorAuthorAuthorAuthorAuthorAuthorAuthorAuthorAuthorAuthorAuthorAuthorAuthorAuthorAuthorAuthorAuthorAuthorAuthorAuthorAuthorAuthorAuthorAuthorAuthorAuthorAuthorAuthorAuthorAuthorAuthorAuthorAuthorAuthorAuthor', 'filled': [], 'scholar_id': 'gNU5tAwAAAAJ-b-tzzgAAAAJ7LURe94AAAAJWcv04-0AAAAJkhsdwwEAAAAJx20bM6cAAAAJBOCmDQIAAAAJp_VFa48AAAAJi7VQcR8AAAAJjgWZfZ0AAAAJlLze8eYAAAAJpCV2bLAAAAAJuw9KqJQAAAAJixMvlw8AAAAJIRiLeFEAAAAJb30fh-wAAAAJXB_ZhjUAAAAJUqm_4EQAAAAJTUgQVOYAAAAJdh6KLl8AAAAJhjgJXSEAAAAJYVFHQagAAAAJBz1Tx5wAAAAJqEFTmfkAAAAJ3hjBzeYAAAAJ2s4PvKAAAAAJrk0_IlUAAAAJqrwgjKUAAAAJJDQ50S8AAAAJ4iip0kQAAAAJX4hbN-IAAAAJrhum600AAAAJ0b1l8W0AAAAJOafZcSMAAAAJ1WIPsm0AAAAJXLYvOpMAAAAJXaY6DN8AAAAJKRCDDGoAAAAJWUFF6hMAAAAJNWdPabcAAAAJN5WBppcAAAAJG-2IS0oAAAAJgBsUGUgAAAAJPQou6IoAAAAJQxtdTNsAAAAJU4R0tg8AAAAJF1Nh9xgAAAAJgDgAYBoAAAAJNcGkPjkAAAAJUhoYA-4AAAAJeslOPdYAAAAJGLPhVvwAAAAJOgEZg-8AAAAJng_vopMAAAAJxOxeEpcAAAAJ', 'name': 'Gabriela ParraTheodore PapenfussJames HankenAndrew R. BlausteinMario García ParísMarvalee H. WakeSean M. RovitoVance Vredenburgstephen j gouldDavid VieitesCraig MoritzKiisa NishikawaCarlos R. Vasquez-AlmazanDavid CannatellaRonald BonettRachel Lockridge MuellerLinda MaxsonDavid C. BlackburnDavid M. HillisChristopher J. SchneiderStephen M. DebanGunter WagnerMatthias StöckDavid BuckleyRicardo J PereiraJonathan A. CampbellJeffrey BooreSean B. ReillyShawn KuchtaIñigo Martínez-SolanoTodd JackmanSandra Nieto-Román; Nieto-Roman, S; Alejandra Nieto-RománFederico BolañosKellar AutumnMichael J. RyanAndrew J. CrawfordMJ HickersonStuart JE BairdCatherine H. GrahamRobert J. HijmansMiguel VencesKurt SchwenkRoland KnappJosiah TownsendJoão AlexandrinoKathryn R. ElmerStephen C. LougheedWilliam E. PetermanJohn MaerzJoe MilanovichKelly ZamudioLauren ChanElla Vázquez DomínguezMiguel A Alonso-ZarazagaAlfredo Salvador', 'affiliation': \"professor of biologyUC BerkeleyAlexander Agassiz Professor of Zoology and Curator in Herpetology, Museum of …Professor, Integrative Biology, Oregon State UniversityMuseo Nacional de Ciencias Naturales / National Museum of Natural Sciences, MNCN …Professor of Integrative Biology, Univ. California, BerkeleyLaboratorio Nacional de Genómica para la Biodiversidad, Irapuato, MexicoProfessor, San Francisco State UniversitySenior Research Scientist at the Spanish Research Council - CSICProfessor and ARC Laureate Fellow, The Australian National UniversityNorthern Arizona UniversityCurador Anfibios y Reptiles Museo de Historia Natural Universidad de San carlos de …Professor of Biology, University of TexasProfessor of Biological Science, University of TulsaProfessor of Biology, Colorado State UniversityProfessor Emerita,  Biology, University of IowaFlorida Museum of Natural History, University of FloridaProfessor of Integrative Biology, University of Texas at AustinBoston UniversityProfessor, Integrative Biology, University of South FloridaProfessor Emeritus of Ecology and Evolutionary Biology, Yale UniversityLeibniz-Institute of Freshwater Ecology and Inland Fisheries - IGBAssistant Professor, Universidad Autónoma de Madrid - UAMLMU-MunichChief Technology Officer, Phenome HealthUC Santa CruzOhio UniversityCientífico Titular, Museo Nacional de Ciencias Naturales (MNCN-CSIC)Villanova UniversityNational Museum of Natural Sciences in MadridEscuela de Biología, Universidad de Costa RicaProfessor of Biology, Lewis & Clark CollegeProfessor of Integrative BiologyUniversidad de los Andes, ColombiaProfessor, City University of New york, City CollegeIVB, Czech Academy of Sciences, Czech Republic; INRA, France.Swiss Federal Research Institute (WSL)Department of Environmental Science and Policy, University of California, DavisProfessor for Evolutionary Biology, Technische Universität BraunschweigProfessor of Ecology and Evolutionary Biology, University of ConnecticutSierra Nevada Aquatic Research LaboratoryProfessor, Indiana University of PennsylvaniaUniversidade Federal de São PauloProfessor, School of Biodiversity, One Health & Veterinary Medicine (SBOHVM), University …Professor of Biology, Queen's UniversityAssociate Professor, Ohio State UniversityCarey Distinguished Professor of Natural Resources and Josiah Meigs Distinguished …Loyola University ChicagoIntegrative Biology, University of Texas at AustinPacific UniversityInstituto de EcologíaEntomologist, Retired Scientist, Museo Nacional de Ciencias Naturales (CSIC)Museo Nacional de Ciencias Naturales, CSIC\"}\n"
     ]
    }
   ],
   "source": [
    "# Printing the result\n",
    "print(\"The concatenated dictionary: \" + str(res))"
   ]
  },
  {
   "cell_type": "code",
   "execution_count": null,
   "id": "0fa4fd80",
   "metadata": {},
   "outputs": [],
   "source": []
  }
 ],
 "metadata": {
  "kernelspec": {
   "display_name": "Python 3 (ipykernel)",
   "language": "python",
   "name": "python3"
  },
  "language_info": {
   "codemirror_mode": {
    "name": "ipython",
    "version": 3
   },
   "file_extension": ".py",
   "mimetype": "text/x-python",
   "name": "python",
   "nbconvert_exporter": "python",
   "pygments_lexer": "ipython3",
   "version": "3.8.16"
  }
 },
 "nbformat": 4,
 "nbformat_minor": 5
}
