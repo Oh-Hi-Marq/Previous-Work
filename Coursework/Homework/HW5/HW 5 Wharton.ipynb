{
 "cells": [
  {
   "cell_type": "markdown",
   "metadata": {},
   "source": [
    "Each problem is worth 20 points. Problem 1 and 2 are graded based on the test set accuracy of your best model."
   ]
  },
  {
   "cell_type": "code",
   "execution_count": 8,
   "metadata": {},
   "outputs": [],
   "source": [
    "import numpy as np\n",
    "import numpy.matlib\n",
    "import pandas as pd\n",
    "import matplotlib.pyplot as plt\n",
    "import seaborn as sns\n",
    "import cv2\n",
    "from sklearn import metrics\n",
    "from sklearn.metrics import confusion_matrix\n",
    "from sklearn.model_selection import train_test_split\n",
    "from sklearn.tree import DecisionTreeClassifier\n",
    "import matplotlib as mpt\n",
    "import statsmodels.api as sm\n",
    "import statsmodels.formula.api as smf\n",
    "from statsmodels.graphics.gofplots import ProbPlot\n",
    "from sklearn.metrics import r2_score\n",
    "from sklearn.linear_model import LinearRegression\n",
    "from sklearn.ensemble import RandomForestClassifier\n",
    "from sklearn.metrics import roc_auc_score, roc_curve\n",
    "from sklearn.cluster import KMeans\n",
    "from IPython.display import Image, display\n",
    "from PIL import Image\n",
    "from sklearn.decomposition import PCA\n",
    "\n",
    "spam = pd.read_csv('spambase.csv', header = None)"
   ]
  },
  {
   "cell_type": "markdown",
   "metadata": {},
   "source": [
    "### Problem 1   \n",
    "Use the spamdata attached. After cleaning, doing variable selection (by various methods of your choice), divide the data into testing and training with 80, 20 rule. Make  Logistic Regression, Decision Tree, and Random Forest Models (pick your own number of estimators) to classify the last column with 0s and 1s ( mean spam and ham, respectively). Report the accuracies for all three models, both for testing and training. Which model is the winner?\n",
    "(This problem will be graded based on your test accuracy for the winning model)."
   ]
  },
  {
   "cell_type": "code",
   "execution_count": 9,
   "metadata": {
    "scrolled": true
   },
   "outputs": [
    {
     "data": {
      "text/html": [
       "<div>\n",
       "<style scoped>\n",
       "    .dataframe tbody tr th:only-of-type {\n",
       "        vertical-align: middle;\n",
       "    }\n",
       "\n",
       "    .dataframe tbody tr th {\n",
       "        vertical-align: top;\n",
       "    }\n",
       "\n",
       "    .dataframe thead th {\n",
       "        text-align: right;\n",
       "    }\n",
       "</style>\n",
       "<table border=\"1\" class=\"dataframe\">\n",
       "  <thead>\n",
       "    <tr style=\"text-align: right;\">\n",
       "      <th></th>\n",
       "      <th>level_0</th>\n",
       "      <th>level_1</th>\n",
       "      <th>corr</th>\n",
       "    </tr>\n",
       "  </thead>\n",
       "  <tbody>\n",
       "    <tr>\n",
       "      <th>57</th>\n",
       "      <td>57</td>\n",
       "      <td>57</td>\n",
       "      <td>1.000000</td>\n",
       "    </tr>\n",
       "    <tr>\n",
       "      <th>141</th>\n",
       "      <td>57</td>\n",
       "      <td>20</td>\n",
       "      <td>0.383234</td>\n",
       "    </tr>\n",
       "    <tr>\n",
       "      <th>170</th>\n",
       "      <td>57</td>\n",
       "      <td>22</td>\n",
       "      <td>0.334787</td>\n",
       "    </tr>\n",
       "    <tr>\n",
       "      <th>172</th>\n",
       "      <td>57</td>\n",
       "      <td>6</td>\n",
       "      <td>0.332117</td>\n",
       "    </tr>\n",
       "    <tr>\n",
       "      <th>181</th>\n",
       "      <td>57</td>\n",
       "      <td>52</td>\n",
       "      <td>0.323629</td>\n",
       "    </tr>\n",
       "    <tr>\n",
       "      <th>200</th>\n",
       "      <td>57</td>\n",
       "      <td>18</td>\n",
       "      <td>0.273651</td>\n",
       "    </tr>\n",
       "    <tr>\n",
       "      <th>204</th>\n",
       "      <td>57</td>\n",
       "      <td>15</td>\n",
       "      <td>0.263215</td>\n",
       "    </tr>\n",
       "    <tr>\n",
       "      <th>206</th>\n",
       "      <td>57</td>\n",
       "      <td>16</td>\n",
       "      <td>0.263204</td>\n",
       "    </tr>\n",
       "    <tr>\n",
       "      <th>208</th>\n",
       "      <td>57</td>\n",
       "      <td>24</td>\n",
       "      <td>0.256723</td>\n",
       "    </tr>\n",
       "    <tr>\n",
       "      <th>212</th>\n",
       "      <td>57</td>\n",
       "      <td>56</td>\n",
       "      <td>0.249164</td>\n",
       "    </tr>\n",
       "    <tr>\n",
       "      <th>218</th>\n",
       "      <td>57</td>\n",
       "      <td>4</td>\n",
       "      <td>0.241920</td>\n",
       "    </tr>\n",
       "    <tr>\n",
       "      <th>221</th>\n",
       "      <td>57</td>\n",
       "      <td>51</td>\n",
       "      <td>0.241888</td>\n",
       "    </tr>\n",
       "    <tr>\n",
       "      <th>227</th>\n",
       "      <td>57</td>\n",
       "      <td>10</td>\n",
       "      <td>0.234529</td>\n",
       "    </tr>\n",
       "    <tr>\n",
       "      <th>230</th>\n",
       "      <td>57</td>\n",
       "      <td>25</td>\n",
       "      <td>0.232968</td>\n",
       "    </tr>\n",
       "    <tr>\n",
       "      <th>233</th>\n",
       "      <td>57</td>\n",
       "      <td>5</td>\n",
       "      <td>0.232604</td>\n",
       "    </tr>\n",
       "    <tr>\n",
       "      <th>234</th>\n",
       "      <td>57</td>\n",
       "      <td>8</td>\n",
       "      <td>0.231551</td>\n",
       "    </tr>\n",
       "    <tr>\n",
       "      <th>244</th>\n",
       "      <td>57</td>\n",
       "      <td>23</td>\n",
       "      <td>0.216111</td>\n",
       "    </tr>\n",
       "    <tr>\n",
       "      <th>247</th>\n",
       "      <td>57</td>\n",
       "      <td>55</td>\n",
       "      <td>0.216097</td>\n",
       "    </tr>\n",
       "    <tr>\n",
       "      <th>256</th>\n",
       "      <td>57</td>\n",
       "      <td>7</td>\n",
       "      <td>0.206808</td>\n",
       "    </tr>\n",
       "    <tr>\n",
       "      <th>260</th>\n",
       "      <td>57</td>\n",
       "      <td>17</td>\n",
       "      <td>0.204208</td>\n",
       "    </tr>\n",
       "    <tr>\n",
       "      <th>270</th>\n",
       "      <td>57</td>\n",
       "      <td>2</td>\n",
       "      <td>0.196988</td>\n",
       "    </tr>\n",
       "    <tr>\n",
       "      <th>272</th>\n",
       "      <td>57</td>\n",
       "      <td>14</td>\n",
       "      <td>0.195902</td>\n",
       "    </tr>\n",
       "    <tr>\n",
       "      <th>276</th>\n",
       "      <td>57</td>\n",
       "      <td>19</td>\n",
       "      <td>0.189761</td>\n",
       "    </tr>\n",
       "    <tr>\n",
       "      <th>291</th>\n",
       "      <td>57</td>\n",
       "      <td>26</td>\n",
       "      <td>0.183404</td>\n",
       "    </tr>\n",
       "    <tr>\n",
       "      <th>295</th>\n",
       "      <td>57</td>\n",
       "      <td>36</td>\n",
       "      <td>0.178045</td>\n",
       "    </tr>\n",
       "    <tr>\n",
       "      <th>300</th>\n",
       "      <td>57</td>\n",
       "      <td>29</td>\n",
       "      <td>0.171095</td>\n",
       "    </tr>\n",
       "    <tr>\n",
       "      <th>323</th>\n",
       "      <td>57</td>\n",
       "      <td>27</td>\n",
       "      <td>0.158800</td>\n",
       "    </tr>\n",
       "    <tr>\n",
       "      <th>345</th>\n",
       "      <td>57</td>\n",
       "      <td>34</td>\n",
       "      <td>0.149225</td>\n",
       "    </tr>\n",
       "    <tr>\n",
       "      <th>349</th>\n",
       "      <td>57</td>\n",
       "      <td>45</td>\n",
       "      <td>0.146138</td>\n",
       "    </tr>\n",
       "    <tr>\n",
       "      <th>360</th>\n",
       "      <td>57</td>\n",
       "      <td>44</td>\n",
       "      <td>0.140408</td>\n",
       "    </tr>\n",
       "    <tr>\n",
       "      <th>364</th>\n",
       "      <td>57</td>\n",
       "      <td>9</td>\n",
       "      <td>0.138962</td>\n",
       "    </tr>\n",
       "    <tr>\n",
       "      <th>373</th>\n",
       "      <td>57</td>\n",
       "      <td>41</td>\n",
       "      <td>0.136615</td>\n",
       "    </tr>\n",
       "    <tr>\n",
       "      <th>376</th>\n",
       "      <td>57</td>\n",
       "      <td>35</td>\n",
       "      <td>0.136134</td>\n",
       "    </tr>\n",
       "    <tr>\n",
       "      <th>378</th>\n",
       "      <td>57</td>\n",
       "      <td>42</td>\n",
       "      <td>0.135664</td>\n",
       "    </tr>\n",
       "    <tr>\n",
       "      <th>388</th>\n",
       "      <td>57</td>\n",
       "      <td>28</td>\n",
       "      <td>0.133523</td>\n",
       "    </tr>\n",
       "    <tr>\n",
       "      <th>392</th>\n",
       "      <td>57</td>\n",
       "      <td>12</td>\n",
       "      <td>0.132927</td>\n",
       "    </tr>\n",
       "    <tr>\n",
       "      <th>412</th>\n",
       "      <td>57</td>\n",
       "      <td>30</td>\n",
       "      <td>0.126912</td>\n",
       "    </tr>\n",
       "    <tr>\n",
       "      <th>421</th>\n",
       "      <td>57</td>\n",
       "      <td>0</td>\n",
       "      <td>0.126208</td>\n",
       "    </tr>\n",
       "    <tr>\n",
       "      <th>432</th>\n",
       "      <td>57</td>\n",
       "      <td>38</td>\n",
       "      <td>0.122831</td>\n",
       "    </tr>\n",
       "    <tr>\n",
       "      <th>440</th>\n",
       "      <td>57</td>\n",
       "      <td>32</td>\n",
       "      <td>0.119931</td>\n",
       "    </tr>\n",
       "    <tr>\n",
       "      <th>475</th>\n",
       "      <td>57</td>\n",
       "      <td>31</td>\n",
       "      <td>0.114214</td>\n",
       "    </tr>\n",
       "    <tr>\n",
       "      <th>479</th>\n",
       "      <td>57</td>\n",
       "      <td>33</td>\n",
       "      <td>0.112754</td>\n",
       "    </tr>\n",
       "    <tr>\n",
       "      <th>489</th>\n",
       "      <td>57</td>\n",
       "      <td>54</td>\n",
       "      <td>0.109999</td>\n",
       "    </tr>\n",
       "    <tr>\n",
       "      <th>559</th>\n",
       "      <td>57</td>\n",
       "      <td>40</td>\n",
       "      <td>0.097375</td>\n",
       "    </tr>\n",
       "    <tr>\n",
       "      <th>576</th>\n",
       "      <td>57</td>\n",
       "      <td>43</td>\n",
       "      <td>0.094594</td>\n",
       "    </tr>\n",
       "    <tr>\n",
       "      <th>589</th>\n",
       "      <td>57</td>\n",
       "      <td>21</td>\n",
       "      <td>0.091860</td>\n",
       "    </tr>\n",
       "    <tr>\n",
       "      <th>601</th>\n",
       "      <td>57</td>\n",
       "      <td>49</td>\n",
       "      <td>0.089672</td>\n",
       "    </tr>\n",
       "    <tr>\n",
       "      <th>654</th>\n",
       "      <td>57</td>\n",
       "      <td>47</td>\n",
       "      <td>0.084020</td>\n",
       "    </tr>\n",
       "    <tr>\n",
       "      <th>836</th>\n",
       "      <td>57</td>\n",
       "      <td>53</td>\n",
       "      <td>0.065067</td>\n",
       "    </tr>\n",
       "    <tr>\n",
       "      <th>846</th>\n",
       "      <td>57</td>\n",
       "      <td>39</td>\n",
       "      <td>0.064801</td>\n",
       "    </tr>\n",
       "    <tr>\n",
       "      <th>852</th>\n",
       "      <td>57</td>\n",
       "      <td>50</td>\n",
       "      <td>0.064709</td>\n",
       "    </tr>\n",
       "    <tr>\n",
       "      <th>935</th>\n",
       "      <td>57</td>\n",
       "      <td>13</td>\n",
       "      <td>0.060027</td>\n",
       "    </tr>\n",
       "    <tr>\n",
       "      <th>947</th>\n",
       "      <td>57</td>\n",
       "      <td>48</td>\n",
       "      <td>0.059630</td>\n",
       "    </tr>\n",
       "    <tr>\n",
       "      <th>988</th>\n",
       "      <td>57</td>\n",
       "      <td>3</td>\n",
       "      <td>0.057371</td>\n",
       "    </tr>\n",
       "    <tr>\n",
       "      <th>1354</th>\n",
       "      <td>57</td>\n",
       "      <td>46</td>\n",
       "      <td>0.044679</td>\n",
       "    </tr>\n",
       "    <tr>\n",
       "      <th>1865</th>\n",
       "      <td>57</td>\n",
       "      <td>37</td>\n",
       "      <td>0.031035</td>\n",
       "    </tr>\n",
       "    <tr>\n",
       "      <th>1903</th>\n",
       "      <td>57</td>\n",
       "      <td>1</td>\n",
       "      <td>0.030224</td>\n",
       "    </tr>\n",
       "    <tr>\n",
       "      <th>2961</th>\n",
       "      <td>57</td>\n",
       "      <td>11</td>\n",
       "      <td>0.007741</td>\n",
       "    </tr>\n",
       "  </tbody>\n",
       "</table>\n",
       "</div>"
      ],
      "text/plain": [
       "      level_0  level_1      corr\n",
       "57         57       57  1.000000\n",
       "141        57       20  0.383234\n",
       "170        57       22  0.334787\n",
       "172        57        6  0.332117\n",
       "181        57       52  0.323629\n",
       "200        57       18  0.273651\n",
       "204        57       15  0.263215\n",
       "206        57       16  0.263204\n",
       "208        57       24  0.256723\n",
       "212        57       56  0.249164\n",
       "218        57        4  0.241920\n",
       "221        57       51  0.241888\n",
       "227        57       10  0.234529\n",
       "230        57       25  0.232968\n",
       "233        57        5  0.232604\n",
       "234        57        8  0.231551\n",
       "244        57       23  0.216111\n",
       "247        57       55  0.216097\n",
       "256        57        7  0.206808\n",
       "260        57       17  0.204208\n",
       "270        57        2  0.196988\n",
       "272        57       14  0.195902\n",
       "276        57       19  0.189761\n",
       "291        57       26  0.183404\n",
       "295        57       36  0.178045\n",
       "300        57       29  0.171095\n",
       "323        57       27  0.158800\n",
       "345        57       34  0.149225\n",
       "349        57       45  0.146138\n",
       "360        57       44  0.140408\n",
       "364        57        9  0.138962\n",
       "373        57       41  0.136615\n",
       "376        57       35  0.136134\n",
       "378        57       42  0.135664\n",
       "388        57       28  0.133523\n",
       "392        57       12  0.132927\n",
       "412        57       30  0.126912\n",
       "421        57        0  0.126208\n",
       "432        57       38  0.122831\n",
       "440        57       32  0.119931\n",
       "475        57       31  0.114214\n",
       "479        57       33  0.112754\n",
       "489        57       54  0.109999\n",
       "559        57       40  0.097375\n",
       "576        57       43  0.094594\n",
       "589        57       21  0.091860\n",
       "601        57       49  0.089672\n",
       "654        57       47  0.084020\n",
       "836        57       53  0.065067\n",
       "846        57       39  0.064801\n",
       "852        57       50  0.064709\n",
       "935        57       13  0.060027\n",
       "947        57       48  0.059630\n",
       "988        57        3  0.057371\n",
       "1354       57       46  0.044679\n",
       "1865       57       37  0.031035\n",
       "1903       57        1  0.030224\n",
       "2961       57       11  0.007741"
      ]
     },
     "execution_count": 9,
     "metadata": {},
     "output_type": "execute_result"
    }
   ],
   "source": [
    "# Copied from week 10 notebook you posted.\n",
    "\n",
    "correlations = spam.corr().abs() # Absolute value to sort.\n",
    "sort = correlations.unstack().sort_values(kind=\"quicksort\", ascending = False).to_frame(name=\"corr\").reset_index()\n",
    "#unstack changes from matrix to pairs.\n",
    "sort[sort.level_0 == 57]"
   ]
  },
  {
   "cell_type": "markdown",
   "metadata": {},
   "source": [
    "I'm choosing columns 20, 22, 6, and 52 as my independent variables as they are the only ones with a correlation above $0.3$, while there are a lot above $0.1$."
   ]
  },
  {
   "cell_type": "code",
   "execution_count": 10,
   "metadata": {},
   "outputs": [],
   "source": [
    "x = spam[[6,20,22,52]]\n",
    "y = spam[57]\n",
    "    # Dividing the data into testing and training with 80, 20 rule.\n",
    "xtrain, xtest, ytrain, ytest = train_test_split(x, y, test_size=0.2,random_state=69)"
   ]
  },
  {
   "cell_type": "markdown",
   "metadata": {},
   "source": [
    "### Logistic Regression"
   ]
  },
  {
   "cell_type": "code",
   "execution_count": 11,
   "metadata": {
    "scrolled": false
   },
   "outputs": [
    {
     "name": "stdout",
     "output_type": "stream",
     "text": [
      "Optimization terminated successfully.\n",
      "         Current function value: 0.402223\n",
      "         Iterations 9\n",
      "                           Logit Regression Results                           \n",
      "==============================================================================\n",
      "Dep. Variable:                     57   No. Observations:                 3680\n",
      "Model:                          Logit   Df Residuals:                     3675\n",
      "Method:                           MLE   Df Model:                            4\n",
      "Date:                Thu, 04 May 2023   Pseudo R-squ.:                  0.3983\n",
      "Time:                        19:30:04   Log-Likelihood:                -1480.2\n",
      "converged:                       True   LL-Null:                       -2460.0\n",
      "Covariance Type:            nonrobust   LLR p-value:                     0.000\n",
      "==============================================================================\n",
      "                 coef    std err          z      P>|z|      [0.025      0.975]\n",
      "------------------------------------------------------------------------------\n",
      "const         -1.8513      0.061    -30.590      0.000      -1.970      -1.733\n",
      "6              4.7315      0.392     12.067      0.000       3.963       5.500\n",
      "20             0.5004      0.040     12.393      0.000       0.421       0.580\n",
      "22             4.6121      0.491      9.388      0.000       3.649       5.575\n",
      "52             8.1056      0.667     12.158      0.000       6.799       9.412\n",
      "==============================================================================\n"
     ]
    }
   ],
   "source": [
    "spamlog = sm.Logit(ytrain, sm.add_constant(xtrain)).fit()\n",
    "print(spamlog.summary())"
   ]
  },
  {
   "cell_type": "code",
   "execution_count": 12,
   "metadata": {},
   "outputs": [],
   "source": [
    "# Prediction using training data. This prediction compares with ytrain.\n",
    "yltrainpred = round(spamlog.predict(sm.add_constant(xtrain)))\n",
    "\n",
    "# Prediction using testing data. This prediction compares with ytest.\n",
    "yltestpred = round(spamlog.predict(sm.add_constant(xtest)))"
   ]
  },
  {
   "cell_type": "code",
   "execution_count": 13,
   "metadata": {},
   "outputs": [
    {
     "name": "stdout",
     "output_type": "stream",
     "text": [
      "Logistic_Training_Accuracy: 0.8459239130434782\n",
      "Logistic_Training_Confusion_Matrix\n",
      "[[2137  110]\n",
      " [ 457  976]]\n"
     ]
    }
   ],
   "source": [
    "print(\"Logistic_Training_Accuracy:\",metrics.accuracy_score(ytrain, yltrainpred))\n",
    "print(\"Logistic_Training_Confusion_Matrix\")\n",
    "print(confusion_matrix(ytrain, yltrainpred))"
   ]
  },
  {
   "cell_type": "code",
   "execution_count": 14,
   "metadata": {
    "scrolled": true
   },
   "outputs": [
    {
     "name": "stdout",
     "output_type": "stream",
     "text": [
      "Logistic_Testing_Accuracy: 0.8371335504885994\n",
      "Logistic_Testing_Confusion_Matrix\n",
      "[[519  22]\n",
      " [128 252]]\n"
     ]
    }
   ],
   "source": [
    "print(\"Logistic_Testing_Accuracy:\",metrics.accuracy_score(ytest, yltestpred))\n",
    "print(\"Logistic_Testing_Confusion_Matrix\")\n",
    "print(confusion_matrix(ytest, yltestpred))"
   ]
  },
  {
   "cell_type": "markdown",
   "metadata": {},
   "source": [
    "### Decision Tree"
   ]
  },
  {
   "cell_type": "code",
   "execution_count": 15,
   "metadata": {},
   "outputs": [
    {
     "data": {
      "text/html": [
       "<style>#sk-container-id-1 {color: black;background-color: white;}#sk-container-id-1 pre{padding: 0;}#sk-container-id-1 div.sk-toggleable {background-color: white;}#sk-container-id-1 label.sk-toggleable__label {cursor: pointer;display: block;width: 100%;margin-bottom: 0;padding: 0.3em;box-sizing: border-box;text-align: center;}#sk-container-id-1 label.sk-toggleable__label-arrow:before {content: \"▸\";float: left;margin-right: 0.25em;color: #696969;}#sk-container-id-1 label.sk-toggleable__label-arrow:hover:before {color: black;}#sk-container-id-1 div.sk-estimator:hover label.sk-toggleable__label-arrow:before {color: black;}#sk-container-id-1 div.sk-toggleable__content {max-height: 0;max-width: 0;overflow: hidden;text-align: left;background-color: #f0f8ff;}#sk-container-id-1 div.sk-toggleable__content pre {margin: 0.2em;color: black;border-radius: 0.25em;background-color: #f0f8ff;}#sk-container-id-1 input.sk-toggleable__control:checked~div.sk-toggleable__content {max-height: 200px;max-width: 100%;overflow: auto;}#sk-container-id-1 input.sk-toggleable__control:checked~label.sk-toggleable__label-arrow:before {content: \"▾\";}#sk-container-id-1 div.sk-estimator input.sk-toggleable__control:checked~label.sk-toggleable__label {background-color: #d4ebff;}#sk-container-id-1 div.sk-label input.sk-toggleable__control:checked~label.sk-toggleable__label {background-color: #d4ebff;}#sk-container-id-1 input.sk-hidden--visually {border: 0;clip: rect(1px 1px 1px 1px);clip: rect(1px, 1px, 1px, 1px);height: 1px;margin: -1px;overflow: hidden;padding: 0;position: absolute;width: 1px;}#sk-container-id-1 div.sk-estimator {font-family: monospace;background-color: #f0f8ff;border: 1px dotted black;border-radius: 0.25em;box-sizing: border-box;margin-bottom: 0.5em;}#sk-container-id-1 div.sk-estimator:hover {background-color: #d4ebff;}#sk-container-id-1 div.sk-parallel-item::after {content: \"\";width: 100%;border-bottom: 1px solid gray;flex-grow: 1;}#sk-container-id-1 div.sk-label:hover label.sk-toggleable__label {background-color: #d4ebff;}#sk-container-id-1 div.sk-serial::before {content: \"\";position: absolute;border-left: 1px solid gray;box-sizing: border-box;top: 0;bottom: 0;left: 50%;z-index: 0;}#sk-container-id-1 div.sk-serial {display: flex;flex-direction: column;align-items: center;background-color: white;padding-right: 0.2em;padding-left: 0.2em;position: relative;}#sk-container-id-1 div.sk-item {position: relative;z-index: 1;}#sk-container-id-1 div.sk-parallel {display: flex;align-items: stretch;justify-content: center;background-color: white;position: relative;}#sk-container-id-1 div.sk-item::before, #sk-container-id-1 div.sk-parallel-item::before {content: \"\";position: absolute;border-left: 1px solid gray;box-sizing: border-box;top: 0;bottom: 0;left: 50%;z-index: -1;}#sk-container-id-1 div.sk-parallel-item {display: flex;flex-direction: column;z-index: 1;position: relative;background-color: white;}#sk-container-id-1 div.sk-parallel-item:first-child::after {align-self: flex-end;width: 50%;}#sk-container-id-1 div.sk-parallel-item:last-child::after {align-self: flex-start;width: 50%;}#sk-container-id-1 div.sk-parallel-item:only-child::after {width: 0;}#sk-container-id-1 div.sk-dashed-wrapped {border: 1px dashed gray;margin: 0 0.4em 0.5em 0.4em;box-sizing: border-box;padding-bottom: 0.4em;background-color: white;}#sk-container-id-1 div.sk-label label {font-family: monospace;font-weight: bold;display: inline-block;line-height: 1.2em;}#sk-container-id-1 div.sk-label-container {text-align: center;}#sk-container-id-1 div.sk-container {/* jupyter's `normalize.less` sets `[hidden] { display: none; }` but bootstrap.min.css set `[hidden] { display: none !important; }` so we also need the `!important` here to be able to override the default hidden behavior on the sphinx rendered scikit-learn.org. See: https://github.com/scikit-learn/scikit-learn/issues/21755 */display: inline-block !important;position: relative;}#sk-container-id-1 div.sk-text-repr-fallback {display: none;}</style><div id=\"sk-container-id-1\" class=\"sk-top-container\"><div class=\"sk-text-repr-fallback\"><pre>DecisionTreeClassifier()</pre><b>In a Jupyter environment, please rerun this cell to show the HTML representation or trust the notebook. <br />On GitHub, the HTML representation is unable to render, please try loading this page with nbviewer.org.</b></div><div class=\"sk-container\" hidden><div class=\"sk-item\"><div class=\"sk-estimator sk-toggleable\"><input class=\"sk-toggleable__control sk-hidden--visually\" id=\"sk-estimator-id-1\" type=\"checkbox\" checked><label for=\"sk-estimator-id-1\" class=\"sk-toggleable__label sk-toggleable__label-arrow\">DecisionTreeClassifier</label><div class=\"sk-toggleable__content\"><pre>DecisionTreeClassifier()</pre></div></div></div></div></div>"
      ],
      "text/plain": [
       "DecisionTreeClassifier()"
      ]
     },
     "execution_count": 15,
     "metadata": {},
     "output_type": "execute_result"
    }
   ],
   "source": [
    "spamtree = DecisionTreeClassifier()\n",
    "spamtree.fit(xtrain, ytrain)"
   ]
  },
  {
   "cell_type": "code",
   "execution_count": 16,
   "metadata": {},
   "outputs": [],
   "source": [
    "# Prediction using training data. This prediction compares with ytrain.\n",
    "yttrainpred = spamtree.predict(xtrain)\n",
    "\n",
    "# Prediction using testing data. This prediction compares with ytest.\n",
    "yttestpred = spamtree.predict(xtest)"
   ]
  },
  {
   "cell_type": "code",
   "execution_count": 17,
   "metadata": {},
   "outputs": [
    {
     "name": "stdout",
     "output_type": "stream",
     "text": [
      "Decision_Tree_Training_Accuracy: 0.9323369565217391\n",
      "Decision_Tree_Training_Confusion_Matrix\n",
      "[[2223   24]\n",
      " [ 225 1208]]\n"
     ]
    }
   ],
   "source": [
    "print(\"Decision_Tree_Training_Accuracy:\",metrics.accuracy_score(ytrain, yttrainpred))\n",
    "print(\"Decision_Tree_Training_Confusion_Matrix\")\n",
    "print(confusion_matrix(ytrain, yttrainpred))"
   ]
  },
  {
   "cell_type": "code",
   "execution_count": 18,
   "metadata": {},
   "outputs": [
    {
     "name": "stdout",
     "output_type": "stream",
     "text": [
      "Decision_Tree_Testing_Accuracy: 0.8577633007600435\n",
      "Decision_Tree_Testing_Confusion_Matrix\n",
      "[[509  32]\n",
      " [ 99 281]]\n"
     ]
    }
   ],
   "source": [
    "print(\"Decision_Tree_Testing_Accuracy:\",metrics.accuracy_score(ytest, yttestpred))\n",
    "print(\"Decision_Tree_Testing_Confusion_Matrix\")\n",
    "print(confusion_matrix(ytest, yttestpred))"
   ]
  },
  {
   "cell_type": "markdown",
   "metadata": {},
   "source": [
    "### Random Forest"
   ]
  },
  {
   "cell_type": "code",
   "execution_count": 19,
   "metadata": {},
   "outputs": [
    {
     "data": {
      "text/html": [
       "<style>#sk-container-id-2 {color: black;background-color: white;}#sk-container-id-2 pre{padding: 0;}#sk-container-id-2 div.sk-toggleable {background-color: white;}#sk-container-id-2 label.sk-toggleable__label {cursor: pointer;display: block;width: 100%;margin-bottom: 0;padding: 0.3em;box-sizing: border-box;text-align: center;}#sk-container-id-2 label.sk-toggleable__label-arrow:before {content: \"▸\";float: left;margin-right: 0.25em;color: #696969;}#sk-container-id-2 label.sk-toggleable__label-arrow:hover:before {color: black;}#sk-container-id-2 div.sk-estimator:hover label.sk-toggleable__label-arrow:before {color: black;}#sk-container-id-2 div.sk-toggleable__content {max-height: 0;max-width: 0;overflow: hidden;text-align: left;background-color: #f0f8ff;}#sk-container-id-2 div.sk-toggleable__content pre {margin: 0.2em;color: black;border-radius: 0.25em;background-color: #f0f8ff;}#sk-container-id-2 input.sk-toggleable__control:checked~div.sk-toggleable__content {max-height: 200px;max-width: 100%;overflow: auto;}#sk-container-id-2 input.sk-toggleable__control:checked~label.sk-toggleable__label-arrow:before {content: \"▾\";}#sk-container-id-2 div.sk-estimator input.sk-toggleable__control:checked~label.sk-toggleable__label {background-color: #d4ebff;}#sk-container-id-2 div.sk-label input.sk-toggleable__control:checked~label.sk-toggleable__label {background-color: #d4ebff;}#sk-container-id-2 input.sk-hidden--visually {border: 0;clip: rect(1px 1px 1px 1px);clip: rect(1px, 1px, 1px, 1px);height: 1px;margin: -1px;overflow: hidden;padding: 0;position: absolute;width: 1px;}#sk-container-id-2 div.sk-estimator {font-family: monospace;background-color: #f0f8ff;border: 1px dotted black;border-radius: 0.25em;box-sizing: border-box;margin-bottom: 0.5em;}#sk-container-id-2 div.sk-estimator:hover {background-color: #d4ebff;}#sk-container-id-2 div.sk-parallel-item::after {content: \"\";width: 100%;border-bottom: 1px solid gray;flex-grow: 1;}#sk-container-id-2 div.sk-label:hover label.sk-toggleable__label {background-color: #d4ebff;}#sk-container-id-2 div.sk-serial::before {content: \"\";position: absolute;border-left: 1px solid gray;box-sizing: border-box;top: 0;bottom: 0;left: 50%;z-index: 0;}#sk-container-id-2 div.sk-serial {display: flex;flex-direction: column;align-items: center;background-color: white;padding-right: 0.2em;padding-left: 0.2em;position: relative;}#sk-container-id-2 div.sk-item {position: relative;z-index: 1;}#sk-container-id-2 div.sk-parallel {display: flex;align-items: stretch;justify-content: center;background-color: white;position: relative;}#sk-container-id-2 div.sk-item::before, #sk-container-id-2 div.sk-parallel-item::before {content: \"\";position: absolute;border-left: 1px solid gray;box-sizing: border-box;top: 0;bottom: 0;left: 50%;z-index: -1;}#sk-container-id-2 div.sk-parallel-item {display: flex;flex-direction: column;z-index: 1;position: relative;background-color: white;}#sk-container-id-2 div.sk-parallel-item:first-child::after {align-self: flex-end;width: 50%;}#sk-container-id-2 div.sk-parallel-item:last-child::after {align-self: flex-start;width: 50%;}#sk-container-id-2 div.sk-parallel-item:only-child::after {width: 0;}#sk-container-id-2 div.sk-dashed-wrapped {border: 1px dashed gray;margin: 0 0.4em 0.5em 0.4em;box-sizing: border-box;padding-bottom: 0.4em;background-color: white;}#sk-container-id-2 div.sk-label label {font-family: monospace;font-weight: bold;display: inline-block;line-height: 1.2em;}#sk-container-id-2 div.sk-label-container {text-align: center;}#sk-container-id-2 div.sk-container {/* jupyter's `normalize.less` sets `[hidden] { display: none; }` but bootstrap.min.css set `[hidden] { display: none !important; }` so we also need the `!important` here to be able to override the default hidden behavior on the sphinx rendered scikit-learn.org. See: https://github.com/scikit-learn/scikit-learn/issues/21755 */display: inline-block !important;position: relative;}#sk-container-id-2 div.sk-text-repr-fallback {display: none;}</style><div id=\"sk-container-id-2\" class=\"sk-top-container\"><div class=\"sk-text-repr-fallback\"><pre>RandomForestClassifier(n_estimators=420)</pre><b>In a Jupyter environment, please rerun this cell to show the HTML representation or trust the notebook. <br />On GitHub, the HTML representation is unable to render, please try loading this page with nbviewer.org.</b></div><div class=\"sk-container\" hidden><div class=\"sk-item\"><div class=\"sk-estimator sk-toggleable\"><input class=\"sk-toggleable__control sk-hidden--visually\" id=\"sk-estimator-id-2\" type=\"checkbox\" checked><label for=\"sk-estimator-id-2\" class=\"sk-toggleable__label sk-toggleable__label-arrow\">RandomForestClassifier</label><div class=\"sk-toggleable__content\"><pre>RandomForestClassifier(n_estimators=420)</pre></div></div></div></div></div>"
      ],
      "text/plain": [
       "RandomForestClassifier(n_estimators=420)"
      ]
     },
     "execution_count": 19,
     "metadata": {},
     "output_type": "execute_result"
    }
   ],
   "source": [
    "spamforest = RandomForestClassifier(n_estimators=420, bootstrap = True)\n",
    "spamforest.fit(xtrain, ytrain)"
   ]
  },
  {
   "cell_type": "code",
   "execution_count": 20,
   "metadata": {},
   "outputs": [],
   "source": [
    "# Prediction using training data. This prediction compares with ytrain.\n",
    "yftrainpred = spamforest.predict(xtrain)\n",
    "\n",
    "# Prediction using testing data. This prediction compares with ytest.\n",
    "yftestpred = spamforest.predict(xtest)"
   ]
  },
  {
   "cell_type": "code",
   "execution_count": 21,
   "metadata": {},
   "outputs": [
    {
     "name": "stdout",
     "output_type": "stream",
     "text": [
      "Random_Forest_Training_Accuracy: 0.9323369565217391\n",
      "Random_Forest_Training_Confusion_Matrix\n",
      "[[2212   35]\n",
      " [ 214 1219]]\n"
     ]
    }
   ],
   "source": [
    "print(\"Random_Forest_Training_Accuracy:\",metrics.accuracy_score(ytrain, yftrainpred))\n",
    "print(\"Random_Forest_Training_Confusion_Matrix\")\n",
    "print(confusion_matrix(ytrain, yftrainpred))"
   ]
  },
  {
   "cell_type": "code",
   "execution_count": 22,
   "metadata": {},
   "outputs": [
    {
     "name": "stdout",
     "output_type": "stream",
     "text": [
      "Random_Forest_Testing_Accuracy: 0.8642779587404995\n",
      "Random_Forest_Testing_Confusion_Matrix\n",
      "[[504  37]\n",
      " [ 88 292]]\n"
     ]
    }
   ],
   "source": [
    "print(\"Random_Forest_Testing_Accuracy:\",metrics.accuracy_score(ytest, yftestpred))\n",
    "print(\"Random_Forest_Testing_Confusion_Matrix\")\n",
    "print(confusion_matrix(ytest, yftestpred))"
   ]
  },
  {
   "cell_type": "markdown",
   "metadata": {},
   "source": [
    "The Random Forest model just edges out the Decision Tree model as the winner. Their training accuracies are equal, but the Random Forest model has a slightly higher testing accuracy."
   ]
  },
  {
   "cell_type": "markdown",
   "metadata": {},
   "source": [
    "### Problem 2 \n",
    "Continuing with the three models from problem 1, plot the ROC curve for the training and testing both in a graph for each model. This means that you will have to make three plots. Then find the AUC score for the testing and pick the best model you have."
   ]
  },
  {
   "cell_type": "markdown",
   "metadata": {},
   "source": [
    "### Logistic Regression"
   ]
  },
  {
   "cell_type": "code",
   "execution_count": 23,
   "metadata": {},
   "outputs": [
    {
     "data": {
      "image/png": "[encoded data removed]",
      "text/plain": [
       "<Figure size 640x480 with 1 Axes>"
      ]
     },
     "metadata": {},
     "output_type": "display_data"
    }
   ],
   "source": [
    "fpr, tpr, thresholds = roc_curve(ytrain, spamlog.predict(sm.add_constant(xtrain)))\n",
    "plt.figure()\n",
    "plt.plot(fpr, tpr, label='Logistic Regression (area = %0.2f)')\n",
    "plt.plot([0, 1], [0, 1],'r--')\n",
    "plt.xlabel('False Positive Rate')\n",
    "plt.ylabel('True Positive Rate')\n",
    "plt.title('Training Receiver operating characteristic ROC')\n",
    "plt.show()"
   ]
  },
  {
   "cell_type": "code",
   "execution_count": 24,
   "metadata": {},
   "outputs": [
    {
     "data": {
      "image/png": "[encoded data removed]",
      "text/plain": [
       "<Figure size 640x480 with 1 Axes>"
      ]
     },
     "metadata": {},
     "output_type": "display_data"
    }
   ],
   "source": [
    "fpr, tpr, thresholds = roc_curve(ytest, spamlog.predict(sm.add_constant(xtest)))\n",
    "plt.figure()\n",
    "plt.plot(fpr, tpr, label='Logistic Regression (area = %0.2f)')\n",
    "plt.plot([0, 1], [0, 1],'r--')\n",
    "plt.xlabel('False Positive Rate')\n",
    "plt.ylabel('True Positive Rate')\n",
    "plt.title('Testing Receiver operating characteristic ROC')\n",
    "plt.show()"
   ]
  },
  {
   "cell_type": "code",
   "execution_count": 25,
   "metadata": {},
   "outputs": [
    {
     "ename": "NameError",
     "evalue": "name 'yltpred' is not defined",
     "output_type": "error",
     "traceback": [
      "\u001b[1;31m---------------------------------------------------------------------------\u001b[0m",
      "\u001b[1;31mNameError\u001b[0m                                 Traceback (most recent call last)",
      "Input \u001b[1;32mIn [25]\u001b[0m, in \u001b[0;36m<cell line: 1>\u001b[1;34m()\u001b[0m\n\u001b[1;32m----> 1\u001b[0m log_testing_roc_auc \u001b[38;5;241m=\u001b[39m roc_auc_score(ytest, \u001b[43myltpred\u001b[49m)\n\u001b[0;32m      2\u001b[0m log_testing_roc_auc\n",
      "\u001b[1;31mNameError\u001b[0m: name 'yltpred' is not defined"
     ]
    }
   ],
   "source": [
    "log_testing_roc_auc = roc_auc_score(ytest, yltpred)\n",
    "log_testing_roc_auc"
   ]
  },
  {
   "cell_type": "markdown",
   "metadata": {},
   "source": [
    "### Decision Tree"
   ]
  },
  {
   "cell_type": "code",
   "execution_count": null,
   "metadata": {},
   "outputs": [],
   "source": [
    "fpr, tpr, thresholds = roc_curve(ytrain, yttrainpred) # The ytrainpred variable I think is wrong here, as with the other plots.\n",
    "plt.figure()\n",
    "plt.plot(fpr, tpr, label='Decision Tree (area = %0.2f)')\n",
    "plt.plot([0, 1], [0, 1],'r--')\n",
    "plt.xlabel('False Positive Rate')\n",
    "plt.ylabel('True Positive Rate')\n",
    "plt.title('Decision Tree Training Receiver operating characteristic ROC')\n",
    "plt.show()"
   ]
  },
  {
   "cell_type": "code",
   "execution_count": null,
   "metadata": {},
   "outputs": [],
   "source": [
    "fpr, tpr, thresholds = roc_curve(ytest, yttestpred)\n",
    "plt.figure()\n",
    "plt.plot(fpr, tpr, label='Decision Tree (area = %0.2f)')\n",
    "plt.plot([0, 1], [0, 1],'r--')\n",
    "plt.xlabel('False Positive Rate')\n",
    "plt.ylabel('True Positive Rate')\n",
    "plt.title('Decision Tree Testing Receiver operating characteristic ROC')\n",
    "plt.show()"
   ]
  },
  {
   "cell_type": "code",
   "execution_count": null,
   "metadata": {},
   "outputs": [],
   "source": [
    "dtree_testing_roc_auc = roc_auc_score(ytest, yttestpred)\n",
    "dtree_testing_roc_auc"
   ]
  },
  {
   "cell_type": "markdown",
   "metadata": {},
   "source": [
    "### Random Forest"
   ]
  },
  {
   "cell_type": "code",
   "execution_count": null,
   "metadata": {},
   "outputs": [],
   "source": [
    "fpr, tpr, thresholds = roc_curve(ytrain, yftrainpred)\n",
    "plt.figure()\n",
    "plt.plot(fpr, tpr, label='Decision Tree (area = %0.2f)')\n",
    "plt.plot([0, 1], [0, 1],'r--')\n",
    "plt.xlabel('False Positive Rate')\n",
    "plt.ylabel('True Positive Rate')\n",
    "plt.title('Random Forest Training Receiver operating characteristic ROC')\n",
    "plt.show()"
   ]
  },
  {
   "cell_type": "code",
   "execution_count": null,
   "metadata": {},
   "outputs": [],
   "source": [
    "fpr, tpr, thresholds = roc_curve(ytest, yftestpred)\n",
    "plt.figure()\n",
    "plt.plot(fpr, tpr, label='Decision Tree (area = %0.2f)')\n",
    "plt.plot([0, 1], [0, 1],'r--')\n",
    "plt.xlabel('False Positive Rate')\n",
    "plt.ylabel('True Positive Rate')\n",
    "plt.title('Random Forest Testing Receiver operating characteristic ROC')\n",
    "plt.show()"
   ]
  },
  {
   "cell_type": "code",
   "execution_count": null,
   "metadata": {},
   "outputs": [],
   "source": [
    "rf_testing_roc_auc = roc_auc_score(ytest, yftestpred)\n",
    "rf_testing_roc_auc"
   ]
  },
  {
   "cell_type": "markdown",
   "metadata": {},
   "source": [
    "Here the best model is the logistic regression. Its AUC score is the highest at $0.8981004961572138$. Though I think that I did something wrong as the other ROC curves look much different from the log ROC curve."
   ]
  },
  {
   "cell_type": "markdown",
   "metadata": {},
   "source": [
    "### Problme 3\n",
    "Use the original data (after removing null values, if any) but only the variables you selected to use in problem 1. Remove the last column ( dependent variable) with 0s and 1s as you will be using the clustering algorithm here. Train a KMeans clustering model in this problem (no need to split in test and train) and find 4 clusters. The clustering algorithm finds clusters, and you do not need to worry about the accuracy score here (needs more advanced concepts). Find a pair of variables ( x and y) among the ones you used for the KMeans model and plot 4 clusters with four different colors. Try various x and y  before settling on a graph that clearly shows 4 clusters on the graph.  Here is reference material on KMeans from one of the reference textbooks we use. https://jakevdp.github.io/PythonDataScienceHandbook/05.11-k-means.html"
   ]
  },
  {
   "cell_type": "code",
   "execution_count": null,
   "metadata": {},
   "outputs": [],
   "source": [
    "kmeans = KMeans(n_clusters=4)\n",
    "kmeans.fit(x)\n",
    "y_kmeans = kmeans.predict(x)"
   ]
  },
  {
   "cell_type": "code",
   "execution_count": null,
   "metadata": {},
   "outputs": [],
   "source": [
    "X=np.array(x)\n",
    "plt.scatter(X[:, 0], X[:, 1], c=y_kmeans, s=50, cmap='viridis')\n",
    "centers = kmeans.cluster_centers_\n",
    "plt.scatter(centers[:, 0], centers[:, 1], marker = 'x', c='black', s=100, alpha=0.5);"
   ]
  },
  {
   "cell_type": "markdown",
   "metadata": {},
   "source": [
    "### Problem 4\n",
    "Plot the decision boundary from the KMeans algorithm in problem 3. You are separating four clusters by lines in this problem. Some hints are here. https://datascience.stackexchange.com/questions/53918/is-there-a-way-to-put-a-separate-line-between-clusters-for-k-means-clustering"
   ]
  },
  {
   "cell_type": "code",
   "execution_count": null,
   "metadata": {
    "scrolled": false
   },
   "outputs": [],
   "source": [
    "# Step size of the mesh. Decrease to increase the quality of the VQ.\n",
    "h = .02     # point in the mesh [x_min, x_max]x[y_min, y_max].\n",
    "\n",
    "# Plot the decision boundary. For that, we will assign a color to each\n",
    "x_min, x_max = X[:, 0].min() - 1, X[:, 0].max() + 1\n",
    "y_min, y_max = X[:, 1].min() - 1, X[:, 1].max() + 1\n",
    "xx, yy = np.meshgrid(np.arange(x_min, x_max, h), np.arange(y_min, y_max, h))\n",
    "\n",
    "# Obtain labels for each point in mesh. Use last trained model.\n",
    "Z = kmeans.predict(np.c_[xx.ravel(), yy.ravel()])\n",
    "\n",
    "# Put the result into a color plot\n",
    "Z = Z.reshape(xx.shape)\n",
    "plt.figure(1)\n",
    "plt.clf()\n",
    "plt.imshow(Z, interpolation='nearest',\n",
    "       extent=(xx.min(), xx.max(), yy.min(), yy.max()),\n",
    "       cmap=plt.cm.Paired,\n",
    "       aspect='auto', origin='lower')\n",
    "\n",
    "plt.plot(X[:, 0], X[:, 1], 'k.', markersize=2)\n",
    "# Plot the centroids as a white X\n",
    "centroids = kmeans.cluster_centers_\n",
    "plt.scatter(centroids[:, 0], centroids[:, 1],\n",
    "        marker='x', s=169, linewidths=3,\n",
    "        color='w', zorder=10)\n",
    "plt.xlim(x_min, x_max)\n",
    "plt.ylim(y_min, y_max)\n",
    "plt.xticks(())\n",
    "plt.yticks(())\n",
    "plt.show()\n"
   ]
  },
  {
   "cell_type": "markdown",
   "metadata": {},
   "source": [
    "I was unable to edit the code from the provided link to make the decision bondaries for my KMeans model. Above is the uneddited code."
   ]
  },
  {
   "cell_type": "markdown",
   "metadata": {},
   "source": [
    "### Problem 5\n",
    "Use a recent image you took ( colored and square image), apply principal component analysis using only 25% of the principal components, and plot both images side by side. Report the explained variance for each of the blue, green, red channels. Comment on the result and the process."
   ]
  },
  {
   "cell_type": "code",
   "execution_count": null,
   "metadata": {
    "scrolled": false
   },
   "outputs": [],
   "source": [
    "mann = Image.open('Mann.jpg')\n",
    "mann"
   ]
  },
  {
   "cell_type": "code",
   "execution_count": null,
   "metadata": {},
   "outputs": [],
   "source": [
    "data = np.asarray(mann)\n",
    "\n",
    "pca = PCA(50)\n",
    "red, green, blue = cv2.split(data)\n",
    "\n",
    "red_transfromed = pca.fit_transform(red)\n",
    "red_inverted = pca.inverse_transform(red_transfromed)\n",
    "\n",
    "green_transfromed = pca.fit_transform(green)\n",
    "green_inverted = pca.inverse_transform(green_transfromed)\n",
    "\n",
    "blue_transfromed = pca.fit_transform(blue)\n",
    "blue_inverted = pca.inverse_transform(blue_transfromed)"
   ]
  },
  {
   "cell_type": "code",
   "execution_count": null,
   "metadata": {
    "scrolled": true
   },
   "outputs": [],
   "source": [
    "img_compressed = (np.dstack((red_inverted, green_inverted, blue_inverted)))\n",
    "plt.imshow(img_compressed)"
   ]
  },
  {
   "cell_type": "code",
   "execution_count": null,
   "metadata": {},
   "outputs": [],
   "source": [
    "fig, axs = plt.subplots(1, 2, figsize = (10, 10))\n",
    "axs[0].imshow(mann)\n",
    "axs[1].imshow(img_comp)"
   ]
  }
 ],
 "metadata": {
  "kernelspec": {
   "display_name": "Python 3 (ipykernel)",
   "language": "python",
   "name": "python3"
  },
  "language_info": {
   "codemirror_mode": {
    "name": "ipython",
    "version": 3
   },
   "file_extension": ".py",
   "mimetype": "text/x-python",
   "name": "python",
   "nbconvert_exporter": "python",
   "pygments_lexer": "ipython3",
   "version": "3.8.16"
  }
 },
 "nbformat": 4,
 "nbformat_minor": 2
}
